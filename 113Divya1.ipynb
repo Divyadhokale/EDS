{
  "nbformat": 4,
  "nbformat_minor": 0,
  "metadata": {
    "colab": {
      "provenance": []
    },
    "kernelspec": {
      "name": "python3",
      "display_name": "Python 3"
    },
    "language_info": {
      "name": "python"
    }
  },
  "cells": [
    {
      "cell_type": "code",
      "execution_count": null,
      "metadata": {
        "colab": {
          "base_uri": "https://localhost:8080/"
        },
        "id": "pLDcfxYLQcnL",
        "outputId": "668ecd17-c293-4f6a-b5d4-c494c307bb09"
      },
      "outputs": [
        {
          "output_type": "stream",
          "name": "stdout",
          "text": [
            "Welcome to Python\n"
          ]
        }
      ],
      "source": [
        "str1 = \"Welcome to Python\"\n",
        "print(str1)\n"
      ]
    },
    {
      "cell_type": "code",
      "source": [
        "a = 25\n",
        "print(\"a as int:\",a)"
      ],
      "metadata": {
        "colab": {
          "base_uri": "https://localhost:8080/"
        },
        "id": "sz68XSG4S9J-",
        "outputId": "95681044-77f3-424d-eab5-97e0d831e9ac"
      },
      "execution_count": null,
      "outputs": [
        {
          "output_type": "stream",
          "name": "stdout",
          "text": [
            "a as int: 25\n"
          ]
        }
      ]
    },
    {
      "cell_type": "code",
      "source": [
        "b = 548468\n",
        "print(\"b as long:\",b)"
      ],
      "metadata": {
        "colab": {
          "base_uri": "https://localhost:8080/"
        },
        "id": "fxfFk37-TA-V",
        "outputId": "1cd30a5d-8f15-4c69-e073-ae5d36513d66"
      },
      "execution_count": null,
      "outputs": [
        {
          "output_type": "stream",
          "name": "stdout",
          "text": [
            "b as long: 548468\n"
          ]
        }
      ]
    },
    {
      "cell_type": "code",
      "source": [
        "c = 14.25\n",
        "print(\"c as float:\",c)"
      ],
      "metadata": {
        "colab": {
          "base_uri": "https://localhost:8080/"
        },
        "id": "vUR7SLpDTDSd",
        "outputId": "bbafe1c2-6328-4f17-e9fd-0618f59cb0c4"
      },
      "execution_count": null,
      "outputs": [
        {
          "output_type": "stream",
          "name": "stdout",
          "text": [
            "c as float: 14.25\n"
          ]
        }
      ]
    },
    {
      "cell_type": "code",
      "source": [
        "d = 3.14j\n",
        "print(\"d as complex:\",d)"
      ],
      "metadata": {
        "colab": {
          "base_uri": "https://localhost:8080/"
        },
        "id": "JgjROsDATFe8",
        "outputId": "25ec02dd-3c45-483f-abd8-30dc1d172d9b"
      },
      "execution_count": null,
      "outputs": [
        {
          "output_type": "stream",
          "name": "stdout",
          "text": [
            "d as complex: 3.14j\n"
          ]
        }
      ]
    },
    {
      "cell_type": "code",
      "source": [
        "l1 = [15,25.6,\"python\"]\n",
        "print(l1)"
      ],
      "metadata": {
        "colab": {
          "base_uri": "https://localhost:8080/"
        },
        "id": "Cdm_db7WTRPd",
        "outputId": "ff17e958-fa42-4d12-c40e-121623bc50ad"
      },
      "execution_count": null,
      "outputs": [
        {
          "output_type": "stream",
          "name": "stdout",
          "text": [
            "[15, 25.6, 'python']\n"
          ]
        }
      ]
    },
    {
      "cell_type": "code",
      "source": [
        "d1 = {\"Aradhana\":21,\"Prarthana\":22,\"Rugved\":23}\n",
        "print(d1)"
      ],
      "metadata": {
        "colab": {
          "base_uri": "https://localhost:8080/"
        },
        "id": "w2cSG0a2ToBl",
        "outputId": "685bcad1-d139-47d1-a37e-ec004ea86cbd"
      },
      "execution_count": null,
      "outputs": [
        {
          "output_type": "stream",
          "name": "stdout",
          "text": [
            "{'Aradhana': 21, 'Prarthana': 22, 'Rugved': 23}\n"
          ]
        }
      ]
    },
    {
      "cell_type": "code",
      "source": [
        "t1 = (21,\"Python\",21.45)\n",
        "print(t1)"
      ],
      "metadata": {
        "colab": {
          "base_uri": "https://localhost:8080/"
        },
        "id": "jjX-4WPaU3Vl",
        "outputId": "b861dc37-282e-4ade-9f14-9bf4f02dbb47"
      },
      "execution_count": null,
      "outputs": [
        {
          "output_type": "stream",
          "name": "stdout",
          "text": [
            "(21, 'Python', 21.45)\n"
          ]
        }
      ]
    },
    {
      "cell_type": "code",
      "source": [
        "#if statement\n",
        "n1 = int(input())\n",
        "n2 = int(input())\n",
        "n3 = int(input())\n",
        "if n1>n2 and n1>n3:\n",
        "  print(n1,\"is largest\")\n",
        "if n2>n1 and n2>n3:\n",
        "  print(n2,\"is largest\")\n",
        "if n3>n1 and n3>n2:\n",
        "  print(n3,\"is largest\")"
      ],
      "metadata": {
        "colab": {
          "base_uri": "https://localhost:8080/"
        },
        "id": "rMegHv4-Za0w",
        "outputId": "a312da3d-01b8-48ed-db4d-3b41a61ac292"
      },
      "execution_count": null,
      "outputs": [
        {
          "output_type": "stream",
          "name": "stdout",
          "text": [
            "5\n",
            "10\n",
            "6\n",
            "10 is largest\n"
          ]
        }
      ]
    },
    {
      "cell_type": "code",
      "source": [
        "#if-else statement\n",
        "print(\"Enter a number\")\n",
        "num = int(input())\n",
        "if num % 2 == 0:\n",
        "  print(num,\"is even\")\n",
        "else:\n",
        "  print(num,\"is odd\")"
      ],
      "metadata": {
        "id": "BYRjI8MwaH1y",
        "outputId": "bee3e854-e7fe-4c0a-8535-2cd9debef113",
        "colab": {
          "base_uri": "https://localhost:8080/"
        }
      },
      "execution_count": null,
      "outputs": [
        {
          "output_type": "stream",
          "name": "stdout",
          "text": [
            "Enter a number\n",
            "20\n",
            "20 is even\n"
          ]
        }
      ]
    },
    {
      "cell_type": "code",
      "source": [
        "#Nested if\n",
        "n1 = int(input())\n",
        "n2 = int(input())\n",
        "n3 = int(input())\n",
        "if n1>n2:\n",
        "  if n1>n3:\n",
        "    print(n1,\"is largest\")\n",
        "if n2>n1:\n",
        "  if n2>n3:\n",
        "    print(n2,\"is largest\")\n",
        "if n3>n1:\n",
        "  if n3>n2:\n",
        "    print(n3,\"is largest\")\n",
        "    print(\"main area ends\")"
      ],
      "metadata": {
        "id": "a86hNos7aeD7",
        "outputId": "b9b9716c-ea81-4d78-d95b-2759555b0a55",
        "colab": {
          "base_uri": "https://localhost:8080/"
        }
      },
      "execution_count": null,
      "outputs": [
        {
          "name": "stdout",
          "output_type": "stream",
          "text": [
            "10\n",
            "20\n"
          ]
        }
      ]
    },
    {
      "cell_type": "code",
      "source": [
        "#elif\n",
        "weather = input(\"What is the weather today?\")\n",
        "if weather == \"Sunny\":\n",
        "  print(\"It is grat day to go for picnic\")\n",
        "elif weather == \"Cloudy\":\n",
        "  print(\"Don't forget to bring a jacket in case it rains\")\n",
        "elif weather == \"Rainy\":\n",
        "  print(\"Remember to bring an umbrella\")\n",
        "else:\n",
        "  print(\"Sorry,I don't understand that weather condition\")"
      ],
      "metadata": {
        "colab": {
          "base_uri": "https://localhost:8080/"
        },
        "id": "Lc04JHkZbDRt",
        "outputId": "00b71dc3-c233-4033-f4e3-2701b0ccfc04"
      },
      "execution_count": null,
      "outputs": [
        {
          "output_type": "stream",
          "name": "stdout",
          "text": [
            "What is the weather today?cloudy\n",
            "Sorry,I don't understand that weather condition\n"
          ]
        }
      ]
    },
    {
      "cell_type": "code",
      "source": [
        "print(\"enter a value\")\n",
        "num = int(input())\n",
        "sum = 0\n",
        "i = 1\n",
        "while i<=num:\n",
        "  sum = sum+i\n",
        "  i=i+i\n",
        "  print(\"sum\",sum)"
      ],
      "metadata": {
        "id": "MitJkLPWbOid",
        "colab": {
          "base_uri": "https://localhost:8080/"
        },
        "outputId": "5e7a3e9e-0956-40af-b696-f6903002abf4"
      },
      "execution_count": null,
      "outputs": [
        {
          "output_type": "stream",
          "name": "stdout",
          "text": [
            "enter a value\n",
            "5\n",
            "sum 1\n",
            "sum 3\n",
            "sum 7\n"
          ]
        }
      ]
    },
    {
      "cell_type": "code",
      "source": [
        "#loop manipulation\n",
        "i = 1\n",
        "while i<10:\n",
        "  print(\"Welcome\")\n",
        "  i = i+1"
      ],
      "metadata": {
        "colab": {
          "base_uri": "https://localhost:8080/"
        },
        "id": "nRl-rO-acM5v",
        "outputId": "a8d3c9fa-3754-4193-f49f-3640536586c5"
      },
      "execution_count": null,
      "outputs": [
        {
          "output_type": "stream",
          "name": "stdout",
          "text": [
            "Welcome\n",
            "Welcome\n",
            "Welcome\n",
            "Welcome\n",
            "Welcome\n",
            "Welcome\n",
            "Welcome\n",
            "Welcome\n",
            "Welcome\n"
          ]
        }
      ]
    },
    {
      "cell_type": "code",
      "source": [
        "#For loop\n",
        "l1 = [\"C++\",\"Java\",\"Python\"]\n",
        "for i in l1:\n",
        "  print(\"Loop refers to book\",i)"
      ],
      "metadata": {
        "colab": {
          "base_uri": "https://localhost:8080/"
        },
        "id": "pC1upJ15iBTA",
        "outputId": "fc5ebe12-5425-4690-d887-6afb059565e7"
      },
      "execution_count": null,
      "outputs": [
        {
          "output_type": "stream",
          "name": "stdout",
          "text": [
            "Loop refers to book C++\n",
            "Loop refers to book Java\n",
            "Loop refers to book Python\n"
          ]
        }
      ]
    },
    {
      "cell_type": "code",
      "source": [
        "def sayHello():\n",
        "  print(\"Welcome to python\")\n",
        "sayHello()"
      ],
      "metadata": {
        "colab": {
          "base_uri": "https://localhost:8080/"
        },
        "id": "8gK-UaIuikHx",
        "outputId": "ed5e4656-d243-4184-d98a-20bfd48fa30a"
      },
      "execution_count": null,
      "outputs": [
        {
          "output_type": "stream",
          "name": "stdout",
          "text": [
            "Welcome to python\n"
          ]
        }
      ]
    },
    {
      "cell_type": "code",
      "source": [
        "def even():\n",
        "  print(\"Enter a number\")\n",
        "  num = int(input())\n",
        "  if(num%2==0):\n",
        "    print(num,\"is even\")\n",
        "  else:\n",
        "    print(num,\"is odd\")\n",
        "even()"
      ],
      "metadata": {
        "colab": {
          "base_uri": "https://localhost:8080/"
        },
        "id": "YvpSHwHbi6xY",
        "outputId": "c140ff6e-b465-4801-fc92-2d02ea6ed163"
      },
      "execution_count": null,
      "outputs": [
        {
          "output_type": "stream",
          "name": "stdout",
          "text": [
            "Enter a number\n",
            "13\n",
            "13 is odd\n"
          ]
        }
      ]
    },
    {
      "cell_type": "code",
      "source": [
        "def SimpleInterest():\n",
        "  P=int(input())\n",
        "  R=float(input())\n",
        "  T=int(input())\n",
        "  print(\"The Principle is:\",P)\n",
        "  print(\"The rate of interest is:\",R)\n",
        "  print(\"The time period is:\",T)\n",
        "  SI=P*R*T/100\n",
        "  print(\"Simple interest is\",SI)\n",
        "SimpleInterest()"
      ],
      "metadata": {
        "id": "golec_Bfj393",
        "colab": {
          "base_uri": "https://localhost:8080/"
        },
        "outputId": "41224c8d-4c73-496d-fa59-0b5f94530f9a"
      },
      "execution_count": null,
      "outputs": [
        {
          "output_type": "stream",
          "name": "stdout",
          "text": [
            "2000\n",
            "10\n",
            "5\n",
            "The Principle is: 2000\n",
            "The rate of interest is: 10.0\n",
            "The time period is: 5\n",
            "Simple interest is 1000.0\n"
          ]
        }
      ]
    },
    {
      "cell_type": "code",
      "source": [
        "a=10\n",
        "b=True\n",
        "c=16.55\n",
        "d=[10,20,30]\n",
        "print(type(a))\n",
        "print(type(b))\n",
        "print(type(c))\n",
        "print(type(d))"
      ],
      "metadata": {
        "id": "wNHYTdX3kd8U",
        "outputId": "a9633737-3b3f-4af4-dedf-07b9077f5222",
        "colab": {
          "base_uri": "https://localhost:8080/"
        }
      },
      "execution_count": null,
      "outputs": [
        {
          "output_type": "stream",
          "name": "stdout",
          "text": [
            "<class 'int'>\n",
            "<class 'bool'>\n",
            "<class 'float'>\n",
            "<class 'list'>\n"
          ]
        }
      ]
    },
    {
      "cell_type": "code",
      "source": [
        "l1=[\"\",\"\",\"\"]\n",
        "l2=[\"a\",\"\",\"\"]\n",
        "l3=[True,True]\n",
        "l4=[True,False]\n",
        "l5=[False,False]\n",
        "print(all(l1))\n",
        "print(all(l2))\n",
        "print(all(l3))\n",
        "print(all(l4))\n",
        "print(all(l5))"
      ],
      "metadata": {
        "id": "nZAhejBIlGFV",
        "colab": {
          "base_uri": "https://localhost:8080/"
        },
        "outputId": "12aaf0c6-c434-497e-8dea-54950e087d7c"
      },
      "execution_count": null,
      "outputs": [
        {
          "output_type": "stream",
          "name": "stdout",
          "text": [
            "False\n",
            "False\n",
            "True\n",
            "False\n",
            "False\n"
          ]
        }
      ]
    },
    {
      "cell_type": "code",
      "source": [
        "l1=[\"\",\"\",\"\"]\n",
        "l2=[\"a\",\"\",\"\"]\n",
        "l3=[True,True]\n",
        "l4=[True,False]\n",
        "l5=[False,False]\n",
        "print(any(l1))\n",
        "print(any(l2))\n",
        "print(any(l3))\n",
        "print(any(l4))\n",
        "print(any(l5))"
      ],
      "metadata": {
        "colab": {
          "base_uri": "https://localhost:8080/"
        },
        "id": "PM_EwS6KlbLx",
        "outputId": "d53337c2-1436-437e-d819-2a8e67cd60b9"
      },
      "execution_count": null,
      "outputs": [
        {
          "output_type": "stream",
          "name": "stdout",
          "text": [
            "False\n",
            "True\n",
            "True\n",
            "True\n",
            "False\n"
          ]
        }
      ]
    },
    {
      "cell_type": "code",
      "source": [
        "print(callable(type))\n",
        "print(callable(all))\n",
        "print(callable([10,20,30]))\n",
        "print(callable(\"Python\"))"
      ],
      "metadata": {
        "colab": {
          "base_uri": "https://localhost:8080/"
        },
        "id": "EyJNcSAGlm40",
        "outputId": "799360f2-4cc2-4c89-fd80-a742a2dedf72"
      },
      "execution_count": null,
      "outputs": [
        {
          "output_type": "stream",
          "name": "stdout",
          "text": [
            "True\n",
            "True\n",
            "False\n",
            "False\n"
          ]
        }
      ]
    },
    {
      "cell_type": "code",
      "source": [
        "import statistics\n",
        "set1 = [1, 2, 8, 4, 5]\n",
        "print(\"Low Median of the set is\",(statistics.median_low(set1)))"
      ],
      "metadata": {
        "colab": {
          "base_uri": "https://localhost:8080/"
        },
        "id": "1PMfVjJ8mLBa",
        "outputId": "a1b701de-7d9a-4ac9-ad9a-d46bf7a59af4"
      },
      "execution_count": null,
      "outputs": [
        {
          "output_type": "stream",
          "name": "stdout",
          "text": [
            "Low Median of the set is 4\n"
          ]
        }
      ]
    },
    {
      "cell_type": "code",
      "source": [
        "import statistics\n",
        "set1 = [1, 3, 3, 4, 5]\n",
        "print(\"Median of the set is\",(statistics.median_high(set1)))"
      ],
      "metadata": {
        "colab": {
          "base_uri": "https://localhost:8080/"
        },
        "id": "mwONgHjhngQI",
        "outputId": "d8a48f07-3478-44d1-9478-cabc37f89adf"
      },
      "execution_count": null,
      "outputs": [
        {
          "output_type": "stream",
          "name": "stdout",
          "text": [
            "Median of the set is 3\n"
          ]
        }
      ]
    },
    {
      "cell_type": "code",
      "source": [
        "import statistics\n",
        "l1 = [1,2,3,3,2,2,2,1]\n",
        "print(statistics.mean(l1))"
      ],
      "metadata": {
        "colab": {
          "base_uri": "https://localhost:8080/"
        },
        "id": "NjkqPBIioQ3a",
        "outputId": "39364663-42f6-4ded-cf4f-501101ffb3b5"
      },
      "execution_count": null,
      "outputs": [
        {
          "output_type": "stream",
          "name": "stdout",
          "text": [
            "2\n"
          ]
        }
      ]
    },
    {
      "cell_type": "code",
      "source": [
        "from statistics import median\n",
        "t1 = (21,23,45,67)\n",
        "print(median(t1))"
      ],
      "metadata": {
        "colab": {
          "base_uri": "https://localhost:8080/"
        },
        "id": "RTw0avKYorcW",
        "outputId": "c30d055c-48e0-4b81-f7cb-db35870f6dee"
      },
      "execution_count": null,
      "outputs": [
        {
          "output_type": "stream",
          "name": "stdout",
          "text": [
            "34.0\n"
          ]
        }
      ]
    },
    {
      "cell_type": "code",
      "source": [
        "from statistics import mode\n",
        "t1 = (6,6,6,6,3,3,3,3,3,3,3,3,3,3,3,3,4,5,5,5,5,7)\n",
        "print(\"Mode of data set is\" ,(mode(t1)))"
      ],
      "metadata": {
        "colab": {
          "base_uri": "https://localhost:8080/"
        },
        "id": "RNKTMYZkpE5H",
        "outputId": "21745e0e-0b20-41d0-c884-2a2dbeff9964"
      },
      "execution_count": null,
      "outputs": [
        {
          "output_type": "stream",
          "name": "stdout",
          "text": [
            "Mode of data set is 3\n"
          ]
        }
      ]
    },
    {
      "cell_type": "code",
      "source": [
        "from statistics import variance\n",
        "t1 = (1,2,5,4,8,9,12)\n",
        "print(\"Variance of sample1 is %s\",variance(t1))"
      ],
      "metadata": {
        "colab": {
          "base_uri": "https://localhost:8080/"
        },
        "id": "JRiKixvUp16s",
        "outputId": "1bf8d531-531e-41e5-ddd4-51c7df4f73c8"
      },
      "execution_count": null,
      "outputs": [
        {
          "output_type": "stream",
          "name": "stdout",
          "text": [
            "Variance of sample1 is %s 15.80952380952381\n"
          ]
        }
      ]
    },
    {
      "cell_type": "code",
      "source": [
        "from statistics import stdev\n",
        "s1 = (1,2,5,4,8,9,12)\n",
        "print(\"The Standard Deviation of sample1 is %s\",stdev(s1))"
      ],
      "metadata": {
        "colab": {
          "base_uri": "https://localhost:8080/"
        },
        "id": "AlD92IMHvsou",
        "outputId": "794c1030-eac6-4ac6-afeb-c0df65350019"
      },
      "execution_count": null,
      "outputs": [
        {
          "output_type": "stream",
          "name": "stdout",
          "text": [
            "The Standard Deviation of sample1 is %s 3.9761191895520196\n"
          ]
        }
      ]
    },
    {
      "cell_type": "code",
      "source": [
        "arr = [1,2,3,4,5]\n",
        "Maximum = max(arr)\n",
        "Minimum = min(arr)\n",
        "Range = Maximum - Minimum\n",
        "print(\"Maximum = {},Minimum = {} and Range = {}\".format(Maximum,Minimum,Range))"
      ],
      "metadata": {
        "colab": {
          "base_uri": "https://localhost:8080/"
        },
        "id": "a27SszG-wHp4",
        "outputId": "e88f19a1-9e8a-4bd0-f85b-c3455ce84b5e"
      },
      "execution_count": null,
      "outputs": [
        {
          "output_type": "stream",
          "name": "stdout",
          "text": [
            "Maximum = 5,Minimum = 1 and Range = 4\n"
          ]
        }
      ]
    },
    {
      "cell_type": "code",
      "source": [
        "l1 = [10,20,\"Python\",94.2,314]\n",
        "l1.append(21)\n",
        "print(l1)"
      ],
      "metadata": {
        "colab": {
          "base_uri": "https://localhost:8080/"
        },
        "id": "8BGahaZVyPD2",
        "outputId": "10511134-3a46-4e8c-a7c8-9aa834f9dc32"
      },
      "execution_count": null,
      "outputs": [
        {
          "output_type": "stream",
          "name": "stdout",
          "text": [
            "[10, 20, 'Python', 94.2, 314, 21]\n"
          ]
        }
      ]
    },
    {
      "cell_type": "code",
      "source": [
        "l1 = [\"Python\",\"Java\",\"Essentials of data science\"]\n",
        "print(l1)\n",
        "l1.insert(2,\"Hadoop\")\n",
        "print(l1)"
      ],
      "metadata": {
        "colab": {
          "base_uri": "https://localhost:8080/"
        },
        "id": "ugEIX46fywcD",
        "outputId": "fa870a09-c412-4534-cee5-9bd405982c61"
      },
      "execution_count": null,
      "outputs": [
        {
          "output_type": "stream",
          "name": "stdout",
          "text": [
            "['Python', 'Java', 'Essentials of data science']\n",
            "['Python', 'Java', 'Hadoop', 'Essentials of data science']\n"
          ]
        }
      ]
    },
    {
      "cell_type": "code",
      "source": [
        "l1 = [10,20,30]\n",
        "l2 = [15,35,45,55]\n",
        "l1.extend(l2)\n",
        "print(l1)"
      ],
      "metadata": {
        "colab": {
          "base_uri": "https://localhost:8080/"
        },
        "id": "6jGhNTw5znw-",
        "outputId": "9742f279-6db4-46fe-e187-aff235c18c95"
      },
      "execution_count": null,
      "outputs": [
        {
          "output_type": "stream",
          "name": "stdout",
          "text": [
            "[10, 20, 30, 15, 35, 45, 55]\n"
          ]
        }
      ]
    },
    {
      "cell_type": "code",
      "source": [
        "l1 = [485,21.344,\"Python\",25678]\n",
        "a = l1.__len__()\n",
        "print(a)"
      ],
      "metadata": {
        "colab": {
          "base_uri": "https://localhost:8080/"
        },
        "id": "whjzE7920WW-",
        "outputId": "101b94de-4651-4707-ac71-37f9d3cbc6dd"
      },
      "execution_count": null,
      "outputs": [
        {
          "output_type": "stream",
          "name": "stdout",
          "text": [
            "4\n"
          ]
        }
      ]
    },
    {
      "cell_type": "code",
      "source": [
        "from google.colab import drive\n",
        "drive.mount('/content/drive')"
      ],
      "metadata": {
        "colab": {
          "base_uri": "https://localhost:8080/"
        },
        "id": "EWp9QZ9cfRRv",
        "outputId": "845c89ac-037e-4f65-a2aa-c5e19b7c5700"
      },
      "execution_count": null,
      "outputs": [
        {
          "output_type": "stream",
          "name": "stdout",
          "text": [
            "Mounted at /content/drive\n"
          ]
        }
      ]
    },
    {
      "cell_type": "code",
      "execution_count": null,
      "metadata": {
        "colab": {
          "base_uri": "https://localhost:8080/"
        },
        "id": "S2CQtNjPA6u-",
        "outputId": "3fc6b044-856e-4aea-86cb-d055c26937c4"
      },
      "outputs": [
        {
          "output_type": "stream",
          "name": "stdout",
          "text": [
            "(10, 20, 30, 'Python', 15.71)\n",
            "(80.87, 21, 'Durwa')\n"
          ]
        }
      ],
      "source": [
        "t1 = (10,20,30,\"Python\",15.71)\n",
        "t2 = (80.87,21,\"Durwa\")\n",
        "print(t1)\n",
        "print(t2)"
      ]
    },
    {
      "cell_type": "code",
      "source": [
        "t1 = (10,20,30,\"Python\",15.71)\n",
        "t2 = (80.87,21,\"Durwa\")\n",
        "print(t1[0])\n",
        "print(t1[-1])\n",
        "print(t1[-2])"
      ],
      "metadata": {
        "colab": {
          "base_uri": "https://localhost:8080/"
        },
        "id": "iVLwuBr4J4Rn",
        "outputId": "92257d09-6cda-4874-9d16-0f998d6bba15"
      },
      "execution_count": null,
      "outputs": [
        {
          "output_type": "stream",
          "name": "stdout",
          "text": [
            "10\n",
            "15.71\n",
            "Python\n"
          ]
        }
      ]
    },
    {
      "cell_type": "code",
      "source": [
        "t1 = (10,20,30,\"Python\",15.71)\n",
        "for i in t1:\n",
        "  print(i)"
      ],
      "metadata": {
        "colab": {
          "base_uri": "https://localhost:8080/"
        },
        "id": "r_Ay0HMSKWgo",
        "outputId": "0cb368cd-298c-4db8-ffe1-98d629ddec1b"
      },
      "execution_count": null,
      "outputs": [
        {
          "output_type": "stream",
          "name": "stdout",
          "text": [
            "10\n",
            "20\n",
            "30\n",
            "Python\n",
            "15.71\n"
          ]
        }
      ]
    },
    {
      "cell_type": "code",
      "source": [
        "t1 = (10,20,30,\"Python\",15.71)\n",
        "st1 = t1[1:4]\n",
        "str2 = t1 + (50,60)\n",
        "str3 = t1.__len__()\n",
        "print(st1)\n",
        "print(str2)\n",
        "print(str3)"
      ],
      "metadata": {
        "colab": {
          "base_uri": "https://localhost:8080/"
        },
        "id": "kZj90LWzKvEq",
        "outputId": "a3067050-296b-4ec0-a382-f5de7d690796"
      },
      "execution_count": null,
      "outputs": [
        {
          "output_type": "stream",
          "name": "stdout",
          "text": [
            "(20, 30, 'Python')\n",
            "(10, 20, 30, 'Python', 15.71, 50, 60)\n",
            "5\n"
          ]
        }
      ]
    },
    {
      "cell_type": "code",
      "source": [
        "t1 = (10,20,30,\"Python\",15.71)\n",
        "print(10 in t1)\n",
        "print(10 not in t1)"
      ],
      "metadata": {
        "colab": {
          "base_uri": "https://localhost:8080/"
        },
        "id": "yslJdNuqK-uO",
        "outputId": "a5224a8e-2ec6-40b2-fe48-607ea03b6d51"
      },
      "execution_count": null,
      "outputs": [
        {
          "output_type": "stream",
          "name": "stdout",
          "text": [
            "True\n",
            "False\n"
          ]
        }
      ]
    },
    {
      "cell_type": "code",
      "source": [
        "t1 = (10,20,30,\"Python\",15.71)\n",
        "t2 = (80.87,21,\"Durwa\")\n",
        "t3 = t1 + t2\n",
        "t4 = t1*3\n",
        "print(t3)\n",
        "print(t4)"
      ],
      "metadata": {
        "colab": {
          "base_uri": "https://localhost:8080/"
        },
        "id": "lzvv4fyUL3mo",
        "outputId": "aa38ff42-bc71-40fe-c811-a7c87b474ccf"
      },
      "execution_count": null,
      "outputs": [
        {
          "output_type": "stream",
          "name": "stdout",
          "text": [
            "(10, 20, 30, 'Python', 15.71, 80.87, 21, 'Durwa')\n",
            "(10, 20, 30, 'Python', 15.71, 10, 20, 30, 'Python', 15.71, 10, 20, 30, 'Python', 15.71)\n"
          ]
        }
      ]
    },
    {
      "cell_type": "code",
      "source": [
        "t1 = (10,20,30,\"Python\",15.71)\n",
        "t2 = (80.87,21,\"Durwa\")\n",
        "del t1\n",
        "print(t2)"
      ],
      "metadata": {
        "colab": {
          "base_uri": "https://localhost:8080/"
        },
        "id": "sNH5FNaxMe0V",
        "outputId": "04bbfada-f732-4485-d9ef-780c413e096c"
      },
      "execution_count": null,
      "outputs": [
        {
          "output_type": "stream",
          "name": "stdout",
          "text": [
            "(80.87, 21, 'Durwa')\n"
          ]
        }
      ]
    },
    {
      "cell_type": "code",
      "source": [
        "#Dictionary operations\n",
        "dict1 = {\"ABC\":2472023,\"EDF\":89}\n",
        "print(dict1)\n",
        "print(dict1.keys())\n",
        "print(dict1.values())\n",
        "dict1.update({\"SCE\":892022})\n",
        "print(dict1)\n",
        "a = dict1.__len__()\n",
        "print(a)\n",
        "dict1.pop(\"SCE\")\n",
        "print(dict1)"
      ],
      "metadata": {
        "colab": {
          "base_uri": "https://localhost:8080/"
        },
        "id": "vAjUgi7GZq9h",
        "outputId": "2313f7bf-d3ea-4fca-fdb0-81a867bd028a"
      },
      "execution_count": null,
      "outputs": [
        {
          "output_type": "stream",
          "name": "stdout",
          "text": [
            "{'ABC': 2472023, 'EDF': 89}\n",
            "dict_keys(['ABC', 'EDF'])\n",
            "dict_values([2472023, 89])\n",
            "{'ABC': 2472023, 'EDF': 89, 'SCE': 892022}\n",
            "3\n",
            "{'ABC': 2472023, 'EDF': 89}\n"
          ]
        }
      ]
    },
    {
      "cell_type": "code",
      "source": [
        "import pandas as pd\n",
        "df = pd.read_csv('/content/sell file.csv')\n",
        "print(df.values.tolist())"
      ],
      "metadata": {
        "colab": {
          "base_uri": "https://localhost:8080/"
        },
        "id": "cLzy_I1aonjo",
        "outputId": "a1188640-4167-4a30-9c07-64e8ebc79af5"
      },
      "execution_count": null,
      "outputs": [
        {
          "output_type": "stream",
          "name": "stdout",
          "text": [
            "[[nan, nan, nan, nan, nan, nan], ['MS1001', 'Item1', 150.0, 125.0, 25.0, '40,000'], ['MS1002', 'Item2', 155.0, 120.0, 35.0, '40,000'], ['MS1003', 'Item3', 160.0, 130.0, 30.0, '42,000'], ['MS1004', 'Item4', 165.0, 140.0, 25.0, '43,000'], ['MS1005', 'Item5', 170.0, 130.0, 50.0, '44,000'], ['MS1006', 'Item6', 160.0, 150.0, 10.0, '45,000'], ['MS1007', 'Item7', 120.0, 90.0, 30.0, '46,000'], ['MS1008', 'Item8', 130.0, 110.0, 20.0, '47,000'], ['MS1009', 'Item9', 145.0, 124.0, 21.0, '48,000'], ['MS1010', 'Item10', 150.0, 125.0, 25.0, '49,000'], ['MS1011', 'Item11', 190.0, 150.0, 40.0, '50,000'], ['MS1012', 'Item12', 140.0, 120.0, 20.0, '51,000'], ['MS1013', 'Item13', 200.0, 100.0, 100.0, '55,000'], ['MS1014', 'Item14', 230.0, 210.0, 20.0, '56,000'], ['MS1015', 'Item15', 220.0, 190.0, 30.0, '20,000'], ['MS1016', 'Item16', 235.0, 200.0, 35.0, '21,000'], ['MS1017', 'Item17', 195.0, 190.0, 5.0, '55,000'], ['MS1018', 'Item18', 190.0, 180.0, 10.0, '60,000'], ['MS1019', 'Item19', 185.0, 180.0, 5.0, '66,000'], ['MS1020', 'Item20', 250.0, 200.0, 50.0, '70,000']]\n"
          ]
        }
      ]
    },
    {
      "cell_type": "code",
      "source": [
        "s1 = {10,20,30}\n",
        "for i in s1:\n",
        "  print(s1)"
      ],
      "metadata": {
        "colab": {
          "base_uri": "https://localhost:8080/"
        },
        "id": "zIGfPE59FS1b",
        "outputId": "a16892ab-c12f-423e-be78-00f91cf7f2c4"
      },
      "execution_count": null,
      "outputs": [
        {
          "output_type": "stream",
          "name": "stdout",
          "text": [
            "{10, 20, 30}\n",
            "{10, 20, 30}\n",
            "{10, 20, 30}\n"
          ]
        }
      ]
    },
    {
      "cell_type": "code",
      "source": [
        "s1 = {10,20,30}\n",
        "for i in s1:\n",
        "  print(i)"
      ],
      "metadata": {
        "colab": {
          "base_uri": "https://localhost:8080/"
        },
        "id": "O9WbcLFxLHlM",
        "outputId": "c8036214-732f-48c9-89c0-79c0ddd31d51"
      },
      "execution_count": null,
      "outputs": [
        {
          "output_type": "stream",
          "name": "stdout",
          "text": [
            "10\n",
            "20\n",
            "30\n"
          ]
        }
      ]
    },
    {
      "cell_type": "code",
      "source": [
        "a = {10,20,30}\n",
        "print(a)"
      ],
      "metadata": {
        "colab": {
          "base_uri": "https://localhost:8080/"
        },
        "id": "B1PCDnY_LOEA",
        "outputId": "650c8c38-379a-4613-9452-67f4910e783c"
      },
      "execution_count": null,
      "outputs": [
        {
          "output_type": "stream",
          "name": "stdout",
          "text": [
            "{10, 20, 30}\n"
          ]
        }
      ]
    },
    {
      "cell_type": "code",
      "source": [
        "s1 = {10,20,30}\n",
        "s1.add(5)\n",
        "print(s1)"
      ],
      "metadata": {
        "colab": {
          "base_uri": "https://localhost:8080/"
        },
        "id": "17XiWilJLbSX",
        "outputId": "22f33a0e-2386-4dda-d19e-aa93db431564"
      },
      "execution_count": null,
      "outputs": [
        {
          "output_type": "stream",
          "name": "stdout",
          "text": [
            "{10, 20, 5, 30}\n"
          ]
        }
      ]
    },
    {
      "cell_type": "code",
      "source": [
        "s1 = {10,20,30}\n",
        "s1.update((7,1,8))\n",
        "print(s1)"
      ],
      "metadata": {
        "colab": {
          "base_uri": "https://localhost:8080/"
        },
        "id": "pd41JmO0Lo8Q",
        "outputId": "c0f5eb84-4b39-489d-ff6b-a9912fca8554"
      },
      "execution_count": null,
      "outputs": [
        {
          "output_type": "stream",
          "name": "stdout",
          "text": [
            "{1, 7, 8, 10, 20, 30}\n"
          ]
        }
      ]
    },
    {
      "cell_type": "code",
      "source": [
        "s1 = {2,3,4,6}\n",
        "s1.discard(2)\n",
        "print(s1)"
      ],
      "metadata": {
        "colab": {
          "base_uri": "https://localhost:8080/"
        },
        "id": "0CmaNAl-MV63",
        "outputId": "90654d0d-cc34-4fd6-f131-7c0565a2cfc5"
      },
      "execution_count": null,
      "outputs": [
        {
          "output_type": "stream",
          "name": "stdout",
          "text": [
            "{3, 4, 6}\n"
          ]
        }
      ]
    },
    {
      "cell_type": "code",
      "source": [
        "t1 = {1,2,3,4,8}\n",
        "t2 = {5,6,7,8}\n",
        "c1 = t1|t2\n",
        "i1 = t1 & t2\n",
        "a1 = t1 - t2\n",
        "print(c1)\n",
        "print(i1)\n",
        "print(a1)"
      ],
      "metadata": {
        "colab": {
          "base_uri": "https://localhost:8080/"
        },
        "id": "zXyBgfZbMtKT",
        "outputId": "b5cc5ddf-4922-4496-e71c-af907478e2fd"
      },
      "execution_count": null,
      "outputs": [
        {
          "output_type": "stream",
          "name": "stdout",
          "text": [
            "{1, 2, 3, 4, 5, 6, 7, 8}\n",
            "{8}\n",
            "{1, 2, 3, 4}\n"
          ]
        }
      ]
    },
    {
      "cell_type": "code",
      "source": [
        "t1 = {10,20,30,70,60,1,15,11,2003,12}\n",
        "t2 = {50,1,11,2003,60,70}\n",
        "i1 = t1 ^ t2\n",
        "print(i1)"
      ],
      "metadata": {
        "colab": {
          "base_uri": "https://localhost:8080/"
        },
        "id": "HQ2bX1bGNCbD",
        "outputId": "f35636c3-00ed-4745-abc7-9fb8fbe1b2a6"
      },
      "execution_count": null,
      "outputs": [
        {
          "output_type": "stream",
          "name": "stdout",
          "text": [
            "{10, 12, 15, 50, 20, 30}\n"
          ]
        }
      ]
    },
    {
      "cell_type": "code",
      "source": [
        "s1 = {10,20,30,40}\n",
        "s1.clear()\n",
        "print(s1)"
      ],
      "metadata": {
        "colab": {
          "base_uri": "https://localhost:8080/"
        },
        "id": "OKBYT8bIOVMK",
        "outputId": "5f3bd315-4f69-4f2a-9e2d-c7e50adccd08"
      },
      "execution_count": null,
      "outputs": [
        {
          "output_type": "stream",
          "name": "stdout",
          "text": [
            "set()\n"
          ]
        }
      ]
    },
    {
      "cell_type": "code",
      "source": [
        "import numpy as np\n",
        "arr = np.array([1,2,3,4,5])\n",
        "x = arr.copy()\n",
        "y = arr.view()\n",
        "arr[1] = 42\n",
        "arr[0]\n",
        "print(arr)\n",
        "print(x)\n",
        "print(y)"
      ],
      "metadata": {
        "colab": {
          "base_uri": "https://localhost:8080/"
        },
        "id": "0lkhiDfgeOkA",
        "outputId": "5cd7a0ae-9740-4698-90e1-0c9fff0bc478"
      },
      "execution_count": null,
      "outputs": [
        {
          "output_type": "stream",
          "name": "stdout",
          "text": [
            "[ 1 42  3  4  5]\n",
            "[1 2 3 4 5]\n",
            "[ 1 42  3  4  5]\n"
          ]
        }
      ]
    },
    {
      "cell_type": "code",
      "source": [
        "import numpy as np\n",
        "x = np.array([[1,2], [4,5]])\n",
        "y = np.array([[6,7], [9,10]])\n",
        "print(\"Addition of matrix\")\n",
        "print(np.add(x,y))\n",
        "\n",
        "print(\"Substraction of matrix\")\n",
        "print(np.subtract(x,y))"
      ],
      "metadata": {
        "colab": {
          "base_uri": "https://localhost:8080/"
        },
        "id": "fDXVynz1fLx3",
        "outputId": "2ae28bef-b731-409c-b6a2-d830f65882b1"
      },
      "execution_count": null,
      "outputs": [
        {
          "output_type": "stream",
          "name": "stdout",
          "text": [
            "Addition of matrix\n",
            "[[ 7  9]\n",
            " [13 15]]\n",
            "Substraction of matrix\n",
            "[[-5 -5]\n",
            " [-5 -5]]\n"
          ]
        }
      ]
    },
    {
      "cell_type": "code",
      "source": [
        "l1 = np.matrix('1,2,3 ; 4,5,6 ; 7,8,9')\n",
        "a = np.array(l1)\n",
        "print(a)\n",
        "print(a.T)"
      ],
      "metadata": {
        "colab": {
          "base_uri": "https://localhost:8080/"
        },
        "id": "9fvEeuzjgdRx",
        "outputId": "7568e583-bfa7-491b-a252-3c3d8247acc5"
      },
      "execution_count": null,
      "outputs": [
        {
          "output_type": "stream",
          "name": "stdout",
          "text": [
            "[[1 2 3]\n",
            " [4 5 6]\n",
            " [7 8 9]]\n",
            "[[1 4 7]\n",
            " [2 5 8]\n",
            " [3 6 9]]\n"
          ]
        }
      ]
    },
    {
      "cell_type": "code",
      "source": [
        "import json\n",
        "emp_dict={\n",
        "    \"ERP\":\"YOU\", 9:\"ERP\", 8.9:\"Python\"\n",
        "}\n",
        "print(emp_dict)"
      ],
      "metadata": {
        "colab": {
          "base_uri": "https://localhost:8080/"
        },
        "id": "t05xpFZdg4-o",
        "outputId": "5157b8d4-c461-4e6c-b346-1d80ae701b72"
      },
      "execution_count": null,
      "outputs": [
        {
          "output_type": "stream",
          "name": "stdout",
          "text": [
            "{'ERP': 'YOU', 9: 'ERP', 8.9: 'Python'}\n"
          ]
        }
      ]
    },
    {
      "cell_type": "code",
      "source": [
        "def outer():\n",
        "  print(\"outer function\")\n",
        "\n",
        "  def inner():\n",
        "    print(\"inner function\")\n",
        "\n",
        "  inner()\n",
        "\n",
        "outer()"
      ],
      "metadata": {
        "colab": {
          "base_uri": "https://localhost:8080/"
        },
        "id": "3qCRe8bLhfFX",
        "outputId": "bab54da7-ee38-4c84-a02c-af757c61cedb"
      },
      "execution_count": null,
      "outputs": [
        {
          "output_type": "stream",
          "name": "stdout",
          "text": [
            "outer function\n",
            "inner function\n"
          ]
        }
      ]
    },
    {
      "cell_type": "code",
      "source": [
        "def add():\n",
        "  a=10\n",
        "  b=20\n",
        "  c=a+b\n",
        "  print(c)\n",
        "\n",
        "  def sub():\n",
        "    a=30\n",
        "    b=10\n",
        "    c=a-b\n",
        "    print(c)\n",
        "  sub()\n",
        "add()"
      ],
      "metadata": {
        "colab": {
          "base_uri": "https://localhost:8080/"
        },
        "id": "aQmFW-Cih-_f",
        "outputId": "a4ef68c1-f288-44e3-b3f4-eb7a49e77ecc"
      },
      "execution_count": null,
      "outputs": [
        {
          "output_type": "stream",
          "name": "stdout",
          "text": [
            "30\n",
            "20\n"
          ]
        }
      ]
    },
    {
      "cell_type": "code",
      "source": [
        "import json\n",
        "x = {\n",
        "    \"x\":\"10\",\n",
        "    \"y\":56,\n",
        "    \"z\":\"Python\"\n",
        "}\n",
        "y = json.dumps(x)\n",
        "print(y)"
      ],
      "metadata": {
        "colab": {
          "base_uri": "https://localhost:8080/"
        },
        "id": "FoH4CJBGi2Zo",
        "outputId": "ca24af31-7fd2-44d1-fbba-cb10df13aeb6"
      },
      "execution_count": null,
      "outputs": [
        {
          "output_type": "stream",
          "name": "stdout",
          "text": [
            "{\"x\": \"10\", \"y\": 56, \"z\": \"Python\"}\n"
          ]
        }
      ]
    },
    {
      "cell_type": "code",
      "source": [
        "def get_cube(num):\n",
        "  return num*num*num\n",
        "print(get_cube(5))\n",
        "\n",
        "res = lambda num:num*num*num\n",
        "print(res(5))"
      ],
      "metadata": {
        "colab": {
          "base_uri": "https://localhost:8080/"
        },
        "id": "g5rMFcLwjovn",
        "outputId": "686245e7-08fb-44c6-b100-161f8a43b6d3"
      },
      "execution_count": null,
      "outputs": [
        {
          "output_type": "stream",
          "name": "stdout",
          "text": [
            "125\n",
            "125\n"
          ]
        }
      ]
    },
    {
      "cell_type": "code",
      "source": [
        "from datetime import date\n",
        "today = date.today()\n",
        "print(today)"
      ],
      "metadata": {
        "colab": {
          "base_uri": "https://localhost:8080/"
        },
        "id": "vvr7-JMUbQ0L",
        "outputId": "0267d254-0c54-4875-b78a-1250c69f334c"
      },
      "execution_count": null,
      "outputs": [
        {
          "output_type": "stream",
          "name": "stdout",
          "text": [
            "2023-05-02\n"
          ]
        }
      ]
    },
    {
      "cell_type": "code",
      "source": [
        "import datetime\n",
        "current_time = datetime.datetime.now()\n",
        "print(\"The atrributes of now() are: \")\n",
        "print(\"Year: \",end = \"\")\n",
        "print(current_time.year)\n",
        "print(\"Month: \",end = \"\")\n",
        "print(current_time.month)\n",
        "print(\"Day: \",end = \"\")\n",
        "print(current_time.day)"
      ],
      "metadata": {
        "colab": {
          "base_uri": "https://localhost:8080/"
        },
        "id": "Ai365C7chUS2",
        "outputId": "e11e889a-760a-45f7-d7a6-465ea9c82e7d"
      },
      "execution_count": null,
      "outputs": [
        {
          "output_type": "stream",
          "name": "stdout",
          "text": [
            "The atrributes of now() are: \n",
            "Year: 2023\n",
            "Month: 5\n",
            "Day: 2\n"
          ]
        }
      ]
    },
    {
      "cell_type": "code",
      "source": [
        "from datetime import date\n",
        "def calculateAge(dob):\n",
        "  today = date.today()\n",
        "  age = today.year - dob.year - ((today.month,today.day)< (dob.month,dob.day))\n",
        "  return age\n",
        "print(calculateAge(date(2004,9,26)),\"years old\")"
      ],
      "metadata": {
        "colab": {
          "base_uri": "https://localhost:8080/"
        },
        "id": "9mU9wtd8moK5",
        "outputId": "fa143897-1d9a-4856-e2fc-faf1f622f925"
      },
      "execution_count": null,
      "outputs": [
        {
          "output_type": "stream",
          "name": "stdout",
          "text": [
            "18 years old\n"
          ]
        }
      ]
    },
    {
      "cell_type": "code",
      "source": [
        "import pandas as pd\n",
        "def t(l):\n",
        "  return l*10\n",
        "l = [1,2,3,4,5]\n",
        "df = pd.DataFrame(l)\n",
        "newdf = df.transform(t)\n",
        "print(newdf)"
      ],
      "metadata": {
        "colab": {
          "base_uri": "https://localhost:8080/"
        },
        "id": "Nd5XUvdclUL4",
        "outputId": "bcdc5130-2dd8-4488-ae20-7f59ceb7c376"
      },
      "execution_count": null,
      "outputs": [
        {
          "output_type": "stream",
          "name": "stdout",
          "text": [
            "    0\n",
            "0  10\n",
            "1  20\n",
            "2  30\n",
            "3  40\n",
            "4  50\n"
          ]
        }
      ]
    },
    {
      "cell_type": "code",
      "source": [
        "df_person = pd.DataFrame([\n",
        "    ['Person 1', 'Melbourne', '3024'],\n",
        "    ['Person 2', 'Sydney', '3003'],\n",
        "    ['Person 3', 'Delhi', '10001'],\n",
        "    ['Person 4', 'Kolkata', '700007'],\n",
        "    ['Person 5', 'London', 'QA3023']\n",
        "], columns = ['Name','City','Pin'])\n",
        "df_person"
      ],
      "metadata": {
        "colab": {
          "base_uri": "https://localhost:8080/",
          "height": 206
        },
        "id": "iFoNa37rsoGF",
        "outputId": "e219ae20-4c39-483b-d964-d697f33b2df3"
      },
      "execution_count": null,
      "outputs": [
        {
          "output_type": "execute_result",
          "data": {
            "text/plain": [
              "       Name       City     Pin\n",
              "0  Person 1  Melbourne    3024\n",
              "1  Person 2     Sydney    3003\n",
              "2  Person 3      Delhi   10001\n",
              "3  Person 4    Kolkata  700007\n",
              "4  Person 5     London  QA3023"
            ],
            "text/html": [
              "\n",
              "  <div id=\"df-82a24c96-54ed-4ef3-8045-185fb2f1e846\">\n",
              "    <div class=\"colab-df-container\">\n",
              "      <div>\n",
              "<style scoped>\n",
              "    .dataframe tbody tr th:only-of-type {\n",
              "        vertical-align: middle;\n",
              "    }\n",
              "\n",
              "    .dataframe tbody tr th {\n",
              "        vertical-align: top;\n",
              "    }\n",
              "\n",
              "    .dataframe thead th {\n",
              "        text-align: right;\n",
              "    }\n",
              "</style>\n",
              "<table border=\"1\" class=\"dataframe\">\n",
              "  <thead>\n",
              "    <tr style=\"text-align: right;\">\n",
              "      <th></th>\n",
              "      <th>Name</th>\n",
              "      <th>City</th>\n",
              "      <th>Pin</th>\n",
              "    </tr>\n",
              "  </thead>\n",
              "  <tbody>\n",
              "    <tr>\n",
              "      <th>0</th>\n",
              "      <td>Person 1</td>\n",
              "      <td>Melbourne</td>\n",
              "      <td>3024</td>\n",
              "    </tr>\n",
              "    <tr>\n",
              "      <th>1</th>\n",
              "      <td>Person 2</td>\n",
              "      <td>Sydney</td>\n",
              "      <td>3003</td>\n",
              "    </tr>\n",
              "    <tr>\n",
              "      <th>2</th>\n",
              "      <td>Person 3</td>\n",
              "      <td>Delhi</td>\n",
              "      <td>10001</td>\n",
              "    </tr>\n",
              "    <tr>\n",
              "      <th>3</th>\n",
              "      <td>Person 4</td>\n",
              "      <td>Kolkata</td>\n",
              "      <td>700007</td>\n",
              "    </tr>\n",
              "    <tr>\n",
              "      <th>4</th>\n",
              "      <td>Person 5</td>\n",
              "      <td>London</td>\n",
              "      <td>QA3023</td>\n",
              "    </tr>\n",
              "  </tbody>\n",
              "</table>\n",
              "</div>\n",
              "      <button class=\"colab-df-convert\" onclick=\"convertToInteractive('df-82a24c96-54ed-4ef3-8045-185fb2f1e846')\"\n",
              "              title=\"Convert this dataframe to an interactive table.\"\n",
              "              style=\"display:none;\">\n",
              "        \n",
              "  <svg xmlns=\"http://www.w3.org/2000/svg\" height=\"24px\"viewBox=\"0 0 24 24\"\n",
              "       width=\"24px\">\n",
              "    <path d=\"M0 0h24v24H0V0z\" fill=\"none\"/>\n",
              "    <path d=\"M18.56 5.44l.94 2.06.94-2.06 2.06-.94-2.06-.94-.94-2.06-.94 2.06-2.06.94zm-11 1L8.5 8.5l.94-2.06 2.06-.94-2.06-.94L8.5 2.5l-.94 2.06-2.06.94zm10 10l.94 2.06.94-2.06 2.06-.94-2.06-.94-.94-2.06-.94 2.06-2.06.94z\"/><path d=\"M17.41 7.96l-1.37-1.37c-.4-.4-.92-.59-1.43-.59-.52 0-1.04.2-1.43.59L10.3 9.45l-7.72 7.72c-.78.78-.78 2.05 0 2.83L4 21.41c.39.39.9.59 1.41.59.51 0 1.02-.2 1.41-.59l7.78-7.78 2.81-2.81c.8-.78.8-2.07 0-2.86zM5.41 20L4 18.59l7.72-7.72 1.47 1.35L5.41 20z\"/>\n",
              "  </svg>\n",
              "      </button>\n",
              "      \n",
              "  <style>\n",
              "    .colab-df-container {\n",
              "      display:flex;\n",
              "      flex-wrap:wrap;\n",
              "      gap: 12px;\n",
              "    }\n",
              "\n",
              "    .colab-df-convert {\n",
              "      background-color: #E8F0FE;\n",
              "      border: none;\n",
              "      border-radius: 50%;\n",
              "      cursor: pointer;\n",
              "      display: none;\n",
              "      fill: #1967D2;\n",
              "      height: 32px;\n",
              "      padding: 0 0 0 0;\n",
              "      width: 32px;\n",
              "    }\n",
              "\n",
              "    .colab-df-convert:hover {\n",
              "      background-color: #E2EBFA;\n",
              "      box-shadow: 0px 1px 2px rgba(60, 64, 67, 0.3), 0px 1px 3px 1px rgba(60, 64, 67, 0.15);\n",
              "      fill: #174EA6;\n",
              "    }\n",
              "\n",
              "    [theme=dark] .colab-df-convert {\n",
              "      background-color: #3B4455;\n",
              "      fill: #D2E3FC;\n",
              "    }\n",
              "\n",
              "    [theme=dark] .colab-df-convert:hover {\n",
              "      background-color: #434B5C;\n",
              "      box-shadow: 0px 1px 3px 1px rgba(0, 0, 0, 0.15);\n",
              "      filter: drop-shadow(0px 1px 2px rgba(0, 0, 0, 0.3));\n",
              "      fill: #FFFFFF;\n",
              "    }\n",
              "  </style>\n",
              "\n",
              "      <script>\n",
              "        const buttonEl =\n",
              "          document.querySelector('#df-82a24c96-54ed-4ef3-8045-185fb2f1e846 button.colab-df-convert');\n",
              "        buttonEl.style.display =\n",
              "          google.colab.kernel.accessAllowed ? 'block' : 'none';\n",
              "\n",
              "        async function convertToInteractive(key) {\n",
              "          const element = document.querySelector('#df-82a24c96-54ed-4ef3-8045-185fb2f1e846');\n",
              "          const dataTable =\n",
              "            await google.colab.kernel.invokeFunction('convertToInteractive',\n",
              "                                                     [key], {});\n",
              "          if (!dataTable) return;\n",
              "\n",
              "          const docLinkHtml = 'Like what you see? Visit the ' +\n",
              "            '<a target=\"_blank\" href=https://colab.research.google.com/notebooks/data_table.ipynb>data table notebook</a>'\n",
              "            + ' to learn more about interactive tables.';\n",
              "          element.innerHTML = '';\n",
              "          dataTable['output_type'] = 'display_data';\n",
              "          await google.colab.output.renderOutput(dataTable, element);\n",
              "          const docLink = document.createElement('div');\n",
              "          docLink.innerHTML = docLinkHtml;\n",
              "          element.appendChild(docLink);\n",
              "        }\n",
              "      </script>\n",
              "    </div>\n",
              "  </div>\n",
              "  "
            ]
          },
          "metadata": {},
          "execution_count": 9
        }
      ]
    },
    {
      "cell_type": "code",
      "source": [
        "import pandas as pd\n",
        "df1 = pd.DataFrame({'employee':['Sudarshan','Sahil','Sarthak','Apoorv'],\n",
        "                    'group':['Accounting','Engineering','Engineering','HR']})\n",
        "df2 = pd.DataFrame({'employee':['Sudarshan','Sahil','Sarthak','Apoorv'],\n",
        "                    'hire_data':[2004,2008,2012,2014]})\n",
        "df3 = pd.merge(df1,df2)\n",
        "df3"
      ],
      "metadata": {
        "id": "l79cNAreu8mP",
        "colab": {
          "base_uri": "https://localhost:8080/",
          "height": 175
        },
        "outputId": "02dd29d2-510b-40cf-93a0-307bbd0ec686"
      },
      "execution_count": null,
      "outputs": [
        {
          "output_type": "execute_result",
          "data": {
            "text/plain": [
              "    employee        group  hire_data\n",
              "0  Sudarshan   Accounting       2004\n",
              "1      Sahil  Engineering       2008\n",
              "2    Sarthak  Engineering       2012\n",
              "3     Apoorv           HR       2014"
            ],
            "text/html": [
              "\n",
              "  <div id=\"df-47d63df8-28aa-42e9-b8f2-7fc13675cd2f\">\n",
              "    <div class=\"colab-df-container\">\n",
              "      <div>\n",
              "<style scoped>\n",
              "    .dataframe tbody tr th:only-of-type {\n",
              "        vertical-align: middle;\n",
              "    }\n",
              "\n",
              "    .dataframe tbody tr th {\n",
              "        vertical-align: top;\n",
              "    }\n",
              "\n",
              "    .dataframe thead th {\n",
              "        text-align: right;\n",
              "    }\n",
              "</style>\n",
              "<table border=\"1\" class=\"dataframe\">\n",
              "  <thead>\n",
              "    <tr style=\"text-align: right;\">\n",
              "      <th></th>\n",
              "      <th>employee</th>\n",
              "      <th>group</th>\n",
              "      <th>hire_data</th>\n",
              "    </tr>\n",
              "  </thead>\n",
              "  <tbody>\n",
              "    <tr>\n",
              "      <th>0</th>\n",
              "      <td>Sudarshan</td>\n",
              "      <td>Accounting</td>\n",
              "      <td>2004</td>\n",
              "    </tr>\n",
              "    <tr>\n",
              "      <th>1</th>\n",
              "      <td>Sahil</td>\n",
              "      <td>Engineering</td>\n",
              "      <td>2008</td>\n",
              "    </tr>\n",
              "    <tr>\n",
              "      <th>2</th>\n",
              "      <td>Sarthak</td>\n",
              "      <td>Engineering</td>\n",
              "      <td>2012</td>\n",
              "    </tr>\n",
              "    <tr>\n",
              "      <th>3</th>\n",
              "      <td>Apoorv</td>\n",
              "      <td>HR</td>\n",
              "      <td>2014</td>\n",
              "    </tr>\n",
              "  </tbody>\n",
              "</table>\n",
              "</div>\n",
              "      <button class=\"colab-df-convert\" onclick=\"convertToInteractive('df-47d63df8-28aa-42e9-b8f2-7fc13675cd2f')\"\n",
              "              title=\"Convert this dataframe to an interactive table.\"\n",
              "              style=\"display:none;\">\n",
              "        \n",
              "  <svg xmlns=\"http://www.w3.org/2000/svg\" height=\"24px\"viewBox=\"0 0 24 24\"\n",
              "       width=\"24px\">\n",
              "    <path d=\"M0 0h24v24H0V0z\" fill=\"none\"/>\n",
              "    <path d=\"M18.56 5.44l.94 2.06.94-2.06 2.06-.94-2.06-.94-.94-2.06-.94 2.06-2.06.94zm-11 1L8.5 8.5l.94-2.06 2.06-.94-2.06-.94L8.5 2.5l-.94 2.06-2.06.94zm10 10l.94 2.06.94-2.06 2.06-.94-2.06-.94-.94-2.06-.94 2.06-2.06.94z\"/><path d=\"M17.41 7.96l-1.37-1.37c-.4-.4-.92-.59-1.43-.59-.52 0-1.04.2-1.43.59L10.3 9.45l-7.72 7.72c-.78.78-.78 2.05 0 2.83L4 21.41c.39.39.9.59 1.41.59.51 0 1.02-.2 1.41-.59l7.78-7.78 2.81-2.81c.8-.78.8-2.07 0-2.86zM5.41 20L4 18.59l7.72-7.72 1.47 1.35L5.41 20z\"/>\n",
              "  </svg>\n",
              "      </button>\n",
              "      \n",
              "  <style>\n",
              "    .colab-df-container {\n",
              "      display:flex;\n",
              "      flex-wrap:wrap;\n",
              "      gap: 12px;\n",
              "    }\n",
              "\n",
              "    .colab-df-convert {\n",
              "      background-color: #E8F0FE;\n",
              "      border: none;\n",
              "      border-radius: 50%;\n",
              "      cursor: pointer;\n",
              "      display: none;\n",
              "      fill: #1967D2;\n",
              "      height: 32px;\n",
              "      padding: 0 0 0 0;\n",
              "      width: 32px;\n",
              "    }\n",
              "\n",
              "    .colab-df-convert:hover {\n",
              "      background-color: #E2EBFA;\n",
              "      box-shadow: 0px 1px 2px rgba(60, 64, 67, 0.3), 0px 1px 3px 1px rgba(60, 64, 67, 0.15);\n",
              "      fill: #174EA6;\n",
              "    }\n",
              "\n",
              "    [theme=dark] .colab-df-convert {\n",
              "      background-color: #3B4455;\n",
              "      fill: #D2E3FC;\n",
              "    }\n",
              "\n",
              "    [theme=dark] .colab-df-convert:hover {\n",
              "      background-color: #434B5C;\n",
              "      box-shadow: 0px 1px 3px 1px rgba(0, 0, 0, 0.15);\n",
              "      filter: drop-shadow(0px 1px 2px rgba(0, 0, 0, 0.3));\n",
              "      fill: #FFFFFF;\n",
              "    }\n",
              "  </style>\n",
              "\n",
              "      <script>\n",
              "        const buttonEl =\n",
              "          document.querySelector('#df-47d63df8-28aa-42e9-b8f2-7fc13675cd2f button.colab-df-convert');\n",
              "        buttonEl.style.display =\n",
              "          google.colab.kernel.accessAllowed ? 'block' : 'none';\n",
              "\n",
              "        async function convertToInteractive(key) {\n",
              "          const element = document.querySelector('#df-47d63df8-28aa-42e9-b8f2-7fc13675cd2f');\n",
              "          const dataTable =\n",
              "            await google.colab.kernel.invokeFunction('convertToInteractive',\n",
              "                                                     [key], {});\n",
              "          if (!dataTable) return;\n",
              "\n",
              "          const docLinkHtml = 'Like what you see? Visit the ' +\n",
              "            '<a target=\"_blank\" href=https://colab.research.google.com/notebooks/data_table.ipynb>data table notebook</a>'\n",
              "            + ' to learn more about interactive tables.';\n",
              "          element.innerHTML = '';\n",
              "          dataTable['output_type'] = 'display_data';\n",
              "          await google.colab.output.renderOutput(dataTable, element);\n",
              "          const docLink = document.createElement('div');\n",
              "          docLink.innerHTML = docLinkHtml;\n",
              "          element.appendChild(docLink);\n",
              "        }\n",
              "      </script>\n",
              "    </div>\n",
              "  </div>\n",
              "  "
            ]
          },
          "metadata": {},
          "execution_count": 8
        }
      ]
    },
    {
      "cell_type": "code",
      "source": [
        "import pandas as pd\n",
        "a = pd.read_excel(\"/content/Employ.xlsx\")\n",
        "b = pd.read_excel(\"/content/salary1.xlsx\")\n",
        "c = pd.merge(a,b)\n",
        "print(c)"
      ],
      "metadata": {
        "colab": {
          "base_uri": "https://localhost:8080/"
        },
        "id": "snFwlwDkdoNB",
        "outputId": "0d77b3e6-f85c-4c87-9c3d-a4bfec156928"
      },
      "execution_count": null,
      "outputs": [
        {
          "output_type": "stream",
          "name": "stdout",
          "text": [
            "       NAME Joining Date      ID   SALARY\n",
            "0       NaN          NaT     NaN      NaN\n",
            "1     Divya   2013-04-30  1111.0  43000.0\n",
            "2   Prajwal   2013-05-01  1112.0  45000.0\n",
            "3    Pratap   2013-05-02  1113.0  55000.0\n",
            "4   Srushti   2013-05-03  1114.0  60000.0\n",
            "5      Isha   2013-05-04  1115.0  65000.0\n",
            "6     Rutik   2013-05-05  1116.0  70000.0\n",
            "7    Vishal   2013-05-06  1117.0  75000.0\n",
            "8     Kunal   2013-05-07  1118.0  80000.0\n",
            "9   Sarthak   2013-05-08  1119.0  85000.0\n",
            "10    Swati   2013-05-09  1120.0  90000.0\n"
          ]
        }
      ]
    },
    {
      "cell_type": "code",
      "source": [
        "l1=[1,2,3,\"ABC\"]\n",
        "l2=[10,20,30,23.45]\n",
        "a = [*l1,*l2]\n",
        "b = [l1,l2]\n",
        "print(a)\n",
        "print(b)"
      ],
      "metadata": {
        "colab": {
          "base_uri": "https://localhost:8080/"
        },
        "id": "SAuW44w5fSmz",
        "outputId": "b83d365e-14b1-46c4-d278-cca56da34df1"
      },
      "execution_count": null,
      "outputs": [
        {
          "output_type": "stream",
          "name": "stdout",
          "text": [
            "[1, 2, 3, 'ABC', 10, 20, 30, 23.45]\n",
            "[[1, 2, 3, 'ABC'], [10, 20, 30, 23.45]]\n"
          ]
        }
      ]
    },
    {
      "cell_type": "code",
      "source": [
        "d = float(input(\"Enter Currency\"))\n",
        "s = d*73\n",
        "print(round(s,2))"
      ],
      "metadata": {
        "colab": {
          "base_uri": "https://localhost:8080/"
        },
        "id": "CedP2h18fyX9",
        "outputId": "d4cd56c3-f8f5-4db8-d132-0d9e5f6b2a60"
      },
      "execution_count": null,
      "outputs": [
        {
          "output_type": "stream",
          "name": "stdout",
          "text": [
            "Enter Currency50\n",
            "3650.0\n"
          ]
        }
      ]
    },
    {
      "cell_type": "code",
      "source": [],
      "metadata": {
        "id": "uiW0HT7EgJeN"
      },
      "execution_count": null,
      "outputs": []
    },
    {
      "cell_type": "code",
      "source": [
        "l = [5,6,8,9,10,12,'A','B']\n",
        "print(l[-1::-3])\n",
        "print(l[-2::-4])"
      ],
      "metadata": {
        "colab": {
          "base_uri": "https://localhost:8080/"
        },
        "id": "YxeY0k-RN4J9",
        "outputId": "174d1836-9b0f-4ee3-f397-f758bef92925"
      },
      "execution_count": null,
      "outputs": [
        {
          "output_type": "stream",
          "name": "stdout",
          "text": [
            "['B', 10, 6]\n",
            "['A', 8]\n"
          ]
        }
      ]
    },
    {
      "cell_type": "code",
      "source": [
        "def cal(a):\n",
        "  data3.sort(key=lambda x :int(x[a]), reverse=True)\n",
        "  for i in range(len(a)):\n",
        "    p=data3[i][i]\n",
        "    print(p)\n",
        "import csv\n",
        "f1 = open(\"/content/Employ_113.csv\",\"r\")\n",
        "f2 = open(\"/content/SALARY_113.csv\",\"r\")\n",
        "data1=list(csv.reader(f1))\n",
        "print(data1)\n",
        "data2=list(csv.reader(f2))\n",
        "print(data2)\n",
        "data3=[]\n",
        "for i in range(len(data1)):\n",
        "  data3.append(data1[i]+data2[i])\n",
        "cal(data3)\n",
        "f3 =(\"/content/empty.csv\",\"w\")\n",
        "cw=csv.writer(f3)\n",
        "cw.writerows(data3)\n",
        "f1.close()\n",
        "f2.close()\n",
        "f3.close()"
      ],
      "metadata": {
        "id": "bIzyte8ERCUA",
        "colab": {
          "base_uri": "https://localhost:8080/",
          "height": 130
        },
        "outputId": "f34f7976-7169-462b-cac0-16c32f98f63f"
      },
      "execution_count": null,
      "outputs": [
        {
          "output_type": "error",
          "ename": "SyntaxError",
          "evalue": "ignored",
          "traceback": [
            "\u001b[0;36m  File \u001b[0;32m\"<ipython-input-18-98ce28c3a028>\"\u001b[0;36m, line \u001b[0;32m2\u001b[0m\n\u001b[0;31m    data3.sort(key=lambda x :int(x[]), reverse=True)\u001b[0m\n\u001b[0m                                 ^\u001b[0m\n\u001b[0;31mSyntaxError\u001b[0m\u001b[0;31m:\u001b[0m invalid syntax. Perhaps you forgot a comma?\n"
          ]
        }
      ]
    },
    {
      "cell_type": "code",
      "source": [
        "a = 10\n",
        "b = 20\n",
        "if(a==b):\n",
        "  print(\"True\")\n",
        "else:\n",
        "  print(\"False\")"
      ],
      "metadata": {
        "id": "2DYa0g0IaI5o",
        "colab": {
          "base_uri": "https://localhost:8080/"
        },
        "outputId": "6b8ffb0c-5745-488a-deb5-5559a0c1e089"
      },
      "execution_count": null,
      "outputs": [
        {
          "output_type": "stream",
          "name": "stdout",
          "text": [
            "False\n"
          ]
        }
      ]
    },
    {
      "cell_type": "code",
      "source": [
        "a = 10\n",
        "b = 20\n",
        "if(a!=b):\n",
        "  print(\"True\")\n",
        "else:\n",
        "  print(\"False\")"
      ],
      "metadata": {
        "colab": {
          "base_uri": "https://localhost:8080/"
        },
        "id": "P3GpM9G8hrS9",
        "outputId": "31dfdfd3-d99c-47f1-86aa-179beca3e0ce"
      },
      "execution_count": null,
      "outputs": [
        {
          "output_type": "stream",
          "name": "stdout",
          "text": [
            "True\n"
          ]
        }
      ]
    },
    {
      "cell_type": "code",
      "source": [
        "a = 10\n",
        "b = 20\n",
        "if(a>b):\n",
        "  print(a)\n",
        "else:\n",
        "  print(b)"
      ],
      "metadata": {
        "colab": {
          "base_uri": "https://localhost:8080/"
        },
        "id": "GyqRei9nh26T",
        "outputId": "79218618-fd68-44df-d118-7b36dc6e1de2"
      },
      "execution_count": null,
      "outputs": [
        {
          "output_type": "stream",
          "name": "stdout",
          "text": [
            "20\n"
          ]
        }
      ]
    },
    {
      "cell_type": "code",
      "source": [
        "a = 10\n",
        "b = 20\n",
        "if(a<b):\n",
        "  print(a)\n",
        "else:\n",
        "  print(b)"
      ],
      "metadata": {
        "colab": {
          "base_uri": "https://localhost:8080/"
        },
        "id": "rqc_Sk3ZiNYM",
        "outputId": "835ed003-f5a5-45e9-fc6f-7e8eddd6effb"
      },
      "execution_count": null,
      "outputs": [
        {
          "output_type": "stream",
          "name": "stdout",
          "text": [
            "10\n"
          ]
        }
      ]
    },
    {
      "cell_type": "code",
      "source": [
        "a = 10\n",
        "b = 20\n",
        "if(a>=b):\n",
        "  print(\"True\")\n",
        "else:\n",
        "  print(\"False\")"
      ],
      "metadata": {
        "colab": {
          "base_uri": "https://localhost:8080/"
        },
        "id": "z1yrg6CSiUzM",
        "outputId": "ce7b5eb0-3067-4f5c-fef1-1e47e726cd2b"
      },
      "execution_count": null,
      "outputs": [
        {
          "output_type": "stream",
          "name": "stdout",
          "text": [
            "False\n"
          ]
        }
      ]
    },
    {
      "cell_type": "code",
      "source": [
        "a = 10\n",
        "b = 20\n",
        "if(a<=b):\n",
        "  print(\"True\")\n",
        "else:\n",
        "  print(\"False\")"
      ],
      "metadata": {
        "colab": {
          "base_uri": "https://localhost:8080/"
        },
        "id": "6uVtLNCoimAL",
        "outputId": "d54be2da-7ea2-4123-9e64-682af04abc9e"
      },
      "execution_count": null,
      "outputs": [
        {
          "output_type": "stream",
          "name": "stdout",
          "text": [
            "True\n"
          ]
        }
      ]
    },
    {
      "cell_type": "code",
      "source": [
        "a = 4\n",
        "print(a)"
      ],
      "metadata": {
        "colab": {
          "base_uri": "https://localhost:8080/"
        },
        "id": "nKMPOFkAi-3L",
        "outputId": "3c80c829-5578-4d2f-d6b0-09a04570fc10"
      },
      "execution_count": null,
      "outputs": [
        {
          "output_type": "stream",
          "name": "stdout",
          "text": [
            "4\n"
          ]
        }
      ]
    },
    {
      "cell_type": "code",
      "source": [
        "num += 2\n",
        "print(num)"
      ],
      "metadata": {
        "colab": {
          "base_uri": "https://localhost:8080/"
        },
        "id": "ezC-6ywajhQr",
        "outputId": "d776e3dd-bd9d-457c-9770-ddd40099a128"
      },
      "execution_count": null,
      "outputs": [
        {
          "output_type": "stream",
          "name": "stdout",
          "text": [
            "11\n"
          ]
        }
      ]
    },
    {
      "cell_type": "code",
      "source": [
        "num -= 2\n",
        "print(num)"
      ],
      "metadata": {
        "colab": {
          "base_uri": "https://localhost:8080/"
        },
        "id": "eptcRdi-kEfz",
        "outputId": "3ec05c65-c3d9-4c8e-e2a8-845b3d025b83"
      },
      "execution_count": null,
      "outputs": [
        {
          "output_type": "stream",
          "name": "stdout",
          "text": [
            "7\n"
          ]
        }
      ]
    },
    {
      "cell_type": "code",
      "source": [
        "num *= 2\n",
        "print(num)"
      ],
      "metadata": {
        "colab": {
          "base_uri": "https://localhost:8080/"
        },
        "id": "HRT_t3jDkM0a",
        "outputId": "850eb88e-253d-4624-8597-a2f261c572ec"
      },
      "execution_count": null,
      "outputs": [
        {
          "output_type": "stream",
          "name": "stdout",
          "text": [
            "14\n"
          ]
        }
      ]
    },
    {
      "cell_type": "code",
      "source": [
        "num /= 2\n",
        "print(num)"
      ],
      "metadata": {
        "colab": {
          "base_uri": "https://localhost:8080/"
        },
        "id": "VRYzcJgHkXCT",
        "outputId": "6b203bab-e73b-464e-f32e-47eb9e3c5562"
      },
      "execution_count": null,
      "outputs": [
        {
          "output_type": "stream",
          "name": "stdout",
          "text": [
            "6.0\n"
          ]
        }
      ]
    },
    {
      "cell_type": "code",
      "source": [
        "num %= 2\n",
        "print(num)"
      ],
      "metadata": {
        "colab": {
          "base_uri": "https://localhost:8080/"
        },
        "id": "_33IATdikXuK",
        "outputId": "3ac261ca-e190-47bb-d8b8-178e2ea9901a"
      },
      "execution_count": null,
      "outputs": [
        {
          "output_type": "stream",
          "name": "stdout",
          "text": [
            "0.0\n"
          ]
        }
      ]
    },
    {
      "cell_type": "code",
      "source": [
        "num = 5\n",
        "print(num**2)"
      ],
      "metadata": {
        "colab": {
          "base_uri": "https://localhost:8080/"
        },
        "id": "60rpqrqKktCL",
        "outputId": "1c6668e4-5985-4025-d6c7-a0a35f332e91"
      },
      "execution_count": null,
      "outputs": [
        {
          "output_type": "stream",
          "name": "stdout",
          "text": [
            "25\n"
          ]
        }
      ]
    },
    {
      "cell_type": "code",
      "source": [
        "num = 5\n",
        "num//=2\n",
        "print(num)"
      ],
      "metadata": {
        "colab": {
          "base_uri": "https://localhost:8080/"
        },
        "id": "IONQcDxelDI6",
        "outputId": "8695633a-21ab-45f5-a15f-3770ef205621"
      },
      "execution_count": null,
      "outputs": [
        {
          "output_type": "stream",
          "name": "stdout",
          "text": [
            "2\n"
          ]
        }
      ]
    },
    {
      "cell_type": "code",
      "source": [
        "num1 = int(input(\"Enter the first no.: \"))\n",
        "num2 = int(input(\"Enter the second no.: \"))\n",
        "op = input(\"Enter the operater: \")\n",
        "if(op=='+'):\n",
        "  print(num1+num2)\n",
        "if(op=='-'):\n",
        "  print(num1-num2)\n",
        "if(op=='*'):\n",
        "  print(num1*num2)\n",
        "if(op=='/'):\n",
        "  print(num1/num2)\n",
        "if(op=='%'):\n",
        "  print(num1%num2)\n",
        "if(op=='**'):\n",
        "  print(num1**num2)\n",
        "if(op=='//'):\n",
        "  print(num1//num2)"
      ],
      "metadata": {
        "colab": {
          "base_uri": "https://localhost:8080/"
        },
        "id": "NF-1CFAlleXS",
        "outputId": "c37503d4-3938-469d-e92e-47a8b4b07843"
      },
      "execution_count": null,
      "outputs": [
        {
          "output_type": "stream",
          "name": "stdout",
          "text": [
            "Enter the first no.: 10\n",
            "Enter the second no.: 2\n",
            "Enter the operater: %\n",
            "0\n"
          ]
        }
      ]
    },
    {
      "cell_type": "code",
      "source": [
        "import pandas as pd\n",
        "df = pd.read_excel(\"/employ1.113.xlsx\")\n",
        "a = df\n",
        "print(a.values.tolist())\n",
        "df1 = pd.read_excel(\"/salary1.113.xlsx\")\n",
        "\n",
        "l = list(df1.itertuples(index = False))\n",
        "\n",
        "t1 = [tuple(x) for x in df1.values]\n",
        "\n",
        "def freq(l):\n",
        "  counter = 0\n",
        "  num = l[0]\n",
        "  for i in l:\n",
        "    cf = l.count(i)\n",
        "    if(cf>counter):\n",
        "      counter = cf\n",
        "      num = i\n",
        "      return 0\n",
        "print(freq(l))"
      ],
      "metadata": {
        "colab": {
          "base_uri": "https://localhost:8080/"
        },
        "id": "paV6KYoltScG",
        "outputId": "a4abe6d4-7873-4b1c-e62a-5390b8aa2acb"
      },
      "execution_count": null,
      "outputs": [
        {
          "output_type": "stream",
          "name": "stdout",
          "text": [
            "[[1, 'Srushti', 1001, '21-01-23', 2], [2, 'Isha', 1002, '22-01-23', 4], [3, 'Divya', 1003, '23-01-23', 7], [4, 'Neha', 1004, '24-01-23', 4], [5, 'Sakshi', 1005, '25-01-23', 8], [6, 'Vamika', 1006, '26-01-23', 9], [7, 'Anushka', 1007, '27-01-23', 4], [8, 'Suvarna', 1008, '28-01-23', 5], [9, 'Sunita', 1009, '29-01-23', 3], [10, 'Yogita', 1010, '30-01-23', 8]]\n",
            "0\n"
          ]
        }
      ]
    },
    {
      "cell_type": "code",
      "source": [
        "import math\n",
        "print(math.pow(9,3))"
      ],
      "metadata": {
        "colab": {
          "base_uri": "https://localhost:8080/"
        },
        "id": "JKwWbcFXXPv9",
        "outputId": "cd59876f-6fa7-4a3e-d39d-c09e34c14eb7"
      },
      "execution_count": null,
      "outputs": [
        {
          "output_type": "stream",
          "name": "stdout",
          "text": [
            "729.0\n"
          ]
        }
      ]
    },
    {
      "cell_type": "code",
      "source": [
        "from itertools import count\n",
        "for number in count(start = 5,step=3):\n",
        "  if number>10:\n",
        "    break\n",
        "  print(number)"
      ],
      "metadata": {
        "colab": {
          "base_uri": "https://localhost:8080/"
        },
        "id": "zGCiNqFUXxo1",
        "outputId": "55463199-10f3-4418-db0a-7fc931ff6f5e"
      },
      "execution_count": null,
      "outputs": [
        {
          "output_type": "stream",
          "name": "stdout",
          "text": [
            "5\n",
            "8\n"
          ]
        }
      ]
    },
    {
      "cell_type": "code",
      "source": [
        "x = range(3,10)\n",
        "for n in x:\n",
        "  print(n)"
      ],
      "metadata": {
        "colab": {
          "base_uri": "https://localhost:8080/"
        },
        "id": "ZiB1SB1iYR7R",
        "outputId": "4b0c55fd-d056-45c8-fe4f-f9bca9219e57"
      },
      "execution_count": null,
      "outputs": [
        {
          "output_type": "stream",
          "name": "stdout",
          "text": [
            "3\n",
            "4\n",
            "5\n",
            "6\n",
            "7\n",
            "8\n",
            "9\n"
          ]
        }
      ]
    },
    {
      "cell_type": "code",
      "source": [
        "import decimal\n",
        "float_division=22/7\n",
        "decimal_division=decimal.Decimal(22)/decimal.Decimal(7)\n",
        "print(\"Result for float division of 4 by 3:\")\n",
        "print(float_division)\n",
        "print(\"Result for decimal division of 4 by 3:\")\n",
        "print(decimal_division)"
      ],
      "metadata": {
        "colab": {
          "base_uri": "https://localhost:8080/"
        },
        "id": "ddCy6Xc8YR-V",
        "outputId": "3c912f35-2abf-4030-e87b-c7de2ccc3290"
      },
      "execution_count": null,
      "outputs": [
        {
          "output_type": "stream",
          "name": "stdout",
          "text": [
            "Result for float division of 4 by 3:\n",
            "3.142857142857143\n",
            "Result for decimal division of 4 by 3:\n",
            "3.142857142857142857142857143\n"
          ]
        }
      ]
    },
    {
      "cell_type": "code",
      "source": [
        "from fractions import Fraction\n",
        "print (Fraction(84,24))\n",
        "print (Fraction(8,2))\n",
        "print (Fraction(81,4))"
      ],
      "metadata": {
        "colab": {
          "base_uri": "https://localhost:8080/"
        },
        "id": "WjK1hlTgaQVZ",
        "outputId": "8ce50b10-cbaf-4cb5-a13f-a132f758e537"
      },
      "execution_count": null,
      "outputs": [
        {
          "output_type": "stream",
          "name": "stdout",
          "text": [
            "7/2\n",
            "4\n",
            "81/4\n"
          ]
        }
      ]
    },
    {
      "cell_type": "code",
      "source": [
        "import decimal\n",
        "from decimal import Decimal\n",
        "x = Decimal('0.8')\n",
        "y = Decimal('0.9')\n",
        "z = Decimal('0.7')\n",
        "s=x+y+z\n",
        "print(s)"
      ],
      "metadata": {
        "colab": {
          "base_uri": "https://localhost:8080/"
        },
        "id": "qC1ogxbfbK7D",
        "outputId": "3d1c86da-1e88-49b0-e24b-5736cbfaf1e7"
      },
      "execution_count": null,
      "outputs": [
        {
          "output_type": "stream",
          "name": "stdout",
          "text": [
            "2.4\n"
          ]
        }
      ]
    },
    {
      "cell_type": "code",
      "source": [
        "import pandas as pd\n",
        "import numpy as np\n",
        "df = pd.read_excel('/content/student info (3).xlsx')\n",
        "df1 = pd.read_excel('/content/Employee data1.xlsx')\n",
        "array = df.to_numpy()\n",
        "array1 = df1.to_numpy()\n",
        "print(array)\n",
        "print(array1)"
      ],
      "metadata": {
        "id": "DZUeDnh1bLAv",
        "colab": {
          "base_uri": "https://localhost:8080/"
        },
        "outputId": "30fd6f8a-14d6-40e9-fa2f-8cb998397553"
      },
      "execution_count": null,
      "outputs": [
        {
          "output_type": "stream",
          "name": "stdout",
          "text": [
            "[[2 'Srushti' 19]\n",
            " [3 'Pragati' 20]\n",
            " [4 'Shravani' 21]\n",
            " [5 'Isha' 22]\n",
            " [6 'Rutik' 23]\n",
            " [7 'Vishal' 24]\n",
            " [8 'Kunal' 25]\n",
            " [9 'Prajwal' 26]\n",
            " [10 'Rohit' 27]]\n",
            "[[56 'Male' 71000]\n",
            " [30 'Male' 25000]\n",
            " [28 'Male' 26000]\n",
            " [60 'Female' 75000]\n",
            " [39 'Male' 20000]\n",
            " [45 'Male' 45000]\n",
            " [42 'Female' 40000]\n",
            " [44 'Female' 50000]\n",
            " [54 'Female' 100000]]\n"
          ]
        }
      ]
    },
    {
      "cell_type": "code",
      "source": [
        "print(\"Addition of matrix\")\n",
        "print(np.add(array,array1))"
      ],
      "metadata": {
        "colab": {
          "base_uri": "https://localhost:8080/"
        },
        "id": "VC_pEOJxzSe8",
        "outputId": "f8f31914-4119-4b4f-b73a-189e6c1b80a6"
      },
      "execution_count": null,
      "outputs": [
        {
          "output_type": "stream",
          "name": "stdout",
          "text": [
            "Addition of matrix\n",
            "[[58 'SrushtiMale' 71019]\n",
            " [33 'PragatiMale' 25020]\n",
            " [32 'ShravaniMale' 26021]\n",
            " [65 'IshaFemale' 75022]\n",
            " [45 'RutikMale' 20023]\n",
            " [52 'VishalMale' 45024]\n",
            " [50 'KunalFemale' 40025]\n",
            " [53 'PrajwalFemale' 50026]\n",
            " [64 'RohitFemale' 100027]]\n"
          ]
        }
      ]
    },
    {
      "cell_type": "code",
      "source": [
        "matrix_length = len(array)\n",
        "print(matrix_length)"
      ],
      "metadata": {
        "colab": {
          "base_uri": "https://localhost:8080/"
        },
        "id": "hgW3pT1322rs",
        "outputId": "943c2822-6cb5-4fe9-dceb-d2dd323d2abf"
      },
      "execution_count": null,
      "outputs": [
        {
          "output_type": "stream",
          "name": "stdout",
          "text": [
            "9\n"
          ]
        }
      ]
    },
    {
      "cell_type": "code",
      "source": [
        "for i in range(matrix_length):\n",
        "  print(array[i][-1])"
      ],
      "metadata": {
        "colab": {
          "base_uri": "https://localhost:8080/"
        },
        "id": "zsTk64fX3DMS",
        "outputId": "47dcc634-da59-4336-d0f9-71c77c849c70"
      },
      "execution_count": null,
      "outputs": [
        {
          "output_type": "stream",
          "name": "stdout",
          "text": [
            "19\n",
            "20\n",
            "21\n",
            "22\n",
            "23\n",
            "24\n",
            "25\n",
            "26\n",
            "27\n"
          ]
        }
      ]
    },
    {
      "cell_type": "code",
      "source": [
        "for i in range(matrix_length):\n",
        "  print(array[i])"
      ],
      "metadata": {
        "colab": {
          "base_uri": "https://localhost:8080/"
        },
        "id": "pZgR1BP43S3b",
        "outputId": "1129c6e2-d517-46eb-e114-f8ec38d2fd9c"
      },
      "execution_count": null,
      "outputs": [
        {
          "output_type": "stream",
          "name": "stdout",
          "text": [
            "[2 'Srushti' 19]\n",
            "[3 'Pragati' 20]\n",
            "[4 'Shravani' 21]\n",
            "[5 'Isha' 22]\n",
            "[6 'Rutik' 23]\n",
            "[7 'Vishal' 24]\n",
            "[8 'Kunal' 25]\n",
            "[9 'Prajwal' 26]\n",
            "[10 'Rohit' 27]\n"
          ]
        }
      ]
    },
    {
      "cell_type": "code",
      "source": [
        "print(array.T)"
      ],
      "metadata": {
        "colab": {
          "base_uri": "https://localhost:8080/"
        },
        "id": "cW7AXHO03bQb",
        "outputId": "c942affe-737f-4094-b354-cdf6bfe00945"
      },
      "execution_count": null,
      "outputs": [
        {
          "output_type": "stream",
          "name": "stdout",
          "text": [
            "[[2 3 4 5 6 7 8 9 10]\n",
            " ['Srushti' 'Pragati' 'Shravani' 'Isha' 'Rutik' 'Vishal' 'Kunal'\n",
            "  'Prajwal' 'Rohit']\n",
            " [19 20 21 22 23 24 25 26 27]]\n"
          ]
        }
      ]
    },
    {
      "cell_type": "code",
      "source": [
        "c = np.stack((array,array1),axis=0)\n",
        "print(c)"
      ],
      "metadata": {
        "colab": {
          "base_uri": "https://localhost:8080/"
        },
        "id": "IBpYAFk93hYr",
        "outputId": "b24d3763-3d22-46ea-a08f-532291980b98"
      },
      "execution_count": null,
      "outputs": [
        {
          "output_type": "stream",
          "name": "stdout",
          "text": [
            "[[[2 'Srushti' 19]\n",
            "  [3 'Pragati' 20]\n",
            "  [4 'Shravani' 21]\n",
            "  [5 'Isha' 22]\n",
            "  [6 'Rutik' 23]\n",
            "  [7 'Vishal' 24]\n",
            "  [8 'Kunal' 25]\n",
            "  [9 'Prajwal' 26]\n",
            "  [10 'Rohit' 27]]\n",
            "\n",
            " [[56 'Male' 71000]\n",
            "  [30 'Male' 25000]\n",
            "  [28 'Male' 26000]\n",
            "  [60 'Female' 75000]\n",
            "  [39 'Male' 20000]\n",
            "  [45 'Male' 45000]\n",
            "  [42 'Female' 40000]\n",
            "  [44 'Female' 50000]\n",
            "  [54 'Female' 100000]]]\n"
          ]
        }
      ]
    },
    {
      "cell_type": "code",
      "source": [
        "array = array[:,array[0,:].argsort()]\n",
        "\n",
        "print(array)"
      ],
      "metadata": {
        "colab": {
          "base_uri": "https://localhost:8080/",
          "height": 200
        },
        "id": "NJH3tbVA7GFU",
        "outputId": "1122522a-6f21-46ca-afd6-f82bd075d28e"
      },
      "execution_count": null,
      "outputs": [
        {
          "output_type": "error",
          "ename": "TypeError",
          "evalue": "ignored",
          "traceback": [
            "\u001b[0;31m---------------------------------------------------------------------------\u001b[0m",
            "\u001b[0;31mTypeError\u001b[0m                                 Traceback (most recent call last)",
            "\u001b[0;32m<ipython-input-22-0cf88a07d4b5>\u001b[0m in \u001b[0;36m<cell line: 1>\u001b[0;34m()\u001b[0m\n\u001b[0;32m----> 1\u001b[0;31m \u001b[0marray\u001b[0m \u001b[0;34m=\u001b[0m \u001b[0marray\u001b[0m\u001b[0;34m[\u001b[0m\u001b[0;34m:\u001b[0m\u001b[0;34m,\u001b[0m\u001b[0marray\u001b[0m\u001b[0;34m[\u001b[0m\u001b[0;36m0\u001b[0m\u001b[0;34m,\u001b[0m\u001b[0;34m:\u001b[0m\u001b[0;34m]\u001b[0m\u001b[0;34m.\u001b[0m\u001b[0margsort\u001b[0m\u001b[0;34m(\u001b[0m\u001b[0;34m)\u001b[0m\u001b[0;34m]\u001b[0m\u001b[0;34m\u001b[0m\u001b[0;34m\u001b[0m\u001b[0m\n\u001b[0m\u001b[1;32m      2\u001b[0m \u001b[0;34m\u001b[0m\u001b[0m\n\u001b[1;32m      3\u001b[0m \u001b[0mprint\u001b[0m\u001b[0;34m(\u001b[0m\u001b[0marray\u001b[0m\u001b[0;34m)\u001b[0m\u001b[0;34m\u001b[0m\u001b[0;34m\u001b[0m\u001b[0m\n",
            "\u001b[0;31mTypeError\u001b[0m: '<' not supported between instances of 'str' and 'int'"
          ]
        }
      ]
    },
    {
      "cell_type": "code",
      "source": [
        "array = array1[array1[:,1].argsort(kind='mergesort')]\n",
        "print(array1)"
      ],
      "metadata": {
        "colab": {
          "base_uri": "https://localhost:8080/"
        },
        "id": "pdeDmbjQ30oU",
        "outputId": "771196ee-5e45-4119-ba49-af22dd4d8893"
      },
      "execution_count": null,
      "outputs": [
        {
          "output_type": "stream",
          "name": "stdout",
          "text": [
            "[[56 'Male' 71000]\n",
            " [30 'Male' 25000]\n",
            " [28 'Male' 26000]\n",
            " [60 'Female' 75000]\n",
            " [39 'Male' 20000]\n",
            " [45 'Male' 45000]\n",
            " [42 'Female' 40000]\n",
            " [44 'Female' 50000]\n",
            " [54 'Female' 100000]]\n"
          ]
        }
      ]
    },
    {
      "cell_type": "code",
      "source": [
        "array3 = array1.copy()\n",
        "print(array3)"
      ],
      "metadata": {
        "colab": {
          "base_uri": "https://localhost:8080/"
        },
        "id": "_UkLGsGX5KDr",
        "outputId": "07a93d29-af9e-4796-f7fd-073c92662de9"
      },
      "execution_count": null,
      "outputs": [
        {
          "output_type": "stream",
          "name": "stdout",
          "text": [
            "[[56 'Male' 71000]\n",
            " [30 'Male' 25000]\n",
            " [28 'Male' 26000]\n",
            " [60 'Female' 75000]\n",
            " [39 'Male' 20000]\n",
            " [45 'Male' 45000]\n",
            " [42 'Female' 40000]\n",
            " [44 'Female' 50000]\n",
            " [54 'Female' 100000]]\n"
          ]
        }
      ]
    },
    {
      "cell_type": "code",
      "source": [
        "import pandas as pd\n",
        "import numpy as np\n",
        "df = pd.read_excel('/content/student.xlsx')\n",
        "array = df.to_numpy()\n",
        "a = np.vstack(array)\n",
        "print(a)"
      ],
      "metadata": {
        "id": "zU2LHOuf5UUT",
        "colab": {
          "base_uri": "https://localhost:8080/"
        },
        "outputId": "f4ad0a37-7055-4b7c-9647-dda83374c58a"
      },
      "execution_count": null,
      "outputs": [
        {
          "output_type": "stream",
          "name": "stdout",
          "text": [
            "[[nan nan nan]\n",
            " [1.0 '1A' 18.0]\n",
            " [2.0 '2A' 19.0]\n",
            " [3.0 '3A' 20.0]\n",
            " [4.0 '4A' 21.0]\n",
            " [5.0 '1A' 22.0]\n",
            " [6.0 '2A' 23.0]\n",
            " [7.0 '3A' 24.0]\n",
            " [8.0 '4A' 25.0]\n",
            " [9.0 '1A' 26.0]\n",
            " [10.0 '2A' 27.0]\n",
            " [11.0 '3A' 28.0]\n",
            " [12.0 '4A' 29.0]\n",
            " [13.0 '1A' 30.0]\n",
            " [14.0 '2A' 31.0]\n",
            " [15.0 '3A' 32.0]\n",
            " [16.0 '4A' 33.0]\n",
            " [17.0 '1A' 34.0]\n",
            " [18.0 '2A' 35.0]\n",
            " [19.0 '3A' 36.0]\n",
            " [20.0 '4A' 37.0]]\n"
          ]
        }
      ]
    },
    {
      "cell_type": "code",
      "source": [
        "b = np.hstack(array)\n",
        "print(b)"
      ],
      "metadata": {
        "colab": {
          "base_uri": "https://localhost:8080/"
        },
        "id": "MP0cVLrwfEni",
        "outputId": "ca99930b-5f1e-423c-956b-f9efa72eb404"
      },
      "execution_count": null,
      "outputs": [
        {
          "output_type": "stream",
          "name": "stdout",
          "text": [
            "[nan nan nan 1.0 '1A' 18.0 2.0 '2A' 19.0 3.0 '3A' 20.0 4.0 '4A' 21.0 5.0\n",
            " '1A' 22.0 6.0 '2A' 23.0 7.0 '3A' 24.0 8.0 '4A' 25.0 9.0 '1A' 26.0 10.0\n",
            " '2A' 27.0 11.0 '3A' 28.0 12.0 '4A' 29.0 13.0 '1A' 30.0 14.0 '2A' 31.0\n",
            " 15.0 '3A' 32.0 16.0 '4A' 33.0 17.0 '1A' 34.0 18.0 '2A' 35.0 19.0 '3A'\n",
            " 36.0 20.0 '4A' 37.0]\n"
          ]
        }
      ]
    },
    {
      "cell_type": "code",
      "source": [
        "c = np.dstack(array)\n",
        "print(c)"
      ],
      "metadata": {
        "colab": {
          "base_uri": "https://localhost:8080/"
        },
        "id": "oQDY6BIIfV-W",
        "outputId": "615caa24-28af-4574-d10c-477da1fc0231"
      },
      "execution_count": null,
      "outputs": [
        {
          "output_type": "stream",
          "name": "stdout",
          "text": [
            "[[[nan 1.0 2.0 3.0 4.0 5.0 6.0 7.0 8.0 9.0 10.0 11.0 12.0 13.0 14.0 15.0\n",
            "   16.0 17.0 18.0 19.0 20.0]\n",
            "  [nan '1A' '2A' '3A' '4A' '1A' '2A' '3A' '4A' '1A' '2A' '3A' '4A' '1A'\n",
            "   '2A' '3A' '4A' '1A' '2A' '3A' '4A']\n",
            "  [nan 18.0 19.0 20.0 21.0 22.0 23.0 24.0 25.0 26.0 27.0 28.0 29.0 30.0\n",
            "   31.0 32.0 33.0 34.0 35.0 36.0 37.0]]]\n"
          ]
        }
      ]
    },
    {
      "cell_type": "code",
      "source": [
        "array = np.random.randint(0,3,(20,20))\n",
        "\n",
        "zeros = np.sum(array ==0)\n",
        "ones = np.sum(array ==1)\n",
        "twos = np.sum(array ==2)\n",
        "print(zeros)\n",
        "print(ones)\n",
        "print(twos)\n",
        "\n",
        "arr_stacked = np.stack([array,array])\n",
        "print('Numpy horizontal stacking method #1')\n",
        "print('-------------------------------------')\n",
        "print(arr_stacked)"
      ],
      "metadata": {
        "colab": {
          "base_uri": "https://localhost:8080/"
        },
        "id": "P9g8in7UfhYW",
        "outputId": "86dacada-7f9e-4f59-e377-6716d386613d"
      },
      "execution_count": null,
      "outputs": [
        {
          "output_type": "stream",
          "name": "stdout",
          "text": [
            "130\n",
            "143\n",
            "127\n",
            "Numpy horizontal stacking method #1\n",
            "-------------------------------------\n",
            "[[[2 1 0 0 1 2 2 0 0 0 0 0 0 1 2 1 2 0 1 0]\n",
            "  [1 1 0 2 2 1 2 0 2 1 1 1 2 2 1 2 0 2 2 1]\n",
            "  [1 0 2 1 1 1 0 1 2 2 0 0 0 2 1 0 1 1 2 2]\n",
            "  [1 1 0 1 2 1 0 0 2 1 0 2 0 1 2 2 1 2 2 1]\n",
            "  [1 1 0 0 1 0 1 0 2 1 1 2 0 1 1 2 1 1 0 2]\n",
            "  [1 1 1 0 2 2 2 1 2 1 1 2 0 2 2 2 0 0 0 2]\n",
            "  [0 1 0 0 2 2 2 2 0 2 0 1 0 1 1 1 2 1 1 0]\n",
            "  [1 1 2 1 2 2 2 1 0 2 1 1 0 2 0 1 0 0 2 0]\n",
            "  [2 1 2 1 2 1 2 0 0 0 0 1 1 0 1 1 0 0 0 0]\n",
            "  [2 1 2 2 2 0 1 1 0 1 1 1 0 0 1 2 0 0 2 2]\n",
            "  [2 1 2 1 1 0 0 1 2 0 2 0 2 0 1 0 2 0 0 1]\n",
            "  [0 1 0 2 0 0 2 2 1 1 1 1 2 1 2 1 2 2 1 2]\n",
            "  [2 2 2 0 0 0 1 0 0 2 1 1 1 0 1 0 2 1 0 2]\n",
            "  [0 0 0 0 1 2 1 2 1 0 2 0 2 2 0 2 0 1 0 1]\n",
            "  [1 0 2 0 1 2 0 0 1 2 1 1 1 0 2 0 0 0 2 1]\n",
            "  [0 1 2 0 0 0 1 1 1 2 1 0 2 2 1 0 0 1 1 0]\n",
            "  [1 1 1 2 0 1 1 1 0 1 1 0 2 0 0 2 1 2 1 1]\n",
            "  [0 1 1 1 2 0 2 1 0 2 1 0 2 1 1 0 0 1 1 2]\n",
            "  [2 0 2 2 0 0 2 1 2 2 2 2 2 2 1 2 2 1 1 1]\n",
            "  [0 0 2 2 2 0 0 2 2 2 0 1 2 1 0 1 0 1 1 0]]\n",
            "\n",
            " [[2 1 0 0 1 2 2 0 0 0 0 0 0 1 2 1 2 0 1 0]\n",
            "  [1 1 0 2 2 1 2 0 2 1 1 1 2 2 1 2 0 2 2 1]\n",
            "  [1 0 2 1 1 1 0 1 2 2 0 0 0 2 1 0 1 1 2 2]\n",
            "  [1 1 0 1 2 1 0 0 2 1 0 2 0 1 2 2 1 2 2 1]\n",
            "  [1 1 0 0 1 0 1 0 2 1 1 2 0 1 1 2 1 1 0 2]\n",
            "  [1 1 1 0 2 2 2 1 2 1 1 2 0 2 2 2 0 0 0 2]\n",
            "  [0 1 0 0 2 2 2 2 0 2 0 1 0 1 1 1 2 1 1 0]\n",
            "  [1 1 2 1 2 2 2 1 0 2 1 1 0 2 0 1 0 0 2 0]\n",
            "  [2 1 2 1 2 1 2 0 0 0 0 1 1 0 1 1 0 0 0 0]\n",
            "  [2 1 2 2 2 0 1 1 0 1 1 1 0 0 1 2 0 0 2 2]\n",
            "  [2 1 2 1 1 0 0 1 2 0 2 0 2 0 1 0 2 0 0 1]\n",
            "  [0 1 0 2 0 0 2 2 1 1 1 1 2 1 2 1 2 2 1 2]\n",
            "  [2 2 2 0 0 0 1 0 0 2 1 1 1 0 1 0 2 1 0 2]\n",
            "  [0 0 0 0 1 2 1 2 1 0 2 0 2 2 0 2 0 1 0 1]\n",
            "  [1 0 2 0 1 2 0 0 1 2 1 1 1 0 2 0 0 0 2 1]\n",
            "  [0 1 2 0 0 0 1 1 1 2 1 0 2 2 1 0 0 1 1 0]\n",
            "  [1 1 1 2 0 1 1 1 0 1 1 0 2 0 0 2 1 2 1 1]\n",
            "  [0 1 1 1 2 0 2 1 0 2 1 0 2 1 1 0 0 1 1 2]\n",
            "  [2 0 2 2 0 0 2 1 2 2 2 2 2 2 1 2 2 1 1 1]\n",
            "  [0 0 2 2 2 0 0 2 2 2 0 1 2 1 0 1 0 1 1 0]]]\n"
          ]
        }
      ]
    },
    {
      "cell_type": "code",
      "source": [
        "bug = 500\n",
        "veg = int(input(\"Enter the cost for vegetable: \"))\n",
        "glossary = int(input(\"Enter the cost for glossary: \"))\n",
        "daily_need = int(input(\"Enter the cost for daily: \"))\n",
        "if ((veg + glossary)> bug):\n",
        "  print(\"Aradhana not able to purchase daily needs\")\n",
        "\n",
        "elif(veg==166 and glossary==166 and daily_need==166):\n",
        "  print(\"Aradhana able to purchase all the three things\")\n",
        "else:\n",
        "  print(\"Invalid syntax\")"
      ],
      "metadata": {
        "colab": {
          "base_uri": "https://localhost:8080/"
        },
        "id": "TXBy8YeOsC7x",
        "outputId": "36e3596a-7d2d-4e7e-f5b2-15814e1f0f2e"
      },
      "execution_count": null,
      "outputs": [
        {
          "output_type": "stream",
          "name": "stdout",
          "text": [
            "Enter the cost for vegetable: 300\n",
            "Enter the cost for glossary: 300\n",
            "Enter the cost for daily: 150\n",
            "Aradhana not able to purchase daily needs\n"
          ]
        }
      ]
    },
    {
      "cell_type": "code",
      "source": [
        "import pandas as pd\n",
        "df = pd.read_csv('/content/divya_113.csv')\n",
        "a = df['RollNo']\n",
        "b = df['EDS']\n",
        "df.RollNo = df.RollNo.astype('int64')\n",
        "d = df['EDS'][df.RollNo>24]\n",
        "def student(a,b):\n",
        "  print('Stud:',a,b)\n",
        "student(a,b)\n",
        "\n",
        "def student(d):\n",
        "  print('Student Details:',d)\n",
        "student(d)"
      ],
      "metadata": {
        "colab": {
          "base_uri": "https://localhost:8080/"
        },
        "id": "b1C4dCoOg5ry",
        "outputId": "e66c506f-bfb1-4c13-b5ce-066a055513f5"
      },
      "execution_count": null,
      "outputs": [
        {
          "output_type": "stream",
          "name": "stdout",
          "text": [
            "Stud: 0    801\n",
            "1    802\n",
            "2    803\n",
            "3    804\n",
            "4    805\n",
            "5    806\n",
            "6    807\n",
            "7    808\n",
            "8    809\n",
            "9    810\n",
            "Name: RollNo, dtype: int64 0    43.05\n",
            "1    43.47\n",
            "2    42.24\n",
            "3    39.24\n",
            "4    40.90\n",
            "5    39.47\n",
            "6    41.68\n",
            "7    42.19\n",
            "8    44.75\n",
            "9    46.95\n",
            "Name: EDS, dtype: float64\n",
            "Student Details: 0    43.05\n",
            "1    43.47\n",
            "2    42.24\n",
            "3    39.24\n",
            "4    40.90\n",
            "5    39.47\n",
            "6    41.68\n",
            "7    42.19\n",
            "8    44.75\n",
            "9    46.95\n",
            "Name: EDS, dtype: float64\n"
          ]
        }
      ]
    },
    {
      "cell_type": "code",
      "source": [
        "import pandas as pd\n",
        "df = pd.read_csv('/content/Student_113.csv')\n",
        "a = df.groupby('Name')['RollNo'].count()==2\n",
        "b = df.groupby('Name')['RollNo'].head()\n",
        "df.RollNo = df.RollNo.astype('int64')\n",
        "d = df.aggregate(['sum','min','max'])\n",
        "def student(a,b,d):\n",
        "  print('Stud:',a,b,d)\n",
        "student(a,b,d)"
      ],
      "metadata": {
        "colab": {
          "base_uri": "https://localhost:8080/"
        },
        "id": "5TX7AbhZggji",
        "outputId": "39940ed8-1b51-4cd6-b335-e486e8ebbaec"
      },
      "execution_count": null,
      "outputs": [
        {
          "output_type": "stream",
          "name": "stdout",
          "text": [
            "Stud: Name\n",
            "Aditi      False\n",
            "Aditya     False\n",
            "Atharv     False\n",
            "Divya      False\n",
            "Isha       False\n",
            "Kajal      False\n",
            "Kartik     False\n",
            "Kunal      False\n",
            "Nikita     False\n",
            "Omkar      False\n",
            "Pragati    False\n",
            "Prajwal    False\n",
            "Rahul      False\n",
            "Renuka     False\n",
            "Rohit      False\n",
            "Rutik      False\n",
            "Sakshi     False\n",
            "Sarthak    False\n",
            "Srushti    False\n",
            "Swati      False\n",
            "Name: RollNo, dtype: bool 0     101\n",
            "1     102\n",
            "2     103\n",
            "3     104\n",
            "4     105\n",
            "5     106\n",
            "6     107\n",
            "7     108\n",
            "8     109\n",
            "9     110\n",
            "10    111\n",
            "11    112\n",
            "12    113\n",
            "13    114\n",
            "14    115\n",
            "15    116\n",
            "16    117\n",
            "17    118\n",
            "18    119\n",
            "19    120\n",
            "Name: RollNo, dtype: int64      Sr No                                               Name  RollNo  EDS  \\\n",
            "sum    210  DivyaPragatiPrajwalSakshiSrushtiIshaAtharvAdit...    2210  210   \n",
            "min      1                                              Aditi     101    1   \n",
            "max     20                                              Swati     120   20   \n",
            "\n",
            "     SON  SIC  \n",
            "sum  253  235  \n",
            "min    2    2  \n",
            "max   20   20  \n"
          ]
        }
      ]
    },
    {
      "cell_type": "code",
      "source": [
        "import numpy as np\n",
        "import pandas as pd\n",
        "df1= pd.read_excel('/content/113_Student.xlsx')\n",
        "print(df1)\n",
        "\n",
        "a = df1.dropna()\n",
        "print(a)\n",
        "\n",
        "b = df1.dropna(axis = 'columns')\n",
        "print(b)\n",
        "\n",
        "c = df1.dropna(how='all')\n",
        "print(c)"
      ],
      "metadata": {
        "id": "GWw38rm2uhZj",
        "colab": {
          "base_uri": "https://localhost:8080/"
        },
        "outputId": "9e719200-0a1a-4495-bd08-b5a4f6bf864e"
      },
      "execution_count": null,
      "outputs": [
        {
          "output_type": "stream",
          "name": "stdout",
          "text": [
            "    Sr No  Roll No Name  Marks\n",
            "0       1     21.0    A   12.0\n",
            "1       2     22.0    B   10.0\n",
            "2       3     23.0    c   20.0\n",
            "3       4     24.0    d   30.0\n",
            "4       5     25.0    e   45.0\n",
            "5       6     26.0    F   50.0\n",
            "6       7     27.0    g   26.0\n",
            "7       8     28.0  NaN   38.0\n",
            "8       9     29.0    H   46.0\n",
            "9      10     30.0    i   55.0\n",
            "10     11     31.0    J   29.0\n",
            "11     12     32.0    K   30.0\n",
            "12     13     33.0    l   41.0\n",
            "13     14     34.0    M   43.0\n",
            "14     15     35.0    n   53.0\n",
            "15     16      NaN  NaN    NaN\n",
            "16     17     37.0    p   59.0\n",
            "17     18     38.0    Q   19.0\n",
            "18     19     39.0    R   18.0\n",
            "19     20     40.0    S   17.0\n",
            "    Sr No  Roll No Name  Marks\n",
            "0       1     21.0    A   12.0\n",
            "1       2     22.0    B   10.0\n",
            "2       3     23.0    c   20.0\n",
            "3       4     24.0    d   30.0\n",
            "4       5     25.0    e   45.0\n",
            "5       6     26.0    F   50.0\n",
            "6       7     27.0    g   26.0\n",
            "8       9     29.0    H   46.0\n",
            "9      10     30.0    i   55.0\n",
            "10     11     31.0    J   29.0\n",
            "11     12     32.0    K   30.0\n",
            "12     13     33.0    l   41.0\n",
            "13     14     34.0    M   43.0\n",
            "14     15     35.0    n   53.0\n",
            "16     17     37.0    p   59.0\n",
            "17     18     38.0    Q   19.0\n",
            "18     19     39.0    R   18.0\n",
            "19     20     40.0    S   17.0\n",
            "    Sr No\n",
            "0       1\n",
            "1       2\n",
            "2       3\n",
            "3       4\n",
            "4       5\n",
            "5       6\n",
            "6       7\n",
            "7       8\n",
            "8       9\n",
            "9      10\n",
            "10     11\n",
            "11     12\n",
            "12     13\n",
            "13     14\n",
            "14     15\n",
            "15     16\n",
            "16     17\n",
            "17     18\n",
            "18     19\n",
            "19     20\n",
            "    Sr No  Roll No Name  Marks\n",
            "0       1     21.0    A   12.0\n",
            "1       2     22.0    B   10.0\n",
            "2       3     23.0    c   20.0\n",
            "3       4     24.0    d   30.0\n",
            "4       5     25.0    e   45.0\n",
            "5       6     26.0    F   50.0\n",
            "6       7     27.0    g   26.0\n",
            "7       8     28.0  NaN   38.0\n",
            "8       9     29.0    H   46.0\n",
            "9      10     30.0    i   55.0\n",
            "10     11     31.0    J   29.0\n",
            "11     12     32.0    K   30.0\n",
            "12     13     33.0    l   41.0\n",
            "13     14     34.0    M   43.0\n",
            "14     15     35.0    n   53.0\n",
            "15     16      NaN  NaN    NaN\n",
            "16     17     37.0    p   59.0\n",
            "17     18     38.0    Q   19.0\n",
            "18     19     39.0    R   18.0\n",
            "19     20     40.0    S   17.0\n"
          ]
        }
      ]
    },
    {
      "cell_type": "code",
      "source": [
        "import numpy as np\n",
        "import pandas as pd\n",
        "df1= pd.read_excel('/content/113_Student.xlsx')\n",
        "data = df1.values.tolist()\n",
        "print(data)"
      ],
      "metadata": {
        "colab": {
          "base_uri": "https://localhost:8080/"
        },
        "id": "aDBj3nbZ9kcv",
        "outputId": "0bebc148-fa4d-4b10-fdbd-d630f12043b2"
      },
      "execution_count": null,
      "outputs": [
        {
          "output_type": "stream",
          "name": "stdout",
          "text": [
            "[[1, 21.0, 'A', 12.0], [2, 22.0, 'B', 10.0], [3, 23.0, 'c', 20.0], [4, 24.0, 'd', 30.0], [5, 25.0, 'e', 45.0], [6, 26.0, 'F', 50.0], [7, 27.0, 'g', 26.0], [8, 28.0, nan, 38.0], [9, 29.0, 'H', 46.0], [10, 30.0, 'i', 55.0], [11, 31.0, 'J', 29.0], [12, 32.0, 'K', 30.0], [13, 33.0, 'l', 41.0], [14, 34.0, 'M', 43.0], [15, 35.0, 'n', 53.0], [16, nan, nan, nan], [17, 37.0, 'p', 59.0], [18, 38.0, 'Q', 19.0], [19, 39.0, 'R', 18.0], [20, 40.0, 'S', 17.0]]\n"
          ]
        }
      ]
    },
    {
      "cell_type": "code",
      "source": [
        "a1 = df1.head()\n",
        "print(a1)"
      ],
      "metadata": {
        "colab": {
          "base_uri": "https://localhost:8080/"
        },
        "id": "zJePpbfc9-ws",
        "outputId": "5c0eb972-c1b4-4365-dd6a-49268f5bdc3f"
      },
      "execution_count": null,
      "outputs": [
        {
          "output_type": "stream",
          "name": "stdout",
          "text": [
            "   Sr No  Roll No Name  Marks\n",
            "0      1     21.0    A   12.0\n",
            "1      2     22.0    B   10.0\n",
            "2      3     23.0    c   20.0\n",
            "3      4     24.0    d   30.0\n",
            "4      5     25.0    e   45.0\n"
          ]
        }
      ]
    },
    {
      "cell_type": "code",
      "source": [
        "a2 = df1[df1.isna().any(axis=1)]\n",
        "print(a2)"
      ],
      "metadata": {
        "colab": {
          "base_uri": "https://localhost:8080/"
        },
        "id": "Fvgj5nvX-NxO",
        "outputId": "a159a42d-06c2-4494-fdbc-b1141186f2c7"
      },
      "execution_count": null,
      "outputs": [
        {
          "output_type": "stream",
          "name": "stdout",
          "text": [
            "    Sr No  Roll No Name  Marks\n",
            "7       8     28.0  NaN   38.0\n",
            "15     16      NaN  NaN    NaN\n"
          ]
        }
      ]
    },
    {
      "cell_type": "code",
      "source": [
        "import numpy as np\n",
        "import pandas as pd\n",
        "df1= pd.read_excel('/content/113_Student 1.xlsx')\n",
        "df1['Name_uppercase'] = df1['NAME'].map(lambda NAME: NAME.upper())\n",
        "df1"
      ],
      "metadata": {
        "colab": {
          "base_uri": "https://localhost:8080/",
          "height": 345
        },
        "id": "nDKb2Q5N-t8f",
        "outputId": "9dc4afa3-ef89-4158-9ff2-a23bef8f89b0"
      },
      "execution_count": null,
      "outputs": [
        {
          "output_type": "error",
          "ename": "AttributeError",
          "evalue": "ignored",
          "traceback": [
            "\u001b[0;31m---------------------------------------------------------------------------\u001b[0m",
            "\u001b[0;31mAttributeError\u001b[0m                            Traceback (most recent call last)",
            "\u001b[0;32m<ipython-input-22-6b4de48e5965>\u001b[0m in \u001b[0;36m<cell line: 4>\u001b[0;34m()\u001b[0m\n\u001b[1;32m      2\u001b[0m \u001b[0;32mimport\u001b[0m \u001b[0mpandas\u001b[0m \u001b[0;32mas\u001b[0m \u001b[0mpd\u001b[0m\u001b[0;34m\u001b[0m\u001b[0;34m\u001b[0m\u001b[0m\n\u001b[1;32m      3\u001b[0m \u001b[0mdf1\u001b[0m\u001b[0;34m=\u001b[0m \u001b[0mpd\u001b[0m\u001b[0;34m.\u001b[0m\u001b[0mread_excel\u001b[0m\u001b[0;34m(\u001b[0m\u001b[0;34m'/content/113_Student 1.xlsx'\u001b[0m\u001b[0;34m)\u001b[0m\u001b[0;34m\u001b[0m\u001b[0;34m\u001b[0m\u001b[0m\n\u001b[0;32m----> 4\u001b[0;31m \u001b[0mdf1\u001b[0m\u001b[0;34m[\u001b[0m\u001b[0;34m'Name_uppercase'\u001b[0m\u001b[0;34m]\u001b[0m \u001b[0;34m=\u001b[0m \u001b[0mdf1\u001b[0m\u001b[0;34m[\u001b[0m\u001b[0;34m'NAME'\u001b[0m\u001b[0;34m]\u001b[0m\u001b[0;34m.\u001b[0m\u001b[0mmap\u001b[0m\u001b[0;34m(\u001b[0m\u001b[0;32mlambda\u001b[0m \u001b[0mNAME\u001b[0m\u001b[0;34m:\u001b[0m \u001b[0mNAME\u001b[0m\u001b[0;34m.\u001b[0m\u001b[0mupper\u001b[0m\u001b[0;34m(\u001b[0m\u001b[0;34m)\u001b[0m\u001b[0;34m)\u001b[0m\u001b[0;34m\u001b[0m\u001b[0;34m\u001b[0m\u001b[0m\n\u001b[0m\u001b[1;32m      5\u001b[0m \u001b[0mdf1\u001b[0m\u001b[0;34m\u001b[0m\u001b[0;34m\u001b[0m\u001b[0m\n",
            "\u001b[0;32m/usr/local/lib/python3.10/dist-packages/pandas/core/series.py\u001b[0m in \u001b[0;36mmap\u001b[0;34m(self, arg, na_action)\u001b[0m\n\u001b[1;32m   4537\u001b[0m         \u001b[0mdtype\u001b[0m\u001b[0;34m:\u001b[0m \u001b[0mobject\u001b[0m\u001b[0;34m\u001b[0m\u001b[0;34m\u001b[0m\u001b[0m\n\u001b[1;32m   4538\u001b[0m         \"\"\"\n\u001b[0;32m-> 4539\u001b[0;31m         \u001b[0mnew_values\u001b[0m \u001b[0;34m=\u001b[0m \u001b[0mself\u001b[0m\u001b[0;34m.\u001b[0m\u001b[0m_map_values\u001b[0m\u001b[0;34m(\u001b[0m\u001b[0marg\u001b[0m\u001b[0;34m,\u001b[0m \u001b[0mna_action\u001b[0m\u001b[0;34m=\u001b[0m\u001b[0mna_action\u001b[0m\u001b[0;34m)\u001b[0m\u001b[0;34m\u001b[0m\u001b[0;34m\u001b[0m\u001b[0m\n\u001b[0m\u001b[1;32m   4540\u001b[0m         return self._constructor(new_values, index=self.index).__finalize__(\n\u001b[1;32m   4541\u001b[0m             \u001b[0mself\u001b[0m\u001b[0;34m,\u001b[0m \u001b[0mmethod\u001b[0m\u001b[0;34m=\u001b[0m\u001b[0;34m\"map\"\u001b[0m\u001b[0;34m\u001b[0m\u001b[0;34m\u001b[0m\u001b[0m\n",
            "\u001b[0;32m/usr/local/lib/python3.10/dist-packages/pandas/core/base.py\u001b[0m in \u001b[0;36m_map_values\u001b[0;34m(self, mapper, na_action)\u001b[0m\n\u001b[1;32m    888\u001b[0m \u001b[0;34m\u001b[0m\u001b[0m\n\u001b[1;32m    889\u001b[0m         \u001b[0;31m# mapper is a function\u001b[0m\u001b[0;34m\u001b[0m\u001b[0;34m\u001b[0m\u001b[0m\n\u001b[0;32m--> 890\u001b[0;31m         \u001b[0mnew_values\u001b[0m \u001b[0;34m=\u001b[0m \u001b[0mmap_f\u001b[0m\u001b[0;34m(\u001b[0m\u001b[0mvalues\u001b[0m\u001b[0;34m,\u001b[0m \u001b[0mmapper\u001b[0m\u001b[0;34m)\u001b[0m\u001b[0;34m\u001b[0m\u001b[0;34m\u001b[0m\u001b[0m\n\u001b[0m\u001b[1;32m    891\u001b[0m \u001b[0;34m\u001b[0m\u001b[0m\n\u001b[1;32m    892\u001b[0m         \u001b[0;32mreturn\u001b[0m \u001b[0mnew_values\u001b[0m\u001b[0;34m\u001b[0m\u001b[0;34m\u001b[0m\u001b[0m\n",
            "\u001b[0;32m/usr/local/lib/python3.10/dist-packages/pandas/_libs/lib.pyx\u001b[0m in \u001b[0;36mpandas._libs.lib.map_infer\u001b[0;34m()\u001b[0m\n",
            "\u001b[0;32m<ipython-input-22-6b4de48e5965>\u001b[0m in \u001b[0;36m<lambda>\u001b[0;34m(NAME)\u001b[0m\n\u001b[1;32m      2\u001b[0m \u001b[0;32mimport\u001b[0m \u001b[0mpandas\u001b[0m \u001b[0;32mas\u001b[0m \u001b[0mpd\u001b[0m\u001b[0;34m\u001b[0m\u001b[0;34m\u001b[0m\u001b[0m\n\u001b[1;32m      3\u001b[0m \u001b[0mdf1\u001b[0m\u001b[0;34m=\u001b[0m \u001b[0mpd\u001b[0m\u001b[0;34m.\u001b[0m\u001b[0mread_excel\u001b[0m\u001b[0;34m(\u001b[0m\u001b[0;34m'/content/113_Student 1.xlsx'\u001b[0m\u001b[0;34m)\u001b[0m\u001b[0;34m\u001b[0m\u001b[0;34m\u001b[0m\u001b[0m\n\u001b[0;32m----> 4\u001b[0;31m \u001b[0mdf1\u001b[0m\u001b[0;34m[\u001b[0m\u001b[0;34m'Name_uppercase'\u001b[0m\u001b[0;34m]\u001b[0m \u001b[0;34m=\u001b[0m \u001b[0mdf1\u001b[0m\u001b[0;34m[\u001b[0m\u001b[0;34m'NAME'\u001b[0m\u001b[0;34m]\u001b[0m\u001b[0;34m.\u001b[0m\u001b[0mmap\u001b[0m\u001b[0;34m(\u001b[0m\u001b[0;32mlambda\u001b[0m \u001b[0mNAME\u001b[0m\u001b[0;34m:\u001b[0m \u001b[0mNAME\u001b[0m\u001b[0;34m.\u001b[0m\u001b[0mupper\u001b[0m\u001b[0;34m(\u001b[0m\u001b[0;34m)\u001b[0m\u001b[0;34m)\u001b[0m\u001b[0;34m\u001b[0m\u001b[0;34m\u001b[0m\u001b[0m\n\u001b[0m\u001b[1;32m      5\u001b[0m \u001b[0mdf1\u001b[0m\u001b[0;34m\u001b[0m\u001b[0;34m\u001b[0m\u001b[0m\n",
            "\u001b[0;31mAttributeError\u001b[0m: 'float' object has no attribute 'upper'"
          ]
        }
      ]
    },
    {
      "cell_type": "code",
      "source": [
        "df1['RollNo_times_two']=df1['Roll No']*2\n",
        "df1"
      ],
      "metadata": {
        "colab": {
          "base_uri": "https://localhost:8080/",
          "height": 676
        },
        "id": "UJViXW5XAmo2",
        "outputId": "edf561b0-3030-46e5-80f7-6b7f39cac64b"
      },
      "execution_count": null,
      "outputs": [
        {
          "output_type": "execute_result",
          "data": {
            "text/plain": [
              "    Sr No  Roll No Name  Marks  RollNo_times_two\n",
              "0       1     21.0    A   12.0              42.0\n",
              "1       2     22.0    B   10.0              44.0\n",
              "2       3     23.0    c   20.0              46.0\n",
              "3       4     24.0    d   30.0              48.0\n",
              "4       5     25.0    e   45.0              50.0\n",
              "5       6     26.0    F   50.0              52.0\n",
              "6       7     27.0    g   26.0              54.0\n",
              "7       8     28.0  NaN   38.0              56.0\n",
              "8       9     29.0    H   46.0              58.0\n",
              "9      10     30.0    i   55.0              60.0\n",
              "10     11     31.0    J   29.0              62.0\n",
              "11     12     32.0    K   30.0              64.0\n",
              "12     13     33.0    l   41.0              66.0\n",
              "13     14     34.0    M   43.0              68.0\n",
              "14     15     35.0    n   53.0              70.0\n",
              "15     16      NaN  NaN    NaN               NaN\n",
              "16     17     37.0    p   59.0              74.0\n",
              "17     18     38.0    Q   19.0              76.0\n",
              "18     19     39.0    R   18.0              78.0\n",
              "19     20     40.0    S   17.0              80.0"
            ],
            "text/html": [
              "\n",
              "  <div id=\"df-0c687b8e-13a4-4618-aeae-4acde722597e\">\n",
              "    <div class=\"colab-df-container\">\n",
              "      <div>\n",
              "<style scoped>\n",
              "    .dataframe tbody tr th:only-of-type {\n",
              "        vertical-align: middle;\n",
              "    }\n",
              "\n",
              "    .dataframe tbody tr th {\n",
              "        vertical-align: top;\n",
              "    }\n",
              "\n",
              "    .dataframe thead th {\n",
              "        text-align: right;\n",
              "    }\n",
              "</style>\n",
              "<table border=\"1\" class=\"dataframe\">\n",
              "  <thead>\n",
              "    <tr style=\"text-align: right;\">\n",
              "      <th></th>\n",
              "      <th>Sr No</th>\n",
              "      <th>Roll No</th>\n",
              "      <th>Name</th>\n",
              "      <th>Marks</th>\n",
              "      <th>RollNo_times_two</th>\n",
              "    </tr>\n",
              "  </thead>\n",
              "  <tbody>\n",
              "    <tr>\n",
              "      <th>0</th>\n",
              "      <td>1</td>\n",
              "      <td>21.0</td>\n",
              "      <td>A</td>\n",
              "      <td>12.0</td>\n",
              "      <td>42.0</td>\n",
              "    </tr>\n",
              "    <tr>\n",
              "      <th>1</th>\n",
              "      <td>2</td>\n",
              "      <td>22.0</td>\n",
              "      <td>B</td>\n",
              "      <td>10.0</td>\n",
              "      <td>44.0</td>\n",
              "    </tr>\n",
              "    <tr>\n",
              "      <th>2</th>\n",
              "      <td>3</td>\n",
              "      <td>23.0</td>\n",
              "      <td>c</td>\n",
              "      <td>20.0</td>\n",
              "      <td>46.0</td>\n",
              "    </tr>\n",
              "    <tr>\n",
              "      <th>3</th>\n",
              "      <td>4</td>\n",
              "      <td>24.0</td>\n",
              "      <td>d</td>\n",
              "      <td>30.0</td>\n",
              "      <td>48.0</td>\n",
              "    </tr>\n",
              "    <tr>\n",
              "      <th>4</th>\n",
              "      <td>5</td>\n",
              "      <td>25.0</td>\n",
              "      <td>e</td>\n",
              "      <td>45.0</td>\n",
              "      <td>50.0</td>\n",
              "    </tr>\n",
              "    <tr>\n",
              "      <th>5</th>\n",
              "      <td>6</td>\n",
              "      <td>26.0</td>\n",
              "      <td>F</td>\n",
              "      <td>50.0</td>\n",
              "      <td>52.0</td>\n",
              "    </tr>\n",
              "    <tr>\n",
              "      <th>6</th>\n",
              "      <td>7</td>\n",
              "      <td>27.0</td>\n",
              "      <td>g</td>\n",
              "      <td>26.0</td>\n",
              "      <td>54.0</td>\n",
              "    </tr>\n",
              "    <tr>\n",
              "      <th>7</th>\n",
              "      <td>8</td>\n",
              "      <td>28.0</td>\n",
              "      <td>NaN</td>\n",
              "      <td>38.0</td>\n",
              "      <td>56.0</td>\n",
              "    </tr>\n",
              "    <tr>\n",
              "      <th>8</th>\n",
              "      <td>9</td>\n",
              "      <td>29.0</td>\n",
              "      <td>H</td>\n",
              "      <td>46.0</td>\n",
              "      <td>58.0</td>\n",
              "    </tr>\n",
              "    <tr>\n",
              "      <th>9</th>\n",
              "      <td>10</td>\n",
              "      <td>30.0</td>\n",
              "      <td>i</td>\n",
              "      <td>55.0</td>\n",
              "      <td>60.0</td>\n",
              "    </tr>\n",
              "    <tr>\n",
              "      <th>10</th>\n",
              "      <td>11</td>\n",
              "      <td>31.0</td>\n",
              "      <td>J</td>\n",
              "      <td>29.0</td>\n",
              "      <td>62.0</td>\n",
              "    </tr>\n",
              "    <tr>\n",
              "      <th>11</th>\n",
              "      <td>12</td>\n",
              "      <td>32.0</td>\n",
              "      <td>K</td>\n",
              "      <td>30.0</td>\n",
              "      <td>64.0</td>\n",
              "    </tr>\n",
              "    <tr>\n",
              "      <th>12</th>\n",
              "      <td>13</td>\n",
              "      <td>33.0</td>\n",
              "      <td>l</td>\n",
              "      <td>41.0</td>\n",
              "      <td>66.0</td>\n",
              "    </tr>\n",
              "    <tr>\n",
              "      <th>13</th>\n",
              "      <td>14</td>\n",
              "      <td>34.0</td>\n",
              "      <td>M</td>\n",
              "      <td>43.0</td>\n",
              "      <td>68.0</td>\n",
              "    </tr>\n",
              "    <tr>\n",
              "      <th>14</th>\n",
              "      <td>15</td>\n",
              "      <td>35.0</td>\n",
              "      <td>n</td>\n",
              "      <td>53.0</td>\n",
              "      <td>70.0</td>\n",
              "    </tr>\n",
              "    <tr>\n",
              "      <th>15</th>\n",
              "      <td>16</td>\n",
              "      <td>NaN</td>\n",
              "      <td>NaN</td>\n",
              "      <td>NaN</td>\n",
              "      <td>NaN</td>\n",
              "    </tr>\n",
              "    <tr>\n",
              "      <th>16</th>\n",
              "      <td>17</td>\n",
              "      <td>37.0</td>\n",
              "      <td>p</td>\n",
              "      <td>59.0</td>\n",
              "      <td>74.0</td>\n",
              "    </tr>\n",
              "    <tr>\n",
              "      <th>17</th>\n",
              "      <td>18</td>\n",
              "      <td>38.0</td>\n",
              "      <td>Q</td>\n",
              "      <td>19.0</td>\n",
              "      <td>76.0</td>\n",
              "    </tr>\n",
              "    <tr>\n",
              "      <th>18</th>\n",
              "      <td>19</td>\n",
              "      <td>39.0</td>\n",
              "      <td>R</td>\n",
              "      <td>18.0</td>\n",
              "      <td>78.0</td>\n",
              "    </tr>\n",
              "    <tr>\n",
              "      <th>19</th>\n",
              "      <td>20</td>\n",
              "      <td>40.0</td>\n",
              "      <td>S</td>\n",
              "      <td>17.0</td>\n",
              "      <td>80.0</td>\n",
              "    </tr>\n",
              "  </tbody>\n",
              "</table>\n",
              "</div>\n",
              "      <button class=\"colab-df-convert\" onclick=\"convertToInteractive('df-0c687b8e-13a4-4618-aeae-4acde722597e')\"\n",
              "              title=\"Convert this dataframe to an interactive table.\"\n",
              "              style=\"display:none;\">\n",
              "        \n",
              "  <svg xmlns=\"http://www.w3.org/2000/svg\" height=\"24px\"viewBox=\"0 0 24 24\"\n",
              "       width=\"24px\">\n",
              "    <path d=\"M0 0h24v24H0V0z\" fill=\"none\"/>\n",
              "    <path d=\"M18.56 5.44l.94 2.06.94-2.06 2.06-.94-2.06-.94-.94-2.06-.94 2.06-2.06.94zm-11 1L8.5 8.5l.94-2.06 2.06-.94-2.06-.94L8.5 2.5l-.94 2.06-2.06.94zm10 10l.94 2.06.94-2.06 2.06-.94-2.06-.94-.94-2.06-.94 2.06-2.06.94z\"/><path d=\"M17.41 7.96l-1.37-1.37c-.4-.4-.92-.59-1.43-.59-.52 0-1.04.2-1.43.59L10.3 9.45l-7.72 7.72c-.78.78-.78 2.05 0 2.83L4 21.41c.39.39.9.59 1.41.59.51 0 1.02-.2 1.41-.59l7.78-7.78 2.81-2.81c.8-.78.8-2.07 0-2.86zM5.41 20L4 18.59l7.72-7.72 1.47 1.35L5.41 20z\"/>\n",
              "  </svg>\n",
              "      </button>\n",
              "      \n",
              "  <style>\n",
              "    .colab-df-container {\n",
              "      display:flex;\n",
              "      flex-wrap:wrap;\n",
              "      gap: 12px;\n",
              "    }\n",
              "\n",
              "    .colab-df-convert {\n",
              "      background-color: #E8F0FE;\n",
              "      border: none;\n",
              "      border-radius: 50%;\n",
              "      cursor: pointer;\n",
              "      display: none;\n",
              "      fill: #1967D2;\n",
              "      height: 32px;\n",
              "      padding: 0 0 0 0;\n",
              "      width: 32px;\n",
              "    }\n",
              "\n",
              "    .colab-df-convert:hover {\n",
              "      background-color: #E2EBFA;\n",
              "      box-shadow: 0px 1px 2px rgba(60, 64, 67, 0.3), 0px 1px 3px 1px rgba(60, 64, 67, 0.15);\n",
              "      fill: #174EA6;\n",
              "    }\n",
              "\n",
              "    [theme=dark] .colab-df-convert {\n",
              "      background-color: #3B4455;\n",
              "      fill: #D2E3FC;\n",
              "    }\n",
              "\n",
              "    [theme=dark] .colab-df-convert:hover {\n",
              "      background-color: #434B5C;\n",
              "      box-shadow: 0px 1px 3px 1px rgba(0, 0, 0, 0.15);\n",
              "      filter: drop-shadow(0px 1px 2px rgba(0, 0, 0, 0.3));\n",
              "      fill: #FFFFFF;\n",
              "    }\n",
              "  </style>\n",
              "\n",
              "      <script>\n",
              "        const buttonEl =\n",
              "          document.querySelector('#df-0c687b8e-13a4-4618-aeae-4acde722597e button.colab-df-convert');\n",
              "        buttonEl.style.display =\n",
              "          google.colab.kernel.accessAllowed ? 'block' : 'none';\n",
              "\n",
              "        async function convertToInteractive(key) {\n",
              "          const element = document.querySelector('#df-0c687b8e-13a4-4618-aeae-4acde722597e');\n",
              "          const dataTable =\n",
              "            await google.colab.kernel.invokeFunction('convertToInteractive',\n",
              "                                                     [key], {});\n",
              "          if (!dataTable) return;\n",
              "\n",
              "          const docLinkHtml = 'Like what you see? Visit the ' +\n",
              "            '<a target=\"_blank\" href=https://colab.research.google.com/notebooks/data_table.ipynb>data table notebook</a>'\n",
              "            + ' to learn more about interactive tables.';\n",
              "          element.innerHTML = '';\n",
              "          dataTable['output_type'] = 'display_data';\n",
              "          await google.colab.output.renderOutput(dataTable, element);\n",
              "          const docLink = document.createElement('div');\n",
              "          docLink.innerHTML = docLinkHtml;\n",
              "          element.appendChild(docLink);\n",
              "        }\n",
              "      </script>\n",
              "    </div>\n",
              "  </div>\n",
              "  "
            ]
          },
          "metadata": {},
          "execution_count": 10
        }
      ]
    },
    {
      "cell_type": "code",
      "source": [
        "df1.columns = [col.upper() for col in df1.columns]\n",
        "df1"
      ],
      "metadata": {
        "colab": {
          "base_uri": "https://localhost:8080/",
          "height": 676
        },
        "id": "w1bxb0q7Bc0u",
        "outputId": "c2ababd8-c2b5-420e-b8c6-2504ca929079"
      },
      "execution_count": null,
      "outputs": [
        {
          "output_type": "execute_result",
          "data": {
            "text/plain": [
              "    SR NO  ROLL NO NAME  MARKS  ROLLNO_TIMES_TWO NAME\n",
              "0       1     21.0    A   12.0              42.0   dc\n",
              "1       2     22.0    B   10.0              44.0   ca\n",
              "2       3     23.0    c   20.0              46.0   ny\n",
              "3       4     24.0    d   30.0              48.0  NaN\n",
              "4       5     25.0    e   45.0              50.0  NaN\n",
              "5       6     26.0    F   50.0              52.0  NaN\n",
              "6       7     27.0    g   26.0              54.0  NaN\n",
              "7       8     28.0  NaN   38.0              56.0  NaN\n",
              "8       9     29.0    H   46.0              58.0  NaN\n",
              "9      10     30.0    i   55.0              60.0  NaN\n",
              "10     11     31.0    J   29.0              62.0  NaN\n",
              "11     12     32.0    K   30.0              64.0  NaN\n",
              "12     13     33.0    l   41.0              66.0  NaN\n",
              "13     14     34.0    M   43.0              68.0  NaN\n",
              "14     15     35.0    n   53.0              70.0  NaN\n",
              "15     16      NaN  NaN    NaN               NaN  NaN\n",
              "16     17     37.0    p   59.0              74.0  NaN\n",
              "17     18     38.0    Q   19.0              76.0  NaN\n",
              "18     19     39.0    R   18.0              78.0  NaN\n",
              "19     20     40.0    S   17.0              80.0  NaN"
            ],
            "text/html": [
              "\n",
              "  <div id=\"df-ec3d83e9-43b5-4eed-ae64-9805c45e7a03\">\n",
              "    <div class=\"colab-df-container\">\n",
              "      <div>\n",
              "<style scoped>\n",
              "    .dataframe tbody tr th:only-of-type {\n",
              "        vertical-align: middle;\n",
              "    }\n",
              "\n",
              "    .dataframe tbody tr th {\n",
              "        vertical-align: top;\n",
              "    }\n",
              "\n",
              "    .dataframe thead th {\n",
              "        text-align: right;\n",
              "    }\n",
              "</style>\n",
              "<table border=\"1\" class=\"dataframe\">\n",
              "  <thead>\n",
              "    <tr style=\"text-align: right;\">\n",
              "      <th></th>\n",
              "      <th>SR NO</th>\n",
              "      <th>ROLL NO</th>\n",
              "      <th>NAME</th>\n",
              "      <th>MARKS</th>\n",
              "      <th>ROLLNO_TIMES_TWO</th>\n",
              "      <th>NAME</th>\n",
              "    </tr>\n",
              "  </thead>\n",
              "  <tbody>\n",
              "    <tr>\n",
              "      <th>0</th>\n",
              "      <td>1</td>\n",
              "      <td>21.0</td>\n",
              "      <td>A</td>\n",
              "      <td>12.0</td>\n",
              "      <td>42.0</td>\n",
              "      <td>dc</td>\n",
              "    </tr>\n",
              "    <tr>\n",
              "      <th>1</th>\n",
              "      <td>2</td>\n",
              "      <td>22.0</td>\n",
              "      <td>B</td>\n",
              "      <td>10.0</td>\n",
              "      <td>44.0</td>\n",
              "      <td>ca</td>\n",
              "    </tr>\n",
              "    <tr>\n",
              "      <th>2</th>\n",
              "      <td>3</td>\n",
              "      <td>23.0</td>\n",
              "      <td>c</td>\n",
              "      <td>20.0</td>\n",
              "      <td>46.0</td>\n",
              "      <td>ny</td>\n",
              "    </tr>\n",
              "    <tr>\n",
              "      <th>3</th>\n",
              "      <td>4</td>\n",
              "      <td>24.0</td>\n",
              "      <td>d</td>\n",
              "      <td>30.0</td>\n",
              "      <td>48.0</td>\n",
              "      <td>NaN</td>\n",
              "    </tr>\n",
              "    <tr>\n",
              "      <th>4</th>\n",
              "      <td>5</td>\n",
              "      <td>25.0</td>\n",
              "      <td>e</td>\n",
              "      <td>45.0</td>\n",
              "      <td>50.0</td>\n",
              "      <td>NaN</td>\n",
              "    </tr>\n",
              "    <tr>\n",
              "      <th>5</th>\n",
              "      <td>6</td>\n",
              "      <td>26.0</td>\n",
              "      <td>F</td>\n",
              "      <td>50.0</td>\n",
              "      <td>52.0</td>\n",
              "      <td>NaN</td>\n",
              "    </tr>\n",
              "    <tr>\n",
              "      <th>6</th>\n",
              "      <td>7</td>\n",
              "      <td>27.0</td>\n",
              "      <td>g</td>\n",
              "      <td>26.0</td>\n",
              "      <td>54.0</td>\n",
              "      <td>NaN</td>\n",
              "    </tr>\n",
              "    <tr>\n",
              "      <th>7</th>\n",
              "      <td>8</td>\n",
              "      <td>28.0</td>\n",
              "      <td>NaN</td>\n",
              "      <td>38.0</td>\n",
              "      <td>56.0</td>\n",
              "      <td>NaN</td>\n",
              "    </tr>\n",
              "    <tr>\n",
              "      <th>8</th>\n",
              "      <td>9</td>\n",
              "      <td>29.0</td>\n",
              "      <td>H</td>\n",
              "      <td>46.0</td>\n",
              "      <td>58.0</td>\n",
              "      <td>NaN</td>\n",
              "    </tr>\n",
              "    <tr>\n",
              "      <th>9</th>\n",
              "      <td>10</td>\n",
              "      <td>30.0</td>\n",
              "      <td>i</td>\n",
              "      <td>55.0</td>\n",
              "      <td>60.0</td>\n",
              "      <td>NaN</td>\n",
              "    </tr>\n",
              "    <tr>\n",
              "      <th>10</th>\n",
              "      <td>11</td>\n",
              "      <td>31.0</td>\n",
              "      <td>J</td>\n",
              "      <td>29.0</td>\n",
              "      <td>62.0</td>\n",
              "      <td>NaN</td>\n",
              "    </tr>\n",
              "    <tr>\n",
              "      <th>11</th>\n",
              "      <td>12</td>\n",
              "      <td>32.0</td>\n",
              "      <td>K</td>\n",
              "      <td>30.0</td>\n",
              "      <td>64.0</td>\n",
              "      <td>NaN</td>\n",
              "    </tr>\n",
              "    <tr>\n",
              "      <th>12</th>\n",
              "      <td>13</td>\n",
              "      <td>33.0</td>\n",
              "      <td>l</td>\n",
              "      <td>41.0</td>\n",
              "      <td>66.0</td>\n",
              "      <td>NaN</td>\n",
              "    </tr>\n",
              "    <tr>\n",
              "      <th>13</th>\n",
              "      <td>14</td>\n",
              "      <td>34.0</td>\n",
              "      <td>M</td>\n",
              "      <td>43.0</td>\n",
              "      <td>68.0</td>\n",
              "      <td>NaN</td>\n",
              "    </tr>\n",
              "    <tr>\n",
              "      <th>14</th>\n",
              "      <td>15</td>\n",
              "      <td>35.0</td>\n",
              "      <td>n</td>\n",
              "      <td>53.0</td>\n",
              "      <td>70.0</td>\n",
              "      <td>NaN</td>\n",
              "    </tr>\n",
              "    <tr>\n",
              "      <th>15</th>\n",
              "      <td>16</td>\n",
              "      <td>NaN</td>\n",
              "      <td>NaN</td>\n",
              "      <td>NaN</td>\n",
              "      <td>NaN</td>\n",
              "      <td>NaN</td>\n",
              "    </tr>\n",
              "    <tr>\n",
              "      <th>16</th>\n",
              "      <td>17</td>\n",
              "      <td>37.0</td>\n",
              "      <td>p</td>\n",
              "      <td>59.0</td>\n",
              "      <td>74.0</td>\n",
              "      <td>NaN</td>\n",
              "    </tr>\n",
              "    <tr>\n",
              "      <th>17</th>\n",
              "      <td>18</td>\n",
              "      <td>38.0</td>\n",
              "      <td>Q</td>\n",
              "      <td>19.0</td>\n",
              "      <td>76.0</td>\n",
              "      <td>NaN</td>\n",
              "    </tr>\n",
              "    <tr>\n",
              "      <th>18</th>\n",
              "      <td>19</td>\n",
              "      <td>39.0</td>\n",
              "      <td>R</td>\n",
              "      <td>18.0</td>\n",
              "      <td>78.0</td>\n",
              "      <td>NaN</td>\n",
              "    </tr>\n",
              "    <tr>\n",
              "      <th>19</th>\n",
              "      <td>20</td>\n",
              "      <td>40.0</td>\n",
              "      <td>S</td>\n",
              "      <td>17.0</td>\n",
              "      <td>80.0</td>\n",
              "      <td>NaN</td>\n",
              "    </tr>\n",
              "  </tbody>\n",
              "</table>\n",
              "</div>\n",
              "      <button class=\"colab-df-convert\" onclick=\"convertToInteractive('df-ec3d83e9-43b5-4eed-ae64-9805c45e7a03')\"\n",
              "              title=\"Convert this dataframe to an interactive table.\"\n",
              "              style=\"display:none;\">\n",
              "        \n",
              "  <svg xmlns=\"http://www.w3.org/2000/svg\" height=\"24px\"viewBox=\"0 0 24 24\"\n",
              "       width=\"24px\">\n",
              "    <path d=\"M0 0h24v24H0V0z\" fill=\"none\"/>\n",
              "    <path d=\"M18.56 5.44l.94 2.06.94-2.06 2.06-.94-2.06-.94-.94-2.06-.94 2.06-2.06.94zm-11 1L8.5 8.5l.94-2.06 2.06-.94-2.06-.94L8.5 2.5l-.94 2.06-2.06.94zm10 10l.94 2.06.94-2.06 2.06-.94-2.06-.94-.94-2.06-.94 2.06-2.06.94z\"/><path d=\"M17.41 7.96l-1.37-1.37c-.4-.4-.92-.59-1.43-.59-.52 0-1.04.2-1.43.59L10.3 9.45l-7.72 7.72c-.78.78-.78 2.05 0 2.83L4 21.41c.39.39.9.59 1.41.59.51 0 1.02-.2 1.41-.59l7.78-7.78 2.81-2.81c.8-.78.8-2.07 0-2.86zM5.41 20L4 18.59l7.72-7.72 1.47 1.35L5.41 20z\"/>\n",
              "  </svg>\n",
              "      </button>\n",
              "      \n",
              "  <style>\n",
              "    .colab-df-container {\n",
              "      display:flex;\n",
              "      flex-wrap:wrap;\n",
              "      gap: 12px;\n",
              "    }\n",
              "\n",
              "    .colab-df-convert {\n",
              "      background-color: #E8F0FE;\n",
              "      border: none;\n",
              "      border-radius: 50%;\n",
              "      cursor: pointer;\n",
              "      display: none;\n",
              "      fill: #1967D2;\n",
              "      height: 32px;\n",
              "      padding: 0 0 0 0;\n",
              "      width: 32px;\n",
              "    }\n",
              "\n",
              "    .colab-df-convert:hover {\n",
              "      background-color: #E2EBFA;\n",
              "      box-shadow: 0px 1px 2px rgba(60, 64, 67, 0.3), 0px 1px 3px 1px rgba(60, 64, 67, 0.15);\n",
              "      fill: #174EA6;\n",
              "    }\n",
              "\n",
              "    [theme=dark] .colab-df-convert {\n",
              "      background-color: #3B4455;\n",
              "      fill: #D2E3FC;\n",
              "    }\n",
              "\n",
              "    [theme=dark] .colab-df-convert:hover {\n",
              "      background-color: #434B5C;\n",
              "      box-shadow: 0px 1px 3px 1px rgba(0, 0, 0, 0.15);\n",
              "      filter: drop-shadow(0px 1px 2px rgba(0, 0, 0, 0.3));\n",
              "      fill: #FFFFFF;\n",
              "    }\n",
              "  </style>\n",
              "\n",
              "      <script>\n",
              "        const buttonEl =\n",
              "          document.querySelector('#df-ec3d83e9-43b5-4eed-ae64-9805c45e7a03 button.colab-df-convert');\n",
              "        buttonEl.style.display =\n",
              "          google.colab.kernel.accessAllowed ? 'block' : 'none';\n",
              "\n",
              "        async function convertToInteractive(key) {\n",
              "          const element = document.querySelector('#df-ec3d83e9-43b5-4eed-ae64-9805c45e7a03');\n",
              "          const dataTable =\n",
              "            await google.colab.kernel.invokeFunction('convertToInteractive',\n",
              "                                                     [key], {});\n",
              "          if (!dataTable) return;\n",
              "\n",
              "          const docLinkHtml = 'Like what you see? Visit the ' +\n",
              "            '<a target=\"_blank\" href=https://colab.research.google.com/notebooks/data_table.ipynb>data table notebook</a>'\n",
              "            + ' to learn more about interactive tables.';\n",
              "          element.innerHTML = '';\n",
              "          dataTable['output_type'] = 'display_data';\n",
              "          await google.colab.output.renderOutput(dataTable, element);\n",
              "          const docLink = document.createElement('div');\n",
              "          docLink.innerHTML = docLinkHtml;\n",
              "          element.appendChild(docLink);\n",
              "        }\n",
              "      </script>\n",
              "    </div>\n",
              "  </div>\n",
              "  "
            ]
          },
          "metadata": {},
          "execution_count": 17
        }
      ]
    },
    {
      "cell_type": "code",
      "source": [
        "print(df1.columns.values)"
      ],
      "metadata": {
        "colab": {
          "base_uri": "https://localhost:8080/"
        },
        "id": "3MEwsMomCiHW",
        "outputId": "dacdd88b-a482-4cd6-8604-24a4cf1cb554"
      },
      "execution_count": null,
      "outputs": [
        {
          "output_type": "stream",
          "name": "stdout",
          "text": [
            "['SR NO' 'ROLL NO' 'NAME' 'MARKS' 'ROLLNO_TIMES_TWO']\n"
          ]
        }
      ]
    },
    {
      "cell_type": "code",
      "source": [
        "states = pd.Series(['dc','ca','ny'])\n",
        "df1['Name'] = states\n",
        "df1"
      ],
      "metadata": {
        "colab": {
          "base_uri": "https://localhost:8080/",
          "height": 676
        },
        "id": "D25XUMrcCD3W",
        "outputId": "486b18ed-4c13-433e-ce26-176295c34faf"
      },
      "execution_count": null,
      "outputs": [
        {
          "output_type": "execute_result",
          "data": {
            "text/plain": [
              "    SR NO  ROLL NO NAME  MARKS  ROLLNO_TIMES_TWO Name\n",
              "0       1     21.0    A   12.0              42.0   dc\n",
              "1       2     22.0    B   10.0              44.0   ca\n",
              "2       3     23.0    c   20.0              46.0   ny\n",
              "3       4     24.0    d   30.0              48.0  NaN\n",
              "4       5     25.0    e   45.0              50.0  NaN\n",
              "5       6     26.0    F   50.0              52.0  NaN\n",
              "6       7     27.0    g   26.0              54.0  NaN\n",
              "7       8     28.0  NaN   38.0              56.0  NaN\n",
              "8       9     29.0    H   46.0              58.0  NaN\n",
              "9      10     30.0    i   55.0              60.0  NaN\n",
              "10     11     31.0    J   29.0              62.0  NaN\n",
              "11     12     32.0    K   30.0              64.0  NaN\n",
              "12     13     33.0    l   41.0              66.0  NaN\n",
              "13     14     34.0    M   43.0              68.0  NaN\n",
              "14     15     35.0    n   53.0              70.0  NaN\n",
              "15     16      NaN  NaN    NaN               NaN  NaN\n",
              "16     17     37.0    p   59.0              74.0  NaN\n",
              "17     18     38.0    Q   19.0              76.0  NaN\n",
              "18     19     39.0    R   18.0              78.0  NaN\n",
              "19     20     40.0    S   17.0              80.0  NaN"
            ],
            "text/html": [
              "\n",
              "  <div id=\"df-29daaeb8-206b-41f0-9377-e38f40fab1a8\">\n",
              "    <div class=\"colab-df-container\">\n",
              "      <div>\n",
              "<style scoped>\n",
              "    .dataframe tbody tr th:only-of-type {\n",
              "        vertical-align: middle;\n",
              "    }\n",
              "\n",
              "    .dataframe tbody tr th {\n",
              "        vertical-align: top;\n",
              "    }\n",
              "\n",
              "    .dataframe thead th {\n",
              "        text-align: right;\n",
              "    }\n",
              "</style>\n",
              "<table border=\"1\" class=\"dataframe\">\n",
              "  <thead>\n",
              "    <tr style=\"text-align: right;\">\n",
              "      <th></th>\n",
              "      <th>SR NO</th>\n",
              "      <th>ROLL NO</th>\n",
              "      <th>NAME</th>\n",
              "      <th>MARKS</th>\n",
              "      <th>ROLLNO_TIMES_TWO</th>\n",
              "      <th>Name</th>\n",
              "    </tr>\n",
              "  </thead>\n",
              "  <tbody>\n",
              "    <tr>\n",
              "      <th>0</th>\n",
              "      <td>1</td>\n",
              "      <td>21.0</td>\n",
              "      <td>A</td>\n",
              "      <td>12.0</td>\n",
              "      <td>42.0</td>\n",
              "      <td>dc</td>\n",
              "    </tr>\n",
              "    <tr>\n",
              "      <th>1</th>\n",
              "      <td>2</td>\n",
              "      <td>22.0</td>\n",
              "      <td>B</td>\n",
              "      <td>10.0</td>\n",
              "      <td>44.0</td>\n",
              "      <td>ca</td>\n",
              "    </tr>\n",
              "    <tr>\n",
              "      <th>2</th>\n",
              "      <td>3</td>\n",
              "      <td>23.0</td>\n",
              "      <td>c</td>\n",
              "      <td>20.0</td>\n",
              "      <td>46.0</td>\n",
              "      <td>ny</td>\n",
              "    </tr>\n",
              "    <tr>\n",
              "      <th>3</th>\n",
              "      <td>4</td>\n",
              "      <td>24.0</td>\n",
              "      <td>d</td>\n",
              "      <td>30.0</td>\n",
              "      <td>48.0</td>\n",
              "      <td>NaN</td>\n",
              "    </tr>\n",
              "    <tr>\n",
              "      <th>4</th>\n",
              "      <td>5</td>\n",
              "      <td>25.0</td>\n",
              "      <td>e</td>\n",
              "      <td>45.0</td>\n",
              "      <td>50.0</td>\n",
              "      <td>NaN</td>\n",
              "    </tr>\n",
              "    <tr>\n",
              "      <th>5</th>\n",
              "      <td>6</td>\n",
              "      <td>26.0</td>\n",
              "      <td>F</td>\n",
              "      <td>50.0</td>\n",
              "      <td>52.0</td>\n",
              "      <td>NaN</td>\n",
              "    </tr>\n",
              "    <tr>\n",
              "      <th>6</th>\n",
              "      <td>7</td>\n",
              "      <td>27.0</td>\n",
              "      <td>g</td>\n",
              "      <td>26.0</td>\n",
              "      <td>54.0</td>\n",
              "      <td>NaN</td>\n",
              "    </tr>\n",
              "    <tr>\n",
              "      <th>7</th>\n",
              "      <td>8</td>\n",
              "      <td>28.0</td>\n",
              "      <td>NaN</td>\n",
              "      <td>38.0</td>\n",
              "      <td>56.0</td>\n",
              "      <td>NaN</td>\n",
              "    </tr>\n",
              "    <tr>\n",
              "      <th>8</th>\n",
              "      <td>9</td>\n",
              "      <td>29.0</td>\n",
              "      <td>H</td>\n",
              "      <td>46.0</td>\n",
              "      <td>58.0</td>\n",
              "      <td>NaN</td>\n",
              "    </tr>\n",
              "    <tr>\n",
              "      <th>9</th>\n",
              "      <td>10</td>\n",
              "      <td>30.0</td>\n",
              "      <td>i</td>\n",
              "      <td>55.0</td>\n",
              "      <td>60.0</td>\n",
              "      <td>NaN</td>\n",
              "    </tr>\n",
              "    <tr>\n",
              "      <th>10</th>\n",
              "      <td>11</td>\n",
              "      <td>31.0</td>\n",
              "      <td>J</td>\n",
              "      <td>29.0</td>\n",
              "      <td>62.0</td>\n",
              "      <td>NaN</td>\n",
              "    </tr>\n",
              "    <tr>\n",
              "      <th>11</th>\n",
              "      <td>12</td>\n",
              "      <td>32.0</td>\n",
              "      <td>K</td>\n",
              "      <td>30.0</td>\n",
              "      <td>64.0</td>\n",
              "      <td>NaN</td>\n",
              "    </tr>\n",
              "    <tr>\n",
              "      <th>12</th>\n",
              "      <td>13</td>\n",
              "      <td>33.0</td>\n",
              "      <td>l</td>\n",
              "      <td>41.0</td>\n",
              "      <td>66.0</td>\n",
              "      <td>NaN</td>\n",
              "    </tr>\n",
              "    <tr>\n",
              "      <th>13</th>\n",
              "      <td>14</td>\n",
              "      <td>34.0</td>\n",
              "      <td>M</td>\n",
              "      <td>43.0</td>\n",
              "      <td>68.0</td>\n",
              "      <td>NaN</td>\n",
              "    </tr>\n",
              "    <tr>\n",
              "      <th>14</th>\n",
              "      <td>15</td>\n",
              "      <td>35.0</td>\n",
              "      <td>n</td>\n",
              "      <td>53.0</td>\n",
              "      <td>70.0</td>\n",
              "      <td>NaN</td>\n",
              "    </tr>\n",
              "    <tr>\n",
              "      <th>15</th>\n",
              "      <td>16</td>\n",
              "      <td>NaN</td>\n",
              "      <td>NaN</td>\n",
              "      <td>NaN</td>\n",
              "      <td>NaN</td>\n",
              "      <td>NaN</td>\n",
              "    </tr>\n",
              "    <tr>\n",
              "      <th>16</th>\n",
              "      <td>17</td>\n",
              "      <td>37.0</td>\n",
              "      <td>p</td>\n",
              "      <td>59.0</td>\n",
              "      <td>74.0</td>\n",
              "      <td>NaN</td>\n",
              "    </tr>\n",
              "    <tr>\n",
              "      <th>17</th>\n",
              "      <td>18</td>\n",
              "      <td>38.0</td>\n",
              "      <td>Q</td>\n",
              "      <td>19.0</td>\n",
              "      <td>76.0</td>\n",
              "      <td>NaN</td>\n",
              "    </tr>\n",
              "    <tr>\n",
              "      <th>18</th>\n",
              "      <td>19</td>\n",
              "      <td>39.0</td>\n",
              "      <td>R</td>\n",
              "      <td>18.0</td>\n",
              "      <td>78.0</td>\n",
              "      <td>NaN</td>\n",
              "    </tr>\n",
              "    <tr>\n",
              "      <th>19</th>\n",
              "      <td>20</td>\n",
              "      <td>40.0</td>\n",
              "      <td>S</td>\n",
              "      <td>17.0</td>\n",
              "      <td>80.0</td>\n",
              "      <td>NaN</td>\n",
              "    </tr>\n",
              "  </tbody>\n",
              "</table>\n",
              "</div>\n",
              "      <button class=\"colab-df-convert\" onclick=\"convertToInteractive('df-29daaeb8-206b-41f0-9377-e38f40fab1a8')\"\n",
              "              title=\"Convert this dataframe to an interactive table.\"\n",
              "              style=\"display:none;\">\n",
              "        \n",
              "  <svg xmlns=\"http://www.w3.org/2000/svg\" height=\"24px\"viewBox=\"0 0 24 24\"\n",
              "       width=\"24px\">\n",
              "    <path d=\"M0 0h24v24H0V0z\" fill=\"none\"/>\n",
              "    <path d=\"M18.56 5.44l.94 2.06.94-2.06 2.06-.94-2.06-.94-.94-2.06-.94 2.06-2.06.94zm-11 1L8.5 8.5l.94-2.06 2.06-.94-2.06-.94L8.5 2.5l-.94 2.06-2.06.94zm10 10l.94 2.06.94-2.06 2.06-.94-2.06-.94-.94-2.06-.94 2.06-2.06.94z\"/><path d=\"M17.41 7.96l-1.37-1.37c-.4-.4-.92-.59-1.43-.59-.52 0-1.04.2-1.43.59L10.3 9.45l-7.72 7.72c-.78.78-.78 2.05 0 2.83L4 21.41c.39.39.9.59 1.41.59.51 0 1.02-.2 1.41-.59l7.78-7.78 2.81-2.81c.8-.78.8-2.07 0-2.86zM5.41 20L4 18.59l7.72-7.72 1.47 1.35L5.41 20z\"/>\n",
              "  </svg>\n",
              "      </button>\n",
              "      \n",
              "  <style>\n",
              "    .colab-df-container {\n",
              "      display:flex;\n",
              "      flex-wrap:wrap;\n",
              "      gap: 12px;\n",
              "    }\n",
              "\n",
              "    .colab-df-convert {\n",
              "      background-color: #E8F0FE;\n",
              "      border: none;\n",
              "      border-radius: 50%;\n",
              "      cursor: pointer;\n",
              "      display: none;\n",
              "      fill: #1967D2;\n",
              "      height: 32px;\n",
              "      padding: 0 0 0 0;\n",
              "      width: 32px;\n",
              "    }\n",
              "\n",
              "    .colab-df-convert:hover {\n",
              "      background-color: #E2EBFA;\n",
              "      box-shadow: 0px 1px 2px rgba(60, 64, 67, 0.3), 0px 1px 3px 1px rgba(60, 64, 67, 0.15);\n",
              "      fill: #174EA6;\n",
              "    }\n",
              "\n",
              "    [theme=dark] .colab-df-convert {\n",
              "      background-color: #3B4455;\n",
              "      fill: #D2E3FC;\n",
              "    }\n",
              "\n",
              "    [theme=dark] .colab-df-convert:hover {\n",
              "      background-color: #434B5C;\n",
              "      box-shadow: 0px 1px 3px 1px rgba(0, 0, 0, 0.15);\n",
              "      filter: drop-shadow(0px 1px 2px rgba(0, 0, 0, 0.3));\n",
              "      fill: #FFFFFF;\n",
              "    }\n",
              "  </style>\n",
              "\n",
              "      <script>\n",
              "        const buttonEl =\n",
              "          document.querySelector('#df-29daaeb8-206b-41f0-9377-e38f40fab1a8 button.colab-df-convert');\n",
              "        buttonEl.style.display =\n",
              "          google.colab.kernel.accessAllowed ? 'block' : 'none';\n",
              "\n",
              "        async function convertToInteractive(key) {\n",
              "          const element = document.querySelector('#df-29daaeb8-206b-41f0-9377-e38f40fab1a8');\n",
              "          const dataTable =\n",
              "            await google.colab.kernel.invokeFunction('convertToInteractive',\n",
              "                                                     [key], {});\n",
              "          if (!dataTable) return;\n",
              "\n",
              "          const docLinkHtml = 'Like what you see? Visit the ' +\n",
              "            '<a target=\"_blank\" href=https://colab.research.google.com/notebooks/data_table.ipynb>data table notebook</a>'\n",
              "            + ' to learn more about interactive tables.';\n",
              "          element.innerHTML = '';\n",
              "          dataTable['output_type'] = 'display_data';\n",
              "          await google.colab.output.renderOutput(dataTable, element);\n",
              "          const docLink = document.createElement('div');\n",
              "          docLink.innerHTML = docLinkHtml;\n",
              "          element.appendChild(docLink);\n",
              "        }\n",
              "      </script>\n",
              "    </div>\n",
              "  </div>\n",
              "  "
            ]
          },
          "metadata": {},
          "execution_count": 14
        }
      ]
    },
    {
      "cell_type": "code",
      "source": [
        "import matplotlib.pyplot as plt\n",
        "import numpy as np\n",
        "xpoints = np.array([0,6])\n",
        "ypoints = np.array([0,250])\n",
        "plt.plot(xpoints,ypoints)\n",
        "plt.plot(xpoints,ypoints,'-')\n",
        "plt.fill_between(xpoints,ypoints,color='red',alpha=0.6)\n",
        "plt.show()"
      ],
      "metadata": {
        "id": "k0_YUJYECg9d",
        "colab": {
          "base_uri": "https://localhost:8080/",
          "height": 430
        },
        "outputId": "2cd4154d-8799-4d2d-f8a5-6c2ba5b6d7dc"
      },
      "execution_count": null,
      "outputs": [
        {
          "output_type": "display_data",
          "data": {
            "text/plain": [
              "<Figure size 640x480 with 1 Axes>"
            ],
            "image/png": "[encoded data removed]"
          },
          "metadata": {}
        }
      ]
    },
    {
      "cell_type": "code",
      "source": [
        "import matplotlib.pyplot as plt\n",
        "import numpy as np\n",
        "xpoints = np.array([0,6])\n",
        "ypoints = np.array([0,250])\n",
        "plt.plot(xpoints,ypoints)\n",
        "plt.show()"
      ],
      "metadata": {
        "colab": {
          "base_uri": "https://localhost:8080/",
          "height": 430
        },
        "id": "KkyukEJgpjuz",
        "outputId": "795c1f80-68f0-49e9-b391-7180e434f1db"
      },
      "execution_count": null,
      "outputs": [
        {
          "output_type": "display_data",
          "data": {
            "text/plain": [
              "<Figure size 640x480 with 1 Axes>"
            ],
            "image/png": "[encoded data removed]"
          },
          "metadata": {}
        }
      ]
    },
    {
      "cell_type": "code",
      "source": [
        "import matplotlib.pyplot as plt\n",
        "import numpy as np\n",
        "xpoints = np.array([0,6])\n",
        "ypoints = np.array([0,250])\n",
        "plt.plot(xpoints,ypoints,'-')\n",
        "plt.show()"
      ],
      "metadata": {
        "colab": {
          "base_uri": "https://localhost:8080/",
          "height": 430
        },
        "id": "8pfGBVxdpqW5",
        "outputId": "482996cd-f3de-449f-fec5-73ae2e4be0af"
      },
      "execution_count": null,
      "outputs": [
        {
          "output_type": "display_data",
          "data": {
            "text/plain": [
              "<Figure size 640x480 with 1 Axes>"
            ],
            "image/png": "[encoded data removed]"
          },
          "metadata": {}
        }
      ]
    },
    {
      "cell_type": "code",
      "source": [
        "import pandas as pd\n",
        "df = pd.read_csv('/content/StudentsPerformance.csv')\n",
        "a = pd.DataFrame(df)\n",
        "print(a)"
      ],
      "metadata": {
        "colab": {
          "base_uri": "https://localhost:8080/"
        },
        "id": "4hngkV_rp9tV",
        "outputId": "5d1c49bc-e6f1-41be-b44e-99e23ba2214a"
      },
      "execution_count": null,
      "outputs": [
        {
          "output_type": "stream",
          "name": "stdout",
          "text": [
            "     gender race/ethnicity parental level of education         lunch  \\\n",
            "0    female        group B           bachelor's degree      standard   \n",
            "1    female        group C                some college      standard   \n",
            "2    female        group B             master's degree      standard   \n",
            "3      male        group A          associate's degree  free/reduced   \n",
            "4      male        group C                some college      standard   \n",
            "..      ...            ...                         ...           ...   \n",
            "995  female        group E             master's degree      standard   \n",
            "996    male        group C                 high school  free/reduced   \n",
            "997  female        group C                 high school  free/reduced   \n",
            "998  female        group D                some college      standard   \n",
            "999  female        group D                some college  free/reduced   \n",
            "\n",
            "    test preparation course  math score  reading score  writing score  \n",
            "0                      none          72             72             74  \n",
            "1                 completed          69             90             88  \n",
            "2                      none          90             95             93  \n",
            "3                      none          47             57             44  \n",
            "4                      none          76             78             75  \n",
            "..                      ...         ...            ...            ...  \n",
            "995               completed          88             99             95  \n",
            "996                    none          62             55             55  \n",
            "997               completed          59             71             65  \n",
            "998               completed          68             78             77  \n",
            "999                    none          77             86             86  \n",
            "\n",
            "[1000 rows x 8 columns]\n"
          ]
        }
      ]
    },
    {
      "cell_type": "code",
      "source": [
        "import pandas as pd\n",
        "df=pd.read_csv(r'/content/drive/MyDrive/mp.xltx')\n",
        "data=df.values.tolist()\n",
        "b=pd.DataFrame(df)\n",
        "\n",
        "p=df['math_score']\n",
        "g=df['level_of_education']\n",
        "\n",
        "df.math_score=df.math_score.astype('int64')\n",
        "d=df['level_of_education'][df.math_score>40]\n",
        "\n",
        "def population(p,g):\n",
        "\n",
        "  a=df.groupby('math_score').count()==2\n",
        "\n",
        "  g=df.aggregate(['sum','min','max'])\n",
        "  print(a)\n",
        "  print(g)\n",
        "  plt.plot(xpoints,ypoints)\n",
        "population(h,g)"
      ],
      "metadata": {
        "colab": {
          "base_uri": "https://localhost:8080/",
          "height": 130
        },
        "id": "azsGpTlAuy_4",
        "outputId": "677badf9-b4cb-46df-eecb-e8c8291d6573"
      },
      "execution_count": null,
      "outputs": [
        {
          "output_type": "error",
          "ename": "SyntaxError",
          "evalue": "ignored",
          "traceback": [
            "\u001b[0;36m  File \u001b[0;32m\"<ipython-input-9-04015c57de72>\"\u001b[0;36m, line \u001b[0;32m9\u001b[0m\n\u001b[0;31m    df.math score=df.math score.astype('int64')\u001b[0m\n\u001b[0m            ^\u001b[0m\n\u001b[0;31mSyntaxError\u001b[0m\u001b[0;31m:\u001b[0m invalid syntax\n"
          ]
        }
      ]
    },
    {
      "cell_type": "code",
      "source": [
        "import pandas as pd\n",
        "df=pd.read_excel(r'/content/drive/MyDrive/mp.xltx')\n",
        "data=df.values.tolist()\n",
        "b=pd.DataFrame(df)\n",
        "\n",
        "p=df['population_2001']\n",
        "g=df['District']\n",
        "\n",
        "df.population_2001=df.population_2001.astype('int64')\n",
        "d=df['District'][df.population_2001>7000]\n",
        "def population(p,g):\n",
        "  for row in df:\n",
        "    df.population_2001=df.population.astype('int64')\n",
        "    df=['District'][df.population>7000]\n",
        "print(df)\n",
        "plt.hist(ypoints)"
      ],
      "metadata": {
        "id": "2MZ6yCbUxh0w"
      },
      "execution_count": null,
      "outputs": []
    },
    {
      "cell_type": "code",
      "source": [
        "import csv\n",
        "import matplotlib.pyplot as plt\n",
        "with open('/content/titanic1.csv', 'r') as csvfile:\n",
        "    reader = csv.reader(csvfile)\n",
        "    data = list(reader)\n",
        "def fun(i,j):\n",
        "  for row in data:\n",
        "    print(row)\n",
        "i = 0\n",
        "while i < len(data):\n",
        "    print(data[i])\n",
        "    i += 1\n",
        "groups = []\n",
        "for i in range(10):\n",
        "    group = []\n",
        "    for j in range(len(data)):\n",
        "        if i == j%5:\n",
        "            group.append(data[j])\n",
        "    groups.append(group)\n",
        "for group in groups:\n",
        "    print(group)\n",
        "for i in range(10):\n",
        "    plt.plot([x[0] for x in groups[i]], [x[1] for x in groups[i]])\n",
        "    plt.title(\"Group {i}\")\n",
        "    plt.show()\n",
        "fun(i,j)"
      ],
      "metadata": {
        "id": "6PhLAwTudDny",
        "colab": {
          "base_uri": "https://localhost:8080/",
          "height": 1000
        },
        "outputId": "8e10b19d-775b-455c-9c6a-9250d4ad1945"
      },
      "execution_count": null,
      "outputs": [
        {
          "output_type": "stream",
          "name": "stdout",
          "text": [
            "['PassengerId', 'Survived', 'Pclass', 'Age', 'Fare']\n",
            "['1', '0', '3', '22', '7.25']\n",
            "['2', '1', '1', '38', '71.2833']\n",
            "['3', '1', '3', '26', '7.925']\n",
            "['4', '1', '1', '35', '53.1']\n",
            "['5', '0', '3', '35', '8.05']\n",
            "['6', '0', '3', '', '8.4583']\n",
            "['7', '0', '1', '54', '51.8625']\n",
            "['8', '0', '3', '2', '21.075']\n",
            "['9', '1', '3', '27', '11.1333']\n",
            "['10', '1', '2', '14', '30.0708']\n",
            "['11', '1', '3', '4', '16.7']\n",
            "['12', '1', '1', '58', '26.55']\n",
            "['13', '0', '3', '20', '8.05']\n",
            "['14', '0', '3', '39', '31.275']\n",
            "['15', '0', '3', '14', '7.8542']\n",
            "['16', '1', '2', '55', '16']\n",
            "['17', '0', '3', '2', '29.125']\n",
            "['18', '1', '2', '', '13']\n",
            "['19', '0', '3', '31', '18']\n",
            "['20', '1', '3', '', '7.225']\n",
            "['21', '0', '2', '35', '26']\n",
            "['22', '1', '2', '34', '13']\n",
            "['23', '1', '3', '15', '8.0292']\n",
            "['24', '1', '1', '28', '35.5']\n",
            "['25', '0', '3', '8', '21.075']\n",
            "['26', '1', '3', '38', '31.3875']\n",
            "['27', '0', '3', '', '7.225']\n",
            "['28', '0', '1', '19', '263']\n",
            "['29', '1', '3', '', '7.8792']\n",
            "['30', '0', '3', '', '7.8958']\n",
            "['31', '0', '1', '40', '27.7208']\n",
            "['32', '1', '1', '', '146.5208']\n",
            "['33', '1', '3', '', '7.75']\n",
            "['34', '0', '2', '66', '10.5']\n",
            "['35', '0', '1', '28', '82.1708']\n",
            "['36', '0', '1', '42', '52']\n",
            "['37', '1', '3', '', '7.2292']\n",
            "['38', '0', '3', '21', '8.05']\n",
            "['39', '0', '3', '18', '18']\n",
            "['40', '1', '3', '14', '11.2417']\n",
            "['41', '0', '3', '40', '9.475']\n",
            "['42', '0', '2', '27', '21']\n",
            "['43', '0', '3', '', '7.8958']\n",
            "['44', '1', '2', '3', '41.5792']\n",
            "['45', '1', '3', '19', '7.8792']\n",
            "['46', '0', '3', '', '8.05']\n",
            "['47', '0', '3', '', '15.5']\n",
            "['48', '1', '3', '', '7.75']\n",
            "['49', '0', '3', '', '21.6792']\n",
            "['50', '0', '3', '18', '17.8']\n",
            "['51', '0', '3', '7', '39.6875']\n",
            "['52', '0', '3', '21', '7.8']\n",
            "['53', '1', '1', '49', '76.7292']\n",
            "['54', '1', '2', '29', '26']\n",
            "['55', '0', '1', '65', '61.9792']\n",
            "['56', '1', '1', '', '35.5']\n",
            "['57', '1', '2', '21', '10.5']\n",
            "['58', '0', '3', '28.5', '7.2292']\n",
            "['59', '1', '2', '5', '27.75']\n",
            "['60', '0', '3', '11', '46.9']\n",
            "['61', '0', '3', '22', '7.2292']\n",
            "['62', '1', '1', '38', '80']\n",
            "['63', '0', '1', '45', '83.475']\n",
            "['64', '0', '3', '4', '27.9']\n",
            "['65', '0', '1', '', '27.7208']\n",
            "['66', '1', '3', '', '15.2458']\n",
            "['67', '1', '2', '29', '10.5']\n",
            "['68', '0', '3', '19', '8.1583']\n",
            "['69', '1', '3', '17', '7.925']\n",
            "['70', '0', '3', '26', '8.6625']\n",
            "['71', '0', '2', '32', '10.5']\n",
            "['72', '0', '3', '16', '46.9']\n",
            "['73', '0', '2', '21', '73.5']\n",
            "['74', '0', '3', '26', '14.4542']\n",
            "['75', '1', '3', '32', '56.4958']\n",
            "['76', '0', '3', '25', '7.65']\n",
            "['77', '0', '3', '', '7.8958']\n",
            "['78', '0', '3', '', '8.05']\n",
            "['79', '1', '2', '0.83', '29']\n",
            "['80', '1', '3', '30', '12.475']\n",
            "['81', '0', '3', '22', '9']\n",
            "['82', '1', '3', '29', '9.5']\n",
            "['83', '1', '3', '', '7.7875']\n",
            "['84', '0', '1', '28', '47.1']\n",
            "['85', '1', '2', '17', '10.5']\n",
            "['86', '1', '3', '33', '15.85']\n",
            "['87', '0', '3', '16', '34.375']\n",
            "['88', '0', '3', '', '8.05']\n",
            "['89', '1', '1', '23', '263']\n",
            "['90', '0', '3', '24', '8.05']\n",
            "['91', '0', '3', '29', '8.05']\n",
            "['92', '0', '3', '20', '7.8542']\n",
            "['93', '0', '1', '46', '61.175']\n",
            "['94', '0', '3', '26', '20.575']\n",
            "['95', '0', '3', '59', '7.25']\n",
            "['96', '0', '3', '', '8.05']\n",
            "['97', '0', '1', '71', '34.6542']\n",
            "['98', '1', '1', '23', '63.3583']\n",
            "['99', '1', '2', '34', '23']\n",
            "['100', '0', '2', '34', '26']\n",
            "['101', '0', '3', '28', '7.8958']\n",
            "['102', '0', '3', '', '7.8958']\n",
            "['103', '0', '1', '21', '77.2875']\n",
            "['104', '0', '3', '33', '8.6542']\n",
            "['105', '0', '3', '37', '7.925']\n",
            "['106', '0', '3', '28', '7.8958']\n",
            "['107', '1', '3', '21', '7.65']\n",
            "['108', '1', '3', '', '7.775']\n",
            "['109', '0', '3', '38', '7.8958']\n",
            "['110', '1', '3', '', '24.15']\n",
            "['111', '0', '1', '47', '52']\n",
            "['112', '0', '3', '14.5', '14.4542']\n",
            "['113', '0', '3', '22', '8.05']\n",
            "['114', '0', '3', '20', '9.825']\n",
            "['115', '0', '3', '17', '14.4583']\n",
            "['116', '0', '3', '21', '7.925']\n",
            "['117', '0', '3', '70.5', '7.75']\n",
            "['118', '0', '2', '29', '21']\n",
            "['119', '0', '1', '24', '247.5208']\n",
            "['120', '0', '3', '2', '31.275']\n",
            "['121', '0', '2', '21', '73.5']\n",
            "['122', '0', '3', '', '8.05']\n",
            "['123', '0', '2', '32.5', '30.0708']\n",
            "['124', '1', '2', '32.5', '13']\n",
            "['125', '0', '1', '54', '77.2875']\n",
            "['126', '1', '3', '12', '11.2417']\n",
            "['127', '0', '3', '', '7.75']\n",
            "['128', '1', '3', '24', '7.1417']\n",
            "['129', '1', '3', '', '22.3583']\n",
            "['130', '0', '3', '45', '6.975']\n",
            "['131', '0', '3', '33', '7.8958']\n",
            "['132', '0', '3', '20', '7.05']\n",
            "['133', '0', '3', '47', '14.5']\n",
            "['134', '1', '2', '29', '26']\n",
            "['135', '0', '2', '25', '13']\n",
            "['136', '0', '2', '23', '15.0458']\n",
            "['137', '1', '1', '19', '26.2833']\n",
            "['138', '0', '1', '37', '53.1']\n",
            "['139', '0', '3', '16', '9.2167']\n",
            "['140', '0', '1', '24', '79.2']\n",
            "['141', '0', '3', '', '15.2458']\n",
            "['142', '1', '3', '22', '7.75']\n",
            "['143', '1', '3', '24', '15.85']\n",
            "['144', '0', '3', '19', '6.75']\n",
            "['145', '0', '2', '18', '11.5']\n",
            "['146', '0', '2', '19', '36.75']\n",
            "['147', '1', '3', '27', '7.7958']\n",
            "['148', '0', '3', '9', '34.375']\n",
            "['149', '0', '2', '36.5', '26']\n",
            "['150', '0', '2', '42', '13']\n",
            "['151', '0', '2', '51', '12.525']\n",
            "['152', '1', '1', '22', '66.6']\n",
            "['153', '0', '3', '55.5', '8.05']\n",
            "['154', '0', '3', '40.5', '14.5']\n",
            "['155', '0', '3', '', '7.3125']\n",
            "['156', '0', '1', '51', '61.3792']\n",
            "['157', '1', '3', '16', '7.7333']\n",
            "['158', '0', '3', '30', '8.05']\n",
            "['159', '0', '3', '', '8.6625']\n",
            "['160', '0', '3', '', '69.55']\n",
            "['161', '0', '3', '44', '16.1']\n",
            "['162', '1', '2', '40', '15.75']\n",
            "['163', '0', '3', '26', '7.775']\n",
            "['164', '0', '3', '17', '8.6625']\n",
            "['165', '0', '3', '1', '39.6875']\n",
            "['166', '1', '3', '9', '20.525']\n",
            "['167', '1', '1', '', '55']\n",
            "['168', '0', '3', '45', '27.9']\n",
            "['169', '0', '1', '', '25.925']\n",
            "['170', '0', '3', '28', '56.4958']\n",
            "['171', '0', '1', '61', '33.5']\n",
            "['172', '0', '3', '4', '29.125']\n",
            "['173', '1', '3', '1', '11.1333']\n",
            "['174', '0', '3', '21', '7.925']\n",
            "['175', '0', '1', '56', '30.6958']\n",
            "['176', '0', '3', '18', '7.8542']\n",
            "['177', '0', '3', '', '25.4667']\n",
            "['178', '0', '1', '50', '28.7125']\n",
            "['179', '0', '2', '30', '13']\n",
            "['180', '0', '3', '36', '0']\n",
            "['181', '0', '3', '', '69.55']\n",
            "['182', '0', '2', '', '15.05']\n",
            "['183', '0', '3', '9', '31.3875']\n",
            "['184', '1', '2', '1', '39']\n",
            "['185', '1', '3', '4', '22.025']\n",
            "['186', '0', '1', '', '50']\n",
            "['187', '1', '3', '', '15.5']\n",
            "['188', '1', '1', '45', '26.55']\n",
            "['189', '0', '3', '40', '15.5']\n",
            "['190', '0', '3', '36', '7.8958']\n",
            "['191', '1', '2', '32', '13']\n",
            "['192', '0', '2', '19', '13']\n",
            "['193', '1', '3', '19', '7.8542']\n",
            "['194', '1', '2', '3', '26']\n",
            "['195', '1', '1', '44', '27.7208']\n",
            "['196', '1', '1', '58', '146.5208']\n",
            "['197', '0', '3', '', '7.75']\n",
            "['198', '0', '3', '42', '8.4042']\n",
            "['199', '1', '3', '', '7.75']\n",
            "['200', '0', '2', '24', '13']\n",
            "['201', '0', '3', '28', '9.5']\n",
            "['202', '0', '3', '', '69.55']\n",
            "['203', '0', '3', '34', '6.4958']\n",
            "['204', '0', '3', '45.5', '7.225']\n",
            "['205', '1', '3', '18', '8.05']\n",
            "['206', '0', '3', '2', '10.4625']\n",
            "['207', '0', '3', '32', '15.85']\n",
            "['208', '1', '3', '26', '18.7875']\n",
            "['209', '1', '3', '16', '7.75']\n",
            "['210', '1', '1', '40', '31']\n",
            "['211', '0', '3', '24', '7.05']\n",
            "['212', '1', '2', '35', '21']\n",
            "['213', '0', '3', '22', '7.25']\n",
            "['214', '0', '2', '30', '13']\n",
            "['215', '0', '3', '', '7.75']\n",
            "['216', '1', '1', '31', '113.275']\n",
            "['217', '1', '3', '27', '7.925']\n",
            "['218', '0', '2', '42', '27']\n",
            "['219', '1', '1', '32', '76.2917']\n",
            "['220', '0', '2', '30', '10.5']\n",
            "['221', '1', '3', '16', '8.05']\n",
            "['222', '0', '2', '27', '13']\n",
            "['223', '0', '3', '51', '8.05']\n",
            "['224', '0', '3', '', '7.8958']\n",
            "['225', '1', '1', '38', '90']\n",
            "['226', '0', '3', '22', '9.35']\n",
            "['227', '1', '2', '19', '10.5']\n",
            "['228', '0', '3', '20.5', '7.25']\n",
            "['229', '0', '2', '18', '13']\n",
            "['230', '0', '3', '', '25.4667']\n",
            "['231', '1', '1', '35', '83.475']\n",
            "['232', '0', '3', '29', '7.775']\n",
            "['233', '0', '2', '59', '13.5']\n",
            "['234', '1', '3', '5', '31.3875']\n",
            "['235', '0', '2', '24', '10.5']\n",
            "['236', '0', '3', '', '7.55']\n",
            "['237', '0', '2', '44', '26']\n",
            "['238', '1', '2', '8', '26.25']\n",
            "['239', '0', '2', '19', '10.5']\n",
            "['240', '0', '2', '33', '12.275']\n",
            "['241', '0', '3', '', '14.4542']\n",
            "['242', '1', '3', '', '15.5']\n",
            "['243', '0', '2', '29', '10.5']\n",
            "['244', '0', '3', '22', '7.125']\n",
            "['245', '0', '3', '30', '7.225']\n",
            "['246', '0', '1', '44', '90']\n",
            "['247', '0', '3', '25', '7.775']\n",
            "['248', '1', '2', '24', '14.5']\n",
            "['249', '1', '1', '37', '52.5542']\n",
            "['250', '0', '2', '54', '26']\n",
            "['251', '0', '3', '', '7.25']\n",
            "['252', '0', '3', '29', '10.4625']\n",
            "['253', '0', '1', '62', '26.55']\n",
            "['254', '0', '3', '30', '16.1']\n",
            "['255', '0', '3', '41', '20.2125']\n",
            "['256', '1', '3', '29', '15.2458']\n",
            "['257', '1', '1', '', '79.2']\n",
            "['258', '1', '1', '30', '86.5']\n",
            "['259', '1', '1', '35', '512.3292']\n",
            "['260', '1', '2', '50', '26']\n",
            "['261', '0', '3', '', '7.75']\n",
            "['262', '1', '3', '3', '31.3875']\n",
            "['263', '0', '1', '52', '79.65']\n",
            "['264', '0', '1', '40', '0']\n",
            "['265', '0', '3', '', '7.75']\n",
            "['266', '0', '2', '36', '10.5']\n",
            "['267', '0', '3', '16', '39.6875']\n",
            "['268', '1', '3', '25', '7.775']\n",
            "['269', '1', '1', '58', '153.4625']\n",
            "['270', '1', '1', '35', '135.6333']\n",
            "['271', '0', '1', '', '31']\n",
            "['272', '1', '3', '25', '0']\n",
            "['273', '1', '2', '41', '19.5']\n",
            "['274', '0', '1', '37', '29.7']\n",
            "['275', '1', '3', '', '7.75']\n",
            "['276', '1', '1', '63', '77.9583']\n",
            "['277', '0', '3', '45', '7.75']\n",
            "['278', '0', '2', '', '0']\n",
            "['279', '0', '3', '7', '29.125']\n",
            "['280', '1', '3', '35', '20.25']\n",
            "['281', '0', '3', '65', '7.75']\n",
            "['282', '0', '3', '28', '7.8542']\n",
            "['283', '0', '3', '16', '9.5']\n",
            "['284', '1', '3', '19', '8.05']\n",
            "['285', '0', '1', '', '26']\n",
            "['286', '0', '3', '33', '8.6625']\n",
            "['287', '1', '3', '30', '9.5']\n",
            "['288', '0', '3', '22', '7.8958']\n",
            "['289', '1', '2', '42', '13']\n",
            "['290', '1', '3', '22', '7.75']\n",
            "['291', '1', '1', '26', '78.85']\n",
            "['292', '1', '1', '19', '91.0792']\n",
            "['293', '0', '2', '36', '12.875']\n",
            "['294', '0', '3', '24', '8.85']\n",
            "['295', '0', '3', '24', '7.8958']\n",
            "['296', '0', '1', '', '27.7208']\n",
            "['297', '0', '3', '23.5', '7.2292']\n",
            "['298', '0', '1', '2', '151.55']\n",
            "['299', '1', '1', '', '30.5']\n",
            "['300', '1', '1', '50', '247.5208']\n",
            "['301', '1', '3', '', '7.75']\n",
            "['302', '1', '3', '', '23.25']\n",
            "['303', '0', '3', '19', '0']\n",
            "['304', '1', '2', '', '12.35']\n",
            "['305', '0', '3', '', '8.05']\n",
            "['306', '1', '1', '0.92', '151.55']\n",
            "['307', '1', '1', '', '110.8833']\n",
            "['308', '1', '1', '17', '108.9']\n",
            "['309', '0', '2', '30', '24']\n",
            "['310', '1', '1', '30', '56.9292']\n",
            "['311', '1', '1', '24', '83.1583']\n",
            "['312', '1', '1', '18', '262.375']\n",
            "['313', '0', '2', '26', '26']\n",
            "['314', '0', '3', '28', '7.8958']\n",
            "['315', '0', '2', '43', '26.25']\n",
            "['316', '1', '3', '26', '7.8542']\n",
            "['317', '1', '2', '24', '26']\n",
            "['318', '0', '2', '54', '14']\n",
            "['319', '1', '1', '31', '164.8667']\n",
            "['320', '1', '1', '40', '134.5']\n",
            "['321', '0', '3', '22', '7.25']\n",
            "['322', '0', '3', '27', '7.8958']\n",
            "['323', '1', '2', '30', '12.35']\n",
            "['324', '1', '2', '22', '29']\n",
            "['325', '0', '3', '', '69.55']\n",
            "['326', '1', '1', '36', '135.6333']\n",
            "['327', '0', '3', '61', '6.2375']\n",
            "['328', '1', '2', '36', '13']\n",
            "['329', '1', '3', '31', '20.525']\n",
            "['330', '1', '1', '16', '57.9792']\n",
            "['331', '1', '3', '', '23.25']\n",
            "['332', '0', '1', '45.5', '28.5']\n",
            "['333', '0', '1', '38', '153.4625']\n",
            "['334', '0', '3', '16', '18']\n",
            "['335', '1', '1', '', '133.65']\n",
            "['336', '0', '3', '', '7.8958']\n",
            "['337', '0', '1', '29', '66.6']\n",
            "['338', '1', '1', '41', '134.5']\n",
            "['339', '1', '3', '45', '8.05']\n",
            "['340', '0', '1', '45', '35.5']\n",
            "['341', '1', '2', '2', '26']\n",
            "['342', '1', '1', '24', '263']\n",
            "['343', '0', '2', '28', '13']\n",
            "['344', '0', '2', '25', '13']\n",
            "['345', '0', '2', '36', '13']\n",
            "['346', '1', '2', '24', '13']\n",
            "['347', '1', '2', '40', '13']\n",
            "['348', '1', '3', '', '16.1']\n",
            "['349', '1', '3', '3', '15.9']\n",
            "['350', '0', '3', '42', '8.6625']\n",
            "['351', '0', '3', '23', '9.225']\n",
            "['352', '0', '1', '', '35']\n",
            "['353', '0', '3', '15', '7.2292']\n",
            "['354', '0', '3', '25', '17.8']\n",
            "['355', '0', '3', '', '7.225']\n",
            "['356', '0', '3', '28', '9.5']\n",
            "['357', '1', '1', '22', '55']\n",
            "['358', '0', '2', '38', '13']\n",
            "['359', '1', '3', '', '7.8792']\n",
            "['360', '1', '3', '', '7.8792']\n",
            "['361', '0', '3', '40', '27.9']\n",
            "['362', '0', '2', '29', '27.7208']\n",
            "['363', '0', '3', '45', '14.4542']\n",
            "['364', '0', '3', '35', '7.05']\n",
            "['365', '0', '3', '', '15.5']\n",
            "['366', '0', '3', '30', '7.25']\n",
            "['367', '1', '1', '60', '75.25']\n",
            "['368', '1', '3', '', '7.2292']\n",
            "['369', '1', '3', '', '7.75']\n",
            "['370', '1', '1', '24', '69.3']\n",
            "['371', '1', '1', '25', '55.4417']\n",
            "['372', '0', '3', '18', '6.4958']\n",
            "['373', '0', '3', '19', '8.05']\n",
            "['374', '0', '1', '22', '135.6333']\n",
            "['375', '0', '3', '3', '21.075']\n",
            "['376', '1', '1', '', '82.1708']\n",
            "['377', '1', '3', '22', '7.25']\n",
            "['378', '0', '1', '27', '211.5']\n",
            "['379', '0', '3', '20', '4.0125']\n",
            "['380', '0', '3', '19', '7.775']\n",
            "['381', '1', '1', '42', '227.525']\n",
            "['382', '1', '3', '1', '15.7417']\n",
            "['383', '0', '3', '32', '7.925']\n",
            "['384', '1', '1', '35', '52']\n",
            "['385', '0', '3', '', '7.8958']\n",
            "['386', '0', '2', '18', '73.5']\n",
            "['387', '0', '3', '1', '46.9']\n",
            "['388', '1', '2', '36', '13']\n",
            "['389', '0', '3', '', '7.7292']\n",
            "['390', '1', '2', '17', '12']\n",
            "['391', '1', '1', '36', '120']\n",
            "['392', '1', '3', '21', '7.7958']\n",
            "['393', '0', '3', '28', '7.925']\n",
            "['394', '1', '1', '23', '113.275']\n",
            "['395', '1', '3', '24', '16.7']\n",
            "['396', '0', '3', '22', '7.7958']\n",
            "['397', '0', '3', '31', '7.8542']\n",
            "['398', '0', '2', '46', '26']\n",
            "['399', '0', '2', '23', '10.5']\n",
            "['400', '1', '2', '28', '12.65']\n",
            "['401', '1', '3', '39', '7.925']\n",
            "['402', '0', '3', '26', '8.05']\n",
            "['403', '0', '3', '21', '9.825']\n",
            "['404', '0', '3', '28', '15.85']\n",
            "['405', '0', '3', '20', '8.6625']\n",
            "['406', '0', '2', '34', '21']\n",
            "['407', '0', '3', '51', '7.75']\n",
            "['408', '1', '2', '3', '18.75']\n",
            "['409', '0', '3', '21', '7.775']\n",
            "['410', '0', '3', '', '25.4667']\n",
            "['411', '0', '3', '', '7.8958']\n",
            "['412', '0', '3', '', '6.8583']\n",
            "['413', '1', '1', '33', '90']\n",
            "['414', '0', '2', '', '0']\n",
            "['415', '1', '3', '44', '7.925']\n",
            "['416', '0', '3', '', '8.05']\n",
            "['417', '1', '2', '34', '32.5']\n",
            "['418', '1', '2', '18', '13']\n",
            "['419', '0', '2', '30', '13']\n",
            "['420', '0', '3', '10', '24.15']\n",
            "['421', '0', '3', '', '7.8958']\n",
            "['422', '0', '3', '21', '7.7333']\n",
            "['423', '0', '3', '29', '7.875']\n",
            "['424', '0', '3', '28', '14.4']\n",
            "['425', '0', '3', '18', '20.2125']\n",
            "['426', '0', '3', '', '7.25']\n",
            "['427', '1', '2', '28', '26']\n",
            "['428', '1', '2', '19', '26']\n",
            "['429', '0', '3', '', '7.75']\n",
            "['430', '1', '3', '32', '8.05']\n",
            "['431', '1', '1', '28', '26.55']\n",
            "['432', '1', '3', '', '16.1']\n",
            "['433', '1', '2', '42', '26']\n",
            "['434', '0', '3', '17', '7.125']\n",
            "['435', '0', '1', '50', '55.9']\n",
            "['436', '1', '1', '14', '120']\n",
            "['437', '0', '3', '21', '34.375']\n",
            "['438', '1', '2', '24', '18.75']\n",
            "['439', '0', '1', '64', '263']\n",
            "['440', '0', '2', '31', '10.5']\n",
            "['441', '1', '2', '45', '26.25']\n",
            "['442', '0', '3', '20', '9.5']\n",
            "['443', '0', '3', '25', '7.775']\n",
            "['444', '1', '2', '28', '13']\n",
            "['445', '1', '3', '', '8.1125']\n",
            "['446', '1', '1', '4', '81.8583']\n",
            "['447', '1', '2', '13', '19.5']\n",
            "['448', '1', '1', '34', '26.55']\n",
            "['449', '1', '3', '5', '19.2583']\n",
            "['450', '1', '1', '52', '30.5']\n",
            "['451', '0', '2', '36', '27.75']\n",
            "['452', '0', '3', '', '19.9667']\n",
            "['453', '0', '1', '30', '27.75']\n",
            "['454', '1', '1', '49', '89.1042']\n",
            "['455', '0', '3', '', '8.05']\n",
            "['456', '1', '3', '29', '7.8958']\n",
            "['457', '0', '1', '65', '26.55']\n",
            "['458', '1', '1', '', '51.8625']\n",
            "['459', '1', '2', '50', '10.5']\n",
            "['460', '0', '3', '', '7.75']\n",
            "['461', '1', '1', '48', '26.55']\n",
            "['462', '0', '3', '34', '8.05']\n",
            "['463', '0', '1', '47', '38.5']\n",
            "['464', '0', '2', '48', '13']\n",
            "['465', '0', '3', '', '8.05']\n",
            "['466', '0', '3', '38', '7.05']\n",
            "['467', '0', '2', '', '0']\n",
            "['468', '0', '1', '56', '26.55']\n",
            "['469', '0', '3', '', '7.725']\n",
            "['470', '1', '3', '0.75', '19.2583']\n",
            "['471', '0', '3', '', '7.25']\n",
            "['472', '0', '3', '38', '8.6625']\n",
            "['473', '1', '2', '33', '27.75']\n",
            "['474', '1', '2', '23', '13.7917']\n",
            "['475', '0', '3', '22', '9.8375']\n",
            "['476', '0', '1', '', '52']\n",
            "['477', '0', '2', '34', '21']\n",
            "['478', '0', '3', '29', '7.0458']\n",
            "['479', '0', '3', '22', '7.5208']\n",
            "['480', '1', '3', '2', '12.2875']\n",
            "['481', '0', '3', '9', '46.9']\n",
            "['482', '0', '2', '', '0']\n",
            "['483', '0', '3', '50', '8.05']\n",
            "['484', '1', '3', '63', '9.5875']\n",
            "['485', '1', '1', '25', '91.0792']\n",
            "['486', '0', '3', '', '25.4667']\n",
            "['487', '1', '1', '35', '90']\n",
            "['488', '0', '1', '58', '29.7']\n",
            "['489', '0', '3', '30', '8.05']\n",
            "['490', '1', '3', '9', '15.9']\n",
            "['491', '0', '3', '', '19.9667']\n",
            "['492', '0', '3', '21', '7.25']\n",
            "['493', '0', '1', '55', '30.5']\n",
            "['494', '0', '1', '71', '49.5042']\n",
            "['495', '0', '3', '21', '8.05']\n",
            "['496', '0', '3', '', '14.4583']\n",
            "['497', '1', '1', '54', '78.2667']\n",
            "['498', '0', '3', '', '15.1']\n",
            "['499', '0', '1', '25', '151.55']\n",
            "['500', '0', '3', '24', '7.7958']\n",
            "['501', '0', '3', '17', '8.6625']\n",
            "['502', '0', '3', '21', '7.75']\n",
            "['503', '0', '3', '', '7.6292']\n",
            "['504', '0', '3', '37', '9.5875']\n",
            "['505', '1', '1', '16', '86.5']\n",
            "['506', '0', '1', '18', '108.9']\n",
            "['507', '1', '2', '33', '26']\n",
            "['508', '1', '1', '', '26.55']\n",
            "['509', '0', '3', '28', '22.525']\n",
            "['510', '1', '3', '26', '56.4958']\n",
            "['511', '1', '3', '29', '7.75']\n",
            "['512', '0', '3', '', '8.05']\n",
            "['513', '1', '1', '36', '26.2875']\n",
            "['514', '1', '1', '54', '59.4']\n",
            "['515', '0', '3', '24', '7.4958']\n",
            "['516', '0', '1', '47', '34.0208']\n",
            "['517', '1', '2', '34', '10.5']\n",
            "['518', '0', '3', '', '24.15']\n",
            "['519', '1', '2', '36', '26']\n",
            "['520', '0', '3', '32', '7.8958']\n",
            "['521', '1', '1', '30', '93.5']\n",
            "['522', '0', '3', '22', '7.8958']\n",
            "['523', '0', '3', '', '7.225']\n",
            "['524', '1', '1', '44', '57.9792']\n",
            "['525', '0', '3', '', '7.2292']\n",
            "['526', '0', '3', '40.5', '7.75']\n",
            "['527', '1', '2', '50', '10.5']\n",
            "['528', '0', '1', '', '221.7792']\n",
            "['529', '0', '3', '39', '7.925']\n",
            "['530', '0', '2', '23', '11.5']\n",
            "['531', '1', '2', '2', '26']\n",
            "['532', '0', '3', '', '7.2292']\n",
            "['533', '0', '3', '17', '7.2292']\n",
            "['534', '1', '3', '', '22.3583']\n",
            "['535', '0', '3', '30', '8.6625']\n",
            "['536', '1', '2', '7', '26.25']\n",
            "['537', '0', '1', '45', '26.55']\n",
            "['538', '1', '1', '30', '106.425']\n",
            "['539', '0', '3', '', '14.5']\n",
            "['540', '1', '1', '22', '49.5']\n",
            "['541', '1', '1', '36', '71']\n",
            "['542', '0', '3', '9', '31.275']\n",
            "['543', '0', '3', '11', '31.275']\n",
            "['544', '1', '2', '32', '26']\n",
            "['545', '0', '1', '50', '106.425']\n",
            "['546', '0', '1', '64', '26']\n",
            "['547', '1', '2', '19', '26']\n",
            "['548', '1', '2', '', '13.8625']\n",
            "['549', '0', '3', '33', '20.525']\n",
            "['550', '1', '2', '8', '36.75']\n",
            "['551', '1', '1', '17', '110.8833']\n",
            "['552', '0', '2', '27', '26']\n",
            "['553', '0', '3', '', '7.8292']\n",
            "['554', '1', '3', '22', '7.225']\n",
            "['555', '1', '3', '22', '7.775']\n",
            "['556', '0', '1', '62', '26.55']\n",
            "['557', '1', '1', '48', '39.6']\n",
            "['558', '0', '1', '', '227.525']\n",
            "['559', '1', '1', '39', '79.65']\n",
            "['560', '1', '3', '36', '17.4']\n",
            "['561', '0', '3', '', '7.75']\n",
            "['562', '0', '3', '40', '7.8958']\n",
            "['563', '0', '2', '28', '13.5']\n",
            "['564', '0', '3', '', '8.05']\n",
            "['565', '0', '3', '', '8.05']\n",
            "['566', '0', '3', '24', '24.15']\n",
            "['567', '0', '3', '19', '7.8958']\n",
            "['568', '0', '3', '29', '21.075']\n",
            "['569', '0', '3', '', '7.2292']\n",
            "['570', '1', '3', '32', '7.8542']\n",
            "['571', '1', '2', '62', '10.5']\n",
            "['572', '1', '1', '53', '51.4792']\n",
            "['573', '1', '1', '36', '26.3875']\n",
            "['574', '1', '3', '', '7.75']\n",
            "['575', '0', '3', '16', '8.05']\n",
            "['576', '0', '3', '19', '14.5']\n",
            "['577', '1', '2', '34', '13']\n",
            "['578', '1', '1', '39', '55.9']\n",
            "['579', '0', '3', '', '14.4583']\n",
            "['580', '1', '3', '32', '7.925']\n",
            "['581', '1', '2', '25', '30']\n",
            "['582', '1', '1', '39', '110.8833']\n",
            "['583', '0', '2', '54', '26']\n",
            "['584', '0', '1', '36', '40.125']\n",
            "['585', '0', '3', '', '8.7125']\n",
            "['586', '1', '1', '18', '79.65']\n",
            "['587', '0', '2', '47', '15']\n",
            "['588', '1', '1', '60', '79.2']\n",
            "['589', '0', '3', '22', '8.05']\n",
            "['590', '0', '3', '', '8.05']\n",
            "['591', '0', '3', '35', '7.125']\n",
            "['592', '1', '1', '52', '78.2667']\n",
            "['593', '0', '3', '47', '7.25']\n",
            "['594', '0', '3', '', '7.75']\n",
            "['595', '0', '2', '37', '26']\n",
            "['596', '0', '3', '36', '24.15']\n",
            "['597', '1', '2', '', '33']\n",
            "['598', '0', '3', '49', '0']\n",
            "['599', '0', '3', '', '7.225']\n",
            "['600', '1', '1', '49', '56.9292']\n",
            "['601', '1', '2', '24', '27']\n",
            "['602', '0', '3', '', '7.8958']\n",
            "['603', '0', '1', '', '42.4']\n",
            "['604', '0', '3', '44', '8.05']\n",
            "['605', '1', '1', '35', '26.55']\n",
            "['606', '0', '3', '36', '15.55']\n",
            "['607', '0', '3', '30', '7.8958']\n",
            "['608', '1', '1', '27', '30.5']\n",
            "['609', '1', '2', '22', '41.5792']\n",
            "['610', '1', '1', '40', '153.4625']\n",
            "['611', '0', '3', '39', '31.275']\n",
            "['612', '0', '3', '', '7.05']\n",
            "['613', '1', '3', '', '15.5']\n",
            "['614', '0', '3', '', '7.75']\n",
            "['615', '0', '3', '35', '8.05']\n",
            "['616', '1', '2', '24', '65']\n",
            "['617', '0', '3', '34', '14.4']\n",
            "['618', '0', '3', '26', '16.1']\n",
            "['619', '1', '2', '4', '39']\n",
            "['620', '0', '2', '26', '10.5']\n",
            "['621', '0', '3', '27', '14.4542']\n",
            "['622', '1', '1', '42', '52.5542']\n",
            "['623', '1', '3', '20', '15.7417']\n",
            "['624', '0', '3', '21', '7.8542']\n",
            "['625', '0', '3', '21', '16.1']\n",
            "['626', '0', '1', '61', '32.3208']\n",
            "['627', '0', '2', '57', '12.35']\n",
            "['628', '1', '1', '21', '77.9583']\n",
            "['629', '0', '3', '26', '7.8958']\n",
            "['630', '0', '3', '', '7.7333']\n",
            "['631', '1', '1', '80', '30']\n",
            "['632', '0', '3', '51', '7.0542']\n",
            "['633', '1', '1', '32', '30.5']\n",
            "['634', '0', '1', '', '0']\n",
            "['635', '0', '3', '9', '27.9']\n",
            "['636', '1', '2', '28', '13']\n",
            "['637', '0', '3', '32', '7.925']\n",
            "['638', '0', '2', '31', '26.25']\n",
            "['639', '0', '3', '41', '39.6875']\n",
            "['640', '0', '3', '', '16.1']\n",
            "['641', '0', '3', '20', '7.8542']\n",
            "['642', '1', '1', '24', '69.3']\n",
            "['643', '0', '3', '2', '27.9']\n",
            "['644', '1', '3', '', '56.4958']\n",
            "['645', '1', '3', '0.75', '19.2583']\n",
            "['646', '1', '1', '48', '76.7292']\n",
            "['647', '0', '3', '19', '7.8958']\n",
            "['648', '1', '1', '56', '35.5']\n",
            "['649', '0', '3', '', '7.55']\n",
            "['650', '1', '3', '23', '7.55']\n",
            "['651', '0', '3', '', '7.8958']\n",
            "['652', '1', '2', '18', '23']\n",
            "['653', '0', '3', '21', '8.4333']\n",
            "['654', '1', '3', '', '7.8292']\n",
            "['655', '0', '3', '18', '6.75']\n",
            "['656', '0', '2', '24', '73.5']\n",
            "['657', '0', '3', '', '7.8958']\n",
            "['658', '0', '3', '32', '15.5']\n",
            "['659', '0', '2', '23', '13']\n",
            "['660', '0', '1', '58', '113.275']\n",
            "['661', '1', '1', '50', '133.65']\n",
            "['662', '0', '3', '40', '7.225']\n",
            "['663', '0', '1', '47', '25.5875']\n",
            "['664', '0', '3', '36', '7.4958']\n",
            "['665', '1', '3', '20', '7.925']\n",
            "['666', '0', '2', '32', '73.5']\n",
            "['667', '0', '2', '25', '13']\n",
            "['668', '0', '3', '', '7.775']\n",
            "['669', '0', '3', '43', '8.05']\n",
            "['670', '1', '1', '', '52']\n",
            "['671', '1', '2', '40', '39']\n",
            "['672', '0', '1', '31', '52']\n",
            "['673', '0', '2', '70', '10.5']\n",
            "['674', '1', '2', '31', '13']\n",
            "['675', '0', '2', '', '0']\n",
            "['676', '0', '3', '18', '7.775']\n",
            "['677', '0', '3', '24.5', '8.05']\n",
            "['678', '1', '3', '18', '9.8417']\n",
            "['679', '0', '3', '43', '46.9']\n",
            "['680', '1', '1', '36', '512.3292']\n",
            "['681', '0', '3', '', '8.1375']\n",
            "['682', '1', '1', '27', '76.7292']\n",
            "['683', '0', '3', '20', '9.225']\n",
            "['684', '0', '3', '14', '46.9']\n",
            "['685', '0', '2', '60', '39']\n",
            "['686', '0', '2', '25', '41.5792']\n",
            "['687', '0', '3', '14', '39.6875']\n",
            "['688', '0', '3', '19', '10.1708']\n",
            "['689', '0', '3', '18', '7.7958']\n",
            "['690', '1', '1', '15', '211.3375']\n",
            "['691', '1', '1', '31', '57']\n",
            "['692', '1', '3', '4', '13.4167']\n",
            "['693', '1', '3', '', '56.4958']\n",
            "['694', '0', '3', '25', '7.225']\n",
            "['695', '0', '1', '60', '26.55']\n",
            "['696', '0', '2', '52', '13.5']\n",
            "['697', '0', '3', '44', '8.05']\n",
            "['698', '1', '3', '', '7.7333']\n",
            "['699', '0', '1', '49', '110.8833']\n",
            "['700', '0', '3', '42', '7.65']\n",
            "['701', '1', '1', '18', '227.525']\n",
            "['702', '1', '1', '35', '26.2875']\n",
            "['703', '0', '3', '18', '14.4542']\n",
            "['704', '0', '3', '25', '7.7417']\n",
            "['705', '0', '3', '26', '7.8542']\n",
            "['706', '0', '2', '39', '26']\n",
            "['707', '1', '2', '45', '13.5']\n",
            "['708', '1', '1', '42', '26.2875']\n",
            "['709', '1', '1', '22', '151.55']\n",
            "['710', '1', '3', '', '15.2458']\n",
            "['711', '1', '1', '24', '49.5042']\n",
            "['712', '0', '1', '', '26.55']\n",
            "['713', '1', '1', '48', '52']\n",
            "['714', '0', '3', '29', '9.4833']\n",
            "['715', '0', '2', '52', '13']\n",
            "['716', '0', '3', '19', '7.65']\n",
            "['717', '1', '1', '38', '227.525']\n",
            "['718', '1', '2', '27', '10.5']\n",
            "['719', '0', '3', '', '15.5']\n",
            "['720', '0', '3', '33', '7.775']\n",
            "['721', '1', '2', '6', '33']\n",
            "['722', '0', '3', '17', '7.0542']\n",
            "['723', '0', '2', '34', '13']\n",
            "['724', '0', '2', '50', '13']\n",
            "['725', '1', '1', '27', '53.1']\n",
            "['726', '0', '3', '20', '8.6625']\n",
            "['727', '1', '2', '30', '21']\n",
            "['728', '1', '3', '', '7.7375']\n",
            "['729', '0', '2', '25', '26']\n",
            "['730', '0', '3', '25', '7.925']\n",
            "['731', '1', '1', '29', '211.3375']\n",
            "['732', '0', '3', '11', '18.7875']\n",
            "['733', '0', '2', '', '0']\n",
            "['734', '0', '2', '23', '13']\n",
            "['735', '0', '2', '23', '13']\n",
            "['736', '0', '3', '28.5', '16.1']\n",
            "['737', '0', '3', '48', '34.375']\n",
            "['738', '1', '1', '35', '512.3292']\n",
            "['739', '0', '3', '', '7.8958']\n",
            "['740', '0', '3', '', '7.8958']\n",
            "['741', '1', '1', '', '30']\n",
            "['742', '0', '1', '36', '78.85']\n",
            "['743', '1', '1', '21', '262.375']\n",
            "['744', '0', '3', '24', '16.1']\n",
            "['745', '1', '3', '31', '7.925']\n",
            "['746', '0', '1', '70', '71']\n",
            "['747', '0', '3', '16', '20.25']\n",
            "['748', '1', '2', '30', '13']\n",
            "['749', '0', '1', '19', '53.1']\n",
            "['750', '0', '3', '31', '7.75']\n",
            "['751', '1', '2', '4', '23']\n",
            "['752', '1', '3', '6', '12.475']\n",
            "['753', '0', '3', '33', '9.5']\n",
            "['754', '0', '3', '23', '7.8958']\n",
            "['755', '1', '2', '48', '65']\n",
            "['756', '1', '2', '0.67', '14.5']\n",
            "['757', '0', '3', '28', '7.7958']\n",
            "['758', '0', '2', '18', '11.5']\n",
            "['759', '0', '3', '34', '8.05']\n",
            "['760', '1', '1', '33', '86.5']\n",
            "['761', '0', '3', '', '14.5']\n",
            "['762', '0', '3', '41', '7.125']\n",
            "['763', '1', '3', '20', '7.2292']\n",
            "['764', '1', '1', '36', '120']\n",
            "['765', '0', '3', '16', '7.775']\n",
            "['766', '1', '1', '51', '77.9583']\n",
            "['767', '0', '1', '', '39.6']\n",
            "['768', '0', '3', '30.5', '7.75']\n",
            "['769', '0', '3', '', '24.15']\n",
            "['770', '0', '3', '32', '8.3625']\n",
            "['771', '0', '3', '24', '9.5']\n",
            "['772', '0', '3', '48', '7.8542']\n",
            "['773', '0', '2', '57', '10.5']\n",
            "['774', '0', '3', '', '7.225']\n",
            "['775', '1', '2', '54', '23']\n",
            "['776', '0', '3', '18', '7.75']\n",
            "['777', '0', '3', '', '7.75']\n",
            "['778', '1', '3', '5', '12.475']\n",
            "['779', '0', '3', '', '7.7375']\n",
            "['780', '1', '1', '43', '211.3375']\n",
            "['781', '1', '3', '13', '7.2292']\n",
            "['782', '1', '1', '17', '57']\n",
            "['783', '0', '1', '29', '30']\n",
            "['784', '0', '3', '', '23.45']\n",
            "['785', '0', '3', '25', '7.05']\n",
            "['786', '0', '3', '25', '7.25']\n",
            "['787', '1', '3', '18', '7.4958']\n",
            "['788', '0', '3', '8', '29.125']\n",
            "['789', '1', '3', '1', '20.575']\n",
            "['790', '0', '1', '46', '79.2']\n",
            "['791', '0', '3', '', '7.75']\n",
            "['792', '0', '2', '16', '26']\n",
            "['793', '0', '3', '', '69.55']\n",
            "['794', '0', '1', '', '30.6958']\n",
            "['795', '0', '3', '25', '7.8958']\n",
            "['796', '0', '2', '39', '13']\n",
            "['797', '1', '1', '49', '25.9292']\n",
            "['798', '1', '3', '31', '8.6833']\n",
            "['799', '0', '3', '30', '7.2292']\n",
            "['800', '0', '3', '30', '24.15']\n",
            "['801', '0', '2', '34', '13']\n",
            "['802', '1', '2', '31', '26.25']\n",
            "['803', '1', '1', '11', '120']\n",
            "['804', '1', '3', '0.42', '8.5167']\n",
            "['805', '1', '3', '27', '6.975']\n",
            "['806', '0', '3', '31', '7.775']\n",
            "['807', '0', '1', '39', '0']\n",
            "['808', '0', '3', '18', '7.775']\n",
            "['809', '0', '2', '39', '13']\n",
            "['810', '1', '1', '33', '53.1']\n",
            "['811', '0', '3', '26', '7.8875']\n",
            "['812', '0', '3', '39', '24.15']\n",
            "['813', '0', '2', '35', '10.5']\n",
            "['814', '0', '3', '6', '31.275']\n",
            "['815', '0', '3', '30.5', '8.05']\n",
            "['816', '0', '1', '', '0']\n",
            "['817', '0', '3', '23', '7.925']\n",
            "['818', '0', '2', '31', '37.0042']\n",
            "['819', '0', '3', '43', '6.45']\n",
            "['820', '0', '3', '10', '27.9']\n",
            "['821', '1', '1', '52', '93.5']\n",
            "['822', '1', '3', '27', '8.6625']\n",
            "['823', '0', '1', '38', '0']\n",
            "['824', '1', '3', '27', '12.475']\n",
            "['825', '0', '3', '2', '39.6875']\n",
            "['826', '0', '3', '', '6.95']\n",
            "['827', '0', '3', '', '56.4958']\n",
            "['828', '1', '2', '1', '37.0042']\n",
            "['829', '1', '3', '', '7.75']\n",
            "['830', '1', '1', '62', '80']\n",
            "['831', '1', '3', '15', '14.4542']\n",
            "['832', '1', '2', '0.83', '18.75']\n",
            "['833', '0', '3', '', '7.2292']\n",
            "['834', '0', '3', '23', '7.8542']\n",
            "['835', '0', '3', '18', '8.3']\n",
            "['836', '1', '1', '39', '83.1583']\n",
            "['837', '0', '3', '21', '8.6625']\n",
            "['838', '0', '3', '', '8.05']\n",
            "['839', '1', '3', '32', '56.4958']\n",
            "['840', '1', '1', '', '29.7']\n",
            "['841', '0', '3', '20', '7.925']\n",
            "['842', '0', '2', '16', '10.5']\n",
            "['843', '1', '1', '30', '31']\n",
            "['844', '0', '3', '34.5', '6.4375']\n",
            "['845', '0', '3', '17', '8.6625']\n",
            "['846', '0', '3', '42', '7.55']\n",
            "['847', '0', '3', '', '69.55']\n",
            "['848', '0', '3', '35', '7.8958']\n",
            "['849', '0', '2', '28', '33']\n",
            "['850', '1', '1', '', '89.1042']\n",
            "['851', '0', '3', '4', '31.275']\n",
            "['852', '0', '3', '74', '7.775']\n",
            "['853', '0', '3', '9', '15.2458']\n",
            "['854', '1', '1', '16', '39.4']\n",
            "['855', '0', '2', '44', '26']\n",
            "['856', '1', '3', '18', '9.35']\n",
            "['857', '1', '1', '45', '164.8667']\n",
            "['858', '1', '1', '51', '26.55']\n",
            "['859', '1', '3', '24', '19.2583']\n",
            "['860', '0', '3', '', '7.2292']\n",
            "['861', '0', '3', '41', '14.1083']\n",
            "['862', '0', '2', '21', '11.5']\n",
            "['863', '1', '1', '48', '25.9292']\n",
            "['864', '0', '3', '', '69.55']\n",
            "['865', '0', '2', '24', '13']\n",
            "['866', '1', '2', '42', '13']\n",
            "['867', '1', '2', '27', '13.8583']\n",
            "['868', '0', '1', '31', '50.4958']\n",
            "['869', '0', '3', '', '9.5']\n",
            "['870', '1', '3', '4', '11.1333']\n",
            "['871', '0', '3', '26', '7.8958']\n",
            "['872', '1', '1', '47', '52.5542']\n",
            "['873', '0', '1', '33', '5']\n",
            "['874', '0', '3', '47', '9']\n",
            "['875', '1', '2', '28', '24']\n",
            "['876', '1', '3', '15', '7.225']\n",
            "['877', '0', '3', '20', '9.8458']\n",
            "['878', '0', '3', '19', '7.8958']\n",
            "['879', '0', '3', '', '7.8958']\n",
            "['880', '1', '1', '56', '83.1583']\n",
            "['881', '1', '2', '25', '26']\n",
            "['882', '0', '3', '33', '7.8958']\n",
            "['883', '0', '3', '22', '10.5167']\n",
            "['884', '0', '2', '28', '10.5']\n",
            "['885', '0', '3', '25', '7.05']\n",
            "['886', '0', '3', '39', '29.125']\n",
            "['887', '0', '2', '27', '13']\n",
            "['888', '1', '1', '19', '30']\n",
            "['889', '0', '3', '', '23.45']\n",
            "['890', '1', '1', '26', '30']\n",
            "['891', '0', '3', '32', '7.75']\n",
            "[['PassengerId', 'Survived', 'Pclass', 'Age', 'Fare'], ['5', '0', '3', '35', '8.05'], ['10', '1', '2', '14', '30.0708'], ['15', '0', '3', '14', '7.8542'], ['20', '1', '3', '', '7.225'], ['25', '0', '3', '8', '21.075'], ['30', '0', '3', '', '7.8958'], ['35', '0', '1', '28', '82.1708'], ['40', '1', '3', '14', '11.2417'], ['45', '1', '3', '19', '7.8792'], ['50', '0', '3', '18', '17.8'], ['55', '0', '1', '65', '61.9792'], ['60', '0', '3', '11', '46.9'], ['65', '0', '1', '', '27.7208'], ['70', '0', '3', '26', '8.6625'], ['75', '1', '3', '32', '56.4958'], ['80', '1', '3', '30', '12.475'], ['85', '1', '2', '17', '10.5'], ['90', '0', '3', '24', '8.05'], ['95', '0', '3', '59', '7.25'], ['100', '0', '2', '34', '26'], ['105', '0', '3', '37', '7.925'], ['110', '1', '3', '', '24.15'], ['115', '0', '3', '17', '14.4583'], ['120', '0', '3', '2', '31.275'], ['125', '0', '1', '54', '77.2875'], ['130', '0', '3', '45', '6.975'], ['135', '0', '2', '25', '13'], ['140', '0', '1', '24', '79.2'], ['145', '0', '2', '18', '11.5'], ['150', '0', '2', '42', '13'], ['155', '0', '3', '', '7.3125'], ['160', '0', '3', '', '69.55'], ['165', '0', '3', '1', '39.6875'], ['170', '0', '3', '28', '56.4958'], ['175', '0', '1', '56', '30.6958'], ['180', '0', '3', '36', '0'], ['185', '1', '3', '4', '22.025'], ['190', '0', '3', '36', '7.8958'], ['195', '1', '1', '44', '27.7208'], ['200', '0', '2', '24', '13'], ['205', '1', '3', '18', '8.05'], ['210', '1', '1', '40', '31'], ['215', '0', '3', '', '7.75'], ['220', '0', '2', '30', '10.5'], ['225', '1', '1', '38', '90'], ['230', '0', '3', '', '25.4667'], ['235', '0', '2', '24', '10.5'], ['240', '0', '2', '33', '12.275'], ['245', '0', '3', '30', '7.225'], ['250', '0', '2', '54', '26'], ['255', '0', '3', '41', '20.2125'], ['260', '1', '2', '50', '26'], ['265', '0', '3', '', '7.75'], ['270', '1', '1', '35', '135.6333'], ['275', '1', '3', '', '7.75'], ['280', '1', '3', '35', '20.25'], ['285', '0', '1', '', '26'], ['290', '1', '3', '22', '7.75'], ['295', '0', '3', '24', '7.8958'], ['300', '1', '1', '50', '247.5208'], ['305', '0', '3', '', '8.05'], ['310', '1', '1', '30', '56.9292'], ['315', '0', '2', '43', '26.25'], ['320', '1', '1', '40', '134.5'], ['325', '0', '3', '', '69.55'], ['330', '1', '1', '16', '57.9792'], ['335', '1', '1', '', '133.65'], ['340', '0', '1', '45', '35.5'], ['345', '0', '2', '36', '13'], ['350', '0', '3', '42', '8.6625'], ['355', '0', '3', '', '7.225'], ['360', '1', '3', '', '7.8792'], ['365', '0', '3', '', '15.5'], ['370', '1', '1', '24', '69.3'], ['375', '0', '3', '3', '21.075'], ['380', '0', '3', '19', '7.775'], ['385', '0', '3', '', '7.8958'], ['390', '1', '2', '17', '12'], ['395', '1', '3', '24', '16.7'], ['400', '1', '2', '28', '12.65'], ['405', '0', '3', '20', '8.6625'], ['410', '0', '3', '', '25.4667'], ['415', '1', '3', '44', '7.925'], ['420', '0', '3', '10', '24.15'], ['425', '0', '3', '18', '20.2125'], ['430', '1', '3', '32', '8.05'], ['435', '0', '1', '50', '55.9'], ['440', '0', '2', '31', '10.5'], ['445', '1', '3', '', '8.1125'], ['450', '1', '1', '52', '30.5'], ['455', '0', '3', '', '8.05'], ['460', '0', '3', '', '7.75'], ['465', '0', '3', '', '8.05'], ['470', '1', '3', '0.75', '19.2583'], ['475', '0', '3', '22', '9.8375'], ['480', '1', '3', '2', '12.2875'], ['485', '1', '1', '25', '91.0792'], ['490', '1', '3', '9', '15.9'], ['495', '0', '3', '21', '8.05'], ['500', '0', '3', '24', '7.7958'], ['505', '1', '1', '16', '86.5'], ['510', '1', '3', '26', '56.4958'], ['515', '0', '3', '24', '7.4958'], ['520', '0', '3', '32', '7.8958'], ['525', '0', '3', '', '7.2292'], ['530', '0', '2', '23', '11.5'], ['535', '0', '3', '30', '8.6625'], ['540', '1', '1', '22', '49.5'], ['545', '0', '1', '50', '106.425'], ['550', '1', '2', '8', '36.75'], ['555', '1', '3', '22', '7.775'], ['560', '1', '3', '36', '17.4'], ['565', '0', '3', '', '8.05'], ['570', '1', '3', '32', '7.8542'], ['575', '0', '3', '16', '8.05'], ['580', '1', '3', '32', '7.925'], ['585', '0', '3', '', '8.7125'], ['590', '0', '3', '', '8.05'], ['595', '0', '2', '37', '26'], ['600', '1', '1', '49', '56.9292'], ['605', '1', '1', '35', '26.55'], ['610', '1', '1', '40', '153.4625'], ['615', '0', '3', '35', '8.05'], ['620', '0', '2', '26', '10.5'], ['625', '0', '3', '21', '16.1'], ['630', '0', '3', '', '7.7333'], ['635', '0', '3', '9', '27.9'], ['640', '0', '3', '', '16.1'], ['645', '1', '3', '0.75', '19.2583'], ['650', '1', '3', '23', '7.55'], ['655', '0', '3', '18', '6.75'], ['660', '0', '1', '58', '113.275'], ['665', '1', '3', '20', '7.925'], ['670', '1', '1', '', '52'], ['675', '0', '2', '', '0'], ['680', '1', '1', '36', '512.3292'], ['685', '0', '2', '60', '39'], ['690', '1', '1', '15', '211.3375'], ['695', '0', '1', '60', '26.55'], ['700', '0', '3', '42', '7.65'], ['705', '0', '3', '26', '7.8542'], ['710', '1', '3', '', '15.2458'], ['715', '0', '2', '52', '13'], ['720', '0', '3', '33', '7.775'], ['725', '1', '1', '27', '53.1'], ['730', '0', '3', '25', '7.925'], ['735', '0', '2', '23', '13'], ['740', '0', '3', '', '7.8958'], ['745', '1', '3', '31', '7.925'], ['750', '0', '3', '31', '7.75'], ['755', '1', '2', '48', '65'], ['760', '1', '1', '33', '86.5'], ['765', '0', '3', '16', '7.775'], ['770', '0', '3', '32', '8.3625'], ['775', '1', '2', '54', '23'], ['780', '1', '1', '43', '211.3375'], ['785', '0', '3', '25', '7.05'], ['790', '0', '1', '46', '79.2'], ['795', '0', '3', '25', '7.8958'], ['800', '0', '3', '30', '24.15'], ['805', '1', '3', '27', '6.975'], ['810', '1', '1', '33', '53.1'], ['815', '0', '3', '30.5', '8.05'], ['820', '0', '3', '10', '27.9'], ['825', '0', '3', '2', '39.6875'], ['830', '1', '1', '62', '80'], ['835', '0', '3', '18', '8.3'], ['840', '1', '1', '', '29.7'], ['845', '0', '3', '17', '8.6625'], ['850', '1', '1', '', '89.1042'], ['855', '0', '2', '44', '26'], ['860', '0', '3', '', '7.2292'], ['865', '0', '2', '24', '13'], ['870', '1', '3', '4', '11.1333'], ['875', '1', '2', '28', '24'], ['880', '1', '1', '56', '83.1583'], ['885', '0', '3', '25', '7.05'], ['890', '1', '1', '26', '30']]\n",
            "[['1', '0', '3', '22', '7.25'], ['6', '0', '3', '', '8.4583'], ['11', '1', '3', '4', '16.7'], ['16', '1', '2', '55', '16'], ['21', '0', '2', '35', '26'], ['26', '1', '3', '38', '31.3875'], ['31', '0', '1', '40', '27.7208'], ['36', '0', '1', '42', '52'], ['41', '0', '3', '40', '9.475'], ['46', '0', '3', '', '8.05'], ['51', '0', '3', '7', '39.6875'], ['56', '1', '1', '', '35.5'], ['61', '0', '3', '22', '7.2292'], ['66', '1', '3', '', '15.2458'], ['71', '0', '2', '32', '10.5'], ['76', '0', '3', '25', '7.65'], ['81', '0', '3', '22', '9'], ['86', '1', '3', '33', '15.85'], ['91', '0', '3', '29', '8.05'], ['96', '0', '3', '', '8.05'], ['101', '0', '3', '28', '7.8958'], ['106', '0', '3', '28', '7.8958'], ['111', '0', '1', '47', '52'], ['116', '0', '3', '21', '7.925'], ['121', '0', '2', '21', '73.5'], ['126', '1', '3', '12', '11.2417'], ['131', '0', '3', '33', '7.8958'], ['136', '0', '2', '23', '15.0458'], ['141', '0', '3', '', '15.2458'], ['146', '0', '2', '19', '36.75'], ['151', '0', '2', '51', '12.525'], ['156', '0', '1', '51', '61.3792'], ['161', '0', '3', '44', '16.1'], ['166', '1', '3', '9', '20.525'], ['171', '0', '1', '61', '33.5'], ['176', '0', '3', '18', '7.8542'], ['181', '0', '3', '', '69.55'], ['186', '0', '1', '', '50'], ['191', '1', '2', '32', '13'], ['196', '1', '1', '58', '146.5208'], ['201', '0', '3', '28', '9.5'], ['206', '0', '3', '2', '10.4625'], ['211', '0', '3', '24', '7.05'], ['216', '1', '1', '31', '113.275'], ['221', '1', '3', '16', '8.05'], ['226', '0', '3', '22', '9.35'], ['231', '1', '1', '35', '83.475'], ['236', '0', '3', '', '7.55'], ['241', '0', '3', '', '14.4542'], ['246', '0', '1', '44', '90'], ['251', '0', '3', '', '7.25'], ['256', '1', '3', '29', '15.2458'], ['261', '0', '3', '', '7.75'], ['266', '0', '2', '36', '10.5'], ['271', '0', '1', '', '31'], ['276', '1', '1', '63', '77.9583'], ['281', '0', '3', '65', '7.75'], ['286', '0', '3', '33', '8.6625'], ['291', '1', '1', '26', '78.85'], ['296', '0', '1', '', '27.7208'], ['301', '1', '3', '', '7.75'], ['306', '1', '1', '0.92', '151.55'], ['311', '1', '1', '24', '83.1583'], ['316', '1', '3', '26', '7.8542'], ['321', '0', '3', '22', '7.25'], ['326', '1', '1', '36', '135.6333'], ['331', '1', '3', '', '23.25'], ['336', '0', '3', '', '7.8958'], ['341', '1', '2', '2', '26'], ['346', '1', '2', '24', '13'], ['351', '0', '3', '23', '9.225'], ['356', '0', '3', '28', '9.5'], ['361', '0', '3', '40', '27.9'], ['366', '0', '3', '30', '7.25'], ['371', '1', '1', '25', '55.4417'], ['376', '1', '1', '', '82.1708'], ['381', '1', '1', '42', '227.525'], ['386', '0', '2', '18', '73.5'], ['391', '1', '1', '36', '120'], ['396', '0', '3', '22', '7.7958'], ['401', '1', '3', '39', '7.925'], ['406', '0', '2', '34', '21'], ['411', '0', '3', '', '7.8958'], ['416', '0', '3', '', '8.05'], ['421', '0', '3', '', '7.8958'], ['426', '0', '3', '', '7.25'], ['431', '1', '1', '28', '26.55'], ['436', '1', '1', '14', '120'], ['441', '1', '2', '45', '26.25'], ['446', '1', '1', '4', '81.8583'], ['451', '0', '2', '36', '27.75'], ['456', '1', '3', '29', '7.8958'], ['461', '1', '1', '48', '26.55'], ['466', '0', '3', '38', '7.05'], ['471', '0', '3', '', '7.25'], ['476', '0', '1', '', '52'], ['481', '0', '3', '9', '46.9'], ['486', '0', '3', '', '25.4667'], ['491', '0', '3', '', '19.9667'], ['496', '0', '3', '', '14.4583'], ['501', '0', '3', '17', '8.6625'], ['506', '0', '1', '18', '108.9'], ['511', '1', '3', '29', '7.75'], ['516', '0', '1', '47', '34.0208'], ['521', '1', '1', '30', '93.5'], ['526', '0', '3', '40.5', '7.75'], ['531', '1', '2', '2', '26'], ['536', '1', '2', '7', '26.25'], ['541', '1', '1', '36', '71'], ['546', '0', '1', '64', '26'], ['551', '1', '1', '17', '110.8833'], ['556', '0', '1', '62', '26.55'], ['561', '0', '3', '', '7.75'], ['566', '0', '3', '24', '24.15'], ['571', '1', '2', '62', '10.5'], ['576', '0', '3', '19', '14.5'], ['581', '1', '2', '25', '30'], ['586', '1', '1', '18', '79.65'], ['591', '0', '3', '35', '7.125'], ['596', '0', '3', '36', '24.15'], ['601', '1', '2', '24', '27'], ['606', '0', '3', '36', '15.55'], ['611', '0', '3', '39', '31.275'], ['616', '1', '2', '24', '65'], ['621', '0', '3', '27', '14.4542'], ['626', '0', '1', '61', '32.3208'], ['631', '1', '1', '80', '30'], ['636', '1', '2', '28', '13'], ['641', '0', '3', '20', '7.8542'], ['646', '1', '1', '48', '76.7292'], ['651', '0', '3', '', '7.8958'], ['656', '0', '2', '24', '73.5'], ['661', '1', '1', '50', '133.65'], ['666', '0', '2', '32', '73.5'], ['671', '1', '2', '40', '39'], ['676', '0', '3', '18', '7.775'], ['681', '0', '3', '', '8.1375'], ['686', '0', '2', '25', '41.5792'], ['691', '1', '1', '31', '57'], ['696', '0', '2', '52', '13.5'], ['701', '1', '1', '18', '227.525'], ['706', '0', '2', '39', '26'], ['711', '1', '1', '24', '49.5042'], ['716', '0', '3', '19', '7.65'], ['721', '1', '2', '6', '33'], ['726', '0', '3', '20', '8.6625'], ['731', '1', '1', '29', '211.3375'], ['736', '0', '3', '28.5', '16.1'], ['741', '1', '1', '', '30'], ['746', '0', '1', '70', '71'], ['751', '1', '2', '4', '23'], ['756', '1', '2', '0.67', '14.5'], ['761', '0', '3', '', '14.5'], ['766', '1', '1', '51', '77.9583'], ['771', '0', '3', '24', '9.5'], ['776', '0', '3', '18', '7.75'], ['781', '1', '3', '13', '7.2292'], ['786', '0', '3', '25', '7.25'], ['791', '0', '3', '', '7.75'], ['796', '0', '2', '39', '13'], ['801', '0', '2', '34', '13'], ['806', '0', '3', '31', '7.775'], ['811', '0', '3', '26', '7.8875'], ['816', '0', '1', '', '0'], ['821', '1', '1', '52', '93.5'], ['826', '0', '3', '', '6.95'], ['831', '1', '3', '15', '14.4542'], ['836', '1', '1', '39', '83.1583'], ['841', '0', '3', '20', '7.925'], ['846', '0', '3', '42', '7.55'], ['851', '0', '3', '4', '31.275'], ['856', '1', '3', '18', '9.35'], ['861', '0', '3', '41', '14.1083'], ['866', '1', '2', '42', '13'], ['871', '0', '3', '26', '7.8958'], ['876', '1', '3', '15', '7.225'], ['881', '1', '2', '25', '26'], ['886', '0', '3', '39', '29.125'], ['891', '0', '3', '32', '7.75']]\n",
            "[['2', '1', '1', '38', '71.2833'], ['7', '0', '1', '54', '51.8625'], ['12', '1', '1', '58', '26.55'], ['17', '0', '3', '2', '29.125'], ['22', '1', '2', '34', '13'], ['27', '0', '3', '', '7.225'], ['32', '1', '1', '', '146.5208'], ['37', '1', '3', '', '7.2292'], ['42', '0', '2', '27', '21'], ['47', '0', '3', '', '15.5'], ['52', '0', '3', '21', '7.8'], ['57', '1', '2', '21', '10.5'], ['62', '1', '1', '38', '80'], ['67', '1', '2', '29', '10.5'], ['72', '0', '3', '16', '46.9'], ['77', '0', '3', '', '7.8958'], ['82', '1', '3', '29', '9.5'], ['87', '0', '3', '16', '34.375'], ['92', '0', '3', '20', '7.8542'], ['97', '0', '1', '71', '34.6542'], ['102', '0', '3', '', '7.8958'], ['107', '1', '3', '21', '7.65'], ['112', '0', '3', '14.5', '14.4542'], ['117', '0', '3', '70.5', '7.75'], ['122', '0', '3', '', '8.05'], ['127', '0', '3', '', '7.75'], ['132', '0', '3', '20', '7.05'], ['137', '1', '1', '19', '26.2833'], ['142', '1', '3', '22', '7.75'], ['147', '1', '3', '27', '7.7958'], ['152', '1', '1', '22', '66.6'], ['157', '1', '3', '16', '7.7333'], ['162', '1', '2', '40', '15.75'], ['167', '1', '1', '', '55'], ['172', '0', '3', '4', '29.125'], ['177', '0', '3', '', '25.4667'], ['182', '0', '2', '', '15.05'], ['187', '1', '3', '', '15.5'], ['192', '0', '2', '19', '13'], ['197', '0', '3', '', '7.75'], ['202', '0', '3', '', '69.55'], ['207', '0', '3', '32', '15.85'], ['212', '1', '2', '35', '21'], ['217', '1', '3', '27', '7.925'], ['222', '0', '2', '27', '13'], ['227', '1', '2', '19', '10.5'], ['232', '0', '3', '29', '7.775'], ['237', '0', '2', '44', '26'], ['242', '1', '3', '', '15.5'], ['247', '0', '3', '25', '7.775'], ['252', '0', '3', '29', '10.4625'], ['257', '1', '1', '', '79.2'], ['262', '1', '3', '3', '31.3875'], ['267', '0', '3', '16', '39.6875'], ['272', '1', '3', '25', '0'], ['277', '0', '3', '45', '7.75'], ['282', '0', '3', '28', '7.8542'], ['287', '1', '3', '30', '9.5'], ['292', '1', '1', '19', '91.0792'], ['297', '0', '3', '23.5', '7.2292'], ['302', '1', '3', '', '23.25'], ['307', '1', '1', '', '110.8833'], ['312', '1', '1', '18', '262.375'], ['317', '1', '2', '24', '26'], ['322', '0', '3', '27', '7.8958'], ['327', '0', '3', '61', '6.2375'], ['332', '0', '1', '45.5', '28.5'], ['337', '0', '1', '29', '66.6'], ['342', '1', '1', '24', '263'], ['347', '1', '2', '40', '13'], ['352', '0', '1', '', '35'], ['357', '1', '1', '22', '55'], ['362', '0', '2', '29', '27.7208'], ['367', '1', '1', '60', '75.25'], ['372', '0', '3', '18', '6.4958'], ['377', '1', '3', '22', '7.25'], ['382', '1', '3', '1', '15.7417'], ['387', '0', '3', '1', '46.9'], ['392', '1', '3', '21', '7.7958'], ['397', '0', '3', '31', '7.8542'], ['402', '0', '3', '26', '8.05'], ['407', '0', '3', '51', '7.75'], ['412', '0', '3', '', '6.8583'], ['417', '1', '2', '34', '32.5'], ['422', '0', '3', '21', '7.7333'], ['427', '1', '2', '28', '26'], ['432', '1', '3', '', '16.1'], ['437', '0', '3', '21', '34.375'], ['442', '0', '3', '20', '9.5'], ['447', '1', '2', '13', '19.5'], ['452', '0', '3', '', '19.9667'], ['457', '0', '1', '65', '26.55'], ['462', '0', '3', '34', '8.05'], ['467', '0', '2', '', '0'], ['472', '0', '3', '38', '8.6625'], ['477', '0', '2', '34', '21'], ['482', '0', '2', '', '0'], ['487', '1', '1', '35', '90'], ['492', '0', '3', '21', '7.25'], ['497', '1', '1', '54', '78.2667'], ['502', '0', '3', '21', '7.75'], ['507', '1', '2', '33', '26'], ['512', '0', '3', '', '8.05'], ['517', '1', '2', '34', '10.5'], ['522', '0', '3', '22', '7.8958'], ['527', '1', '2', '50', '10.5'], ['532', '0', '3', '', '7.2292'], ['537', '0', '1', '45', '26.55'], ['542', '0', '3', '9', '31.275'], ['547', '1', '2', '19', '26'], ['552', '0', '2', '27', '26'], ['557', '1', '1', '48', '39.6'], ['562', '0', '3', '40', '7.8958'], ['567', '0', '3', '19', '7.8958'], ['572', '1', '1', '53', '51.4792'], ['577', '1', '2', '34', '13'], ['582', '1', '1', '39', '110.8833'], ['587', '0', '2', '47', '15'], ['592', '1', '1', '52', '78.2667'], ['597', '1', '2', '', '33'], ['602', '0', '3', '', '7.8958'], ['607', '0', '3', '30', '7.8958'], ['612', '0', '3', '', '7.05'], ['617', '0', '3', '34', '14.4'], ['622', '1', '1', '42', '52.5542'], ['627', '0', '2', '57', '12.35'], ['632', '0', '3', '51', '7.0542'], ['637', '0', '3', '32', '7.925'], ['642', '1', '1', '24', '69.3'], ['647', '0', '3', '19', '7.8958'], ['652', '1', '2', '18', '23'], ['657', '0', '3', '', '7.8958'], ['662', '0', '3', '40', '7.225'], ['667', '0', '2', '25', '13'], ['672', '0', '1', '31', '52'], ['677', '0', '3', '24.5', '8.05'], ['682', '1', '1', '27', '76.7292'], ['687', '0', '3', '14', '39.6875'], ['692', '1', '3', '4', '13.4167'], ['697', '0', '3', '44', '8.05'], ['702', '1', '1', '35', '26.2875'], ['707', '1', '2', '45', '13.5'], ['712', '0', '1', '', '26.55'], ['717', '1', '1', '38', '227.525'], ['722', '0', '3', '17', '7.0542'], ['727', '1', '2', '30', '21'], ['732', '0', '3', '11', '18.7875'], ['737', '0', '3', '48', '34.375'], ['742', '0', '1', '36', '78.85'], ['747', '0', '3', '16', '20.25'], ['752', '1', '3', '6', '12.475'], ['757', '0', '3', '28', '7.7958'], ['762', '0', '3', '41', '7.125'], ['767', '0', '1', '', '39.6'], ['772', '0', '3', '48', '7.8542'], ['777', '0', '3', '', '7.75'], ['782', '1', '1', '17', '57'], ['787', '1', '3', '18', '7.4958'], ['792', '0', '2', '16', '26'], ['797', '1', '1', '49', '25.9292'], ['802', '1', '2', '31', '26.25'], ['807', '0', '1', '39', '0'], ['812', '0', '3', '39', '24.15'], ['817', '0', '3', '23', '7.925'], ['822', '1', '3', '27', '8.6625'], ['827', '0', '3', '', '56.4958'], ['832', '1', '2', '0.83', '18.75'], ['837', '0', '3', '21', '8.6625'], ['842', '0', '2', '16', '10.5'], ['847', '0', '3', '', '69.55'], ['852', '0', '3', '74', '7.775'], ['857', '1', '1', '45', '164.8667'], ['862', '0', '2', '21', '11.5'], ['867', '1', '2', '27', '13.8583'], ['872', '1', '1', '47', '52.5542'], ['877', '0', '3', '20', '9.8458'], ['882', '0', '3', '33', '7.8958'], ['887', '0', '2', '27', '13']]\n",
            "[['3', '1', '3', '26', '7.925'], ['8', '0', '3', '2', '21.075'], ['13', '0', '3', '20', '8.05'], ['18', '1', '2', '', '13'], ['23', '1', '3', '15', '8.0292'], ['28', '0', '1', '19', '263'], ['33', '1', '3', '', '7.75'], ['38', '0', '3', '21', '8.05'], ['43', '0', '3', '', '7.8958'], ['48', '1', '3', '', '7.75'], ['53', '1', '1', '49', '76.7292'], ['58', '0', '3', '28.5', '7.2292'], ['63', '0', '1', '45', '83.475'], ['68', '0', '3', '19', '8.1583'], ['73', '0', '2', '21', '73.5'], ['78', '0', '3', '', '8.05'], ['83', '1', '3', '', '7.7875'], ['88', '0', '3', '', '8.05'], ['93', '0', '1', '46', '61.175'], ['98', '1', '1', '23', '63.3583'], ['103', '0', '1', '21', '77.2875'], ['108', '1', '3', '', '7.775'], ['113', '0', '3', '22', '8.05'], ['118', '0', '2', '29', '21'], ['123', '0', '2', '32.5', '30.0708'], ['128', '1', '3', '24', '7.1417'], ['133', '0', '3', '47', '14.5'], ['138', '0', '1', '37', '53.1'], ['143', '1', '3', '24', '15.85'], ['148', '0', '3', '9', '34.375'], ['153', '0', '3', '55.5', '8.05'], ['158', '0', '3', '30', '8.05'], ['163', '0', '3', '26', '7.775'], ['168', '0', '3', '45', '27.9'], ['173', '1', '3', '1', '11.1333'], ['178', '0', '1', '50', '28.7125'], ['183', '0', '3', '9', '31.3875'], ['188', '1', '1', '45', '26.55'], ['193', '1', '3', '19', '7.8542'], ['198', '0', '3', '42', '8.4042'], ['203', '0', '3', '34', '6.4958'], ['208', '1', '3', '26', '18.7875'], ['213', '0', '3', '22', '7.25'], ['218', '0', '2', '42', '27'], ['223', '0', '3', '51', '8.05'], ['228', '0', '3', '20.5', '7.25'], ['233', '0', '2', '59', '13.5'], ['238', '1', '2', '8', '26.25'], ['243', '0', '2', '29', '10.5'], ['248', '1', '2', '24', '14.5'], ['253', '0', '1', '62', '26.55'], ['258', '1', '1', '30', '86.5'], ['263', '0', '1', '52', '79.65'], ['268', '1', '3', '25', '7.775'], ['273', '1', '2', '41', '19.5'], ['278', '0', '2', '', '0'], ['283', '0', '3', '16', '9.5'], ['288', '0', '3', '22', '7.8958'], ['293', '0', '2', '36', '12.875'], ['298', '0', '1', '2', '151.55'], ['303', '0', '3', '19', '0'], ['308', '1', '1', '17', '108.9'], ['313', '0', '2', '26', '26'], ['318', '0', '2', '54', '14'], ['323', '1', '2', '30', '12.35'], ['328', '1', '2', '36', '13'], ['333', '0', '1', '38', '153.4625'], ['338', '1', '1', '41', '134.5'], ['343', '0', '2', '28', '13'], ['348', '1', '3', '', '16.1'], ['353', '0', '3', '15', '7.2292'], ['358', '0', '2', '38', '13'], ['363', '0', '3', '45', '14.4542'], ['368', '1', '3', '', '7.2292'], ['373', '0', '3', '19', '8.05'], ['378', '0', '1', '27', '211.5'], ['383', '0', '3', '32', '7.925'], ['388', '1', '2', '36', '13'], ['393', '0', '3', '28', '7.925'], ['398', '0', '2', '46', '26'], ['403', '0', '3', '21', '9.825'], ['408', '1', '2', '3', '18.75'], ['413', '1', '1', '33', '90'], ['418', '1', '2', '18', '13'], ['423', '0', '3', '29', '7.875'], ['428', '1', '2', '19', '26'], ['433', '1', '2', '42', '26'], ['438', '1', '2', '24', '18.75'], ['443', '0', '3', '25', '7.775'], ['448', '1', '1', '34', '26.55'], ['453', '0', '1', '30', '27.75'], ['458', '1', '1', '', '51.8625'], ['463', '0', '1', '47', '38.5'], ['468', '0', '1', '56', '26.55'], ['473', '1', '2', '33', '27.75'], ['478', '0', '3', '29', '7.0458'], ['483', '0', '3', '50', '8.05'], ['488', '0', '1', '58', '29.7'], ['493', '0', '1', '55', '30.5'], ['498', '0', '3', '', '15.1'], ['503', '0', '3', '', '7.6292'], ['508', '1', '1', '', '26.55'], ['513', '1', '1', '36', '26.2875'], ['518', '0', '3', '', '24.15'], ['523', '0', '3', '', '7.225'], ['528', '0', '1', '', '221.7792'], ['533', '0', '3', '17', '7.2292'], ['538', '1', '1', '30', '106.425'], ['543', '0', '3', '11', '31.275'], ['548', '1', '2', '', '13.8625'], ['553', '0', '3', '', '7.8292'], ['558', '0', '1', '', '227.525'], ['563', '0', '2', '28', '13.5'], ['568', '0', '3', '29', '21.075'], ['573', '1', '1', '36', '26.3875'], ['578', '1', '1', '39', '55.9'], ['583', '0', '2', '54', '26'], ['588', '1', '1', '60', '79.2'], ['593', '0', '3', '47', '7.25'], ['598', '0', '3', '49', '0'], ['603', '0', '1', '', '42.4'], ['608', '1', '1', '27', '30.5'], ['613', '1', '3', '', '15.5'], ['618', '0', '3', '26', '16.1'], ['623', '1', '3', '20', '15.7417'], ['628', '1', '1', '21', '77.9583'], ['633', '1', '1', '32', '30.5'], ['638', '0', '2', '31', '26.25'], ['643', '0', '3', '2', '27.9'], ['648', '1', '1', '56', '35.5'], ['653', '0', '3', '21', '8.4333'], ['658', '0', '3', '32', '15.5'], ['663', '0', '1', '47', '25.5875'], ['668', '0', '3', '', '7.775'], ['673', '0', '2', '70', '10.5'], ['678', '1', '3', '18', '9.8417'], ['683', '0', '3', '20', '9.225'], ['688', '0', '3', '19', '10.1708'], ['693', '1', '3', '', '56.4958'], ['698', '1', '3', '', '7.7333'], ['703', '0', '3', '18', '14.4542'], ['708', '1', '1', '42', '26.2875'], ['713', '1', '1', '48', '52'], ['718', '1', '2', '27', '10.5'], ['723', '0', '2', '34', '13'], ['728', '1', '3', '', '7.7375'], ['733', '0', '2', '', '0'], ['738', '1', '1', '35', '512.3292'], ['743', '1', '1', '21', '262.375'], ['748', '1', '2', '30', '13'], ['753', '0', '3', '33', '9.5'], ['758', '0', '2', '18', '11.5'], ['763', '1', '3', '20', '7.2292'], ['768', '0', '3', '30.5', '7.75'], ['773', '0', '2', '57', '10.5'], ['778', '1', '3', '5', '12.475'], ['783', '0', '1', '29', '30'], ['788', '0', '3', '8', '29.125'], ['793', '0', '3', '', '69.55'], ['798', '1', '3', '31', '8.6833'], ['803', '1', '1', '11', '120'], ['808', '0', '3', '18', '7.775'], ['813', '0', '2', '35', '10.5'], ['818', '0', '2', '31', '37.0042'], ['823', '0', '1', '38', '0'], ['828', '1', '2', '1', '37.0042'], ['833', '0', '3', '', '7.2292'], ['838', '0', '3', '', '8.05'], ['843', '1', '1', '30', '31'], ['848', '0', '3', '35', '7.8958'], ['853', '0', '3', '9', '15.2458'], ['858', '1', '1', '51', '26.55'], ['863', '1', '1', '48', '25.9292'], ['868', '0', '1', '31', '50.4958'], ['873', '0', '1', '33', '5'], ['878', '0', '3', '19', '7.8958'], ['883', '0', '3', '22', '10.5167'], ['888', '1', '1', '19', '30']]\n",
            "[['4', '1', '1', '35', '53.1'], ['9', '1', '3', '27', '11.1333'], ['14', '0', '3', '39', '31.275'], ['19', '0', '3', '31', '18'], ['24', '1', '1', '28', '35.5'], ['29', '1', '3', '', '7.8792'], ['34', '0', '2', '66', '10.5'], ['39', '0', '3', '18', '18'], ['44', '1', '2', '3', '41.5792'], ['49', '0', '3', '', '21.6792'], ['54', '1', '2', '29', '26'], ['59', '1', '2', '5', '27.75'], ['64', '0', '3', '4', '27.9'], ['69', '1', '3', '17', '7.925'], ['74', '0', '3', '26', '14.4542'], ['79', '1', '2', '0.83', '29'], ['84', '0', '1', '28', '47.1'], ['89', '1', '1', '23', '263'], ['94', '0', '3', '26', '20.575'], ['99', '1', '2', '34', '23'], ['104', '0', '3', '33', '8.6542'], ['109', '0', '3', '38', '7.8958'], ['114', '0', '3', '20', '9.825'], ['119', '0', '1', '24', '247.5208'], ['124', '1', '2', '32.5', '13'], ['129', '1', '3', '', '22.3583'], ['134', '1', '2', '29', '26'], ['139', '0', '3', '16', '9.2167'], ['144', '0', '3', '19', '6.75'], ['149', '0', '2', '36.5', '26'], ['154', '0', '3', '40.5', '14.5'], ['159', '0', '3', '', '8.6625'], ['164', '0', '3', '17', '8.6625'], ['169', '0', '1', '', '25.925'], ['174', '0', '3', '21', '7.925'], ['179', '0', '2', '30', '13'], ['184', '1', '2', '1', '39'], ['189', '0', '3', '40', '15.5'], ['194', '1', '2', '3', '26'], ['199', '1', '3', '', '7.75'], ['204', '0', '3', '45.5', '7.225'], ['209', '1', '3', '16', '7.75'], ['214', '0', '2', '30', '13'], ['219', '1', '1', '32', '76.2917'], ['224', '0', '3', '', '7.8958'], ['229', '0', '2', '18', '13'], ['234', '1', '3', '5', '31.3875'], ['239', '0', '2', '19', '10.5'], ['244', '0', '3', '22', '7.125'], ['249', '1', '1', '37', '52.5542'], ['254', '0', '3', '30', '16.1'], ['259', '1', '1', '35', '512.3292'], ['264', '0', '1', '40', '0'], ['269', '1', '1', '58', '153.4625'], ['274', '0', '1', '37', '29.7'], ['279', '0', '3', '7', '29.125'], ['284', '1', '3', '19', '8.05'], ['289', '1', '2', '42', '13'], ['294', '0', '3', '24', '8.85'], ['299', '1', '1', '', '30.5'], ['304', '1', '2', '', '12.35'], ['309', '0', '2', '30', '24'], ['314', '0', '3', '28', '7.8958'], ['319', '1', '1', '31', '164.8667'], ['324', '1', '2', '22', '29'], ['329', '1', '3', '31', '20.525'], ['334', '0', '3', '16', '18'], ['339', '1', '3', '45', '8.05'], ['344', '0', '2', '25', '13'], ['349', '1', '3', '3', '15.9'], ['354', '0', '3', '25', '17.8'], ['359', '1', '3', '', '7.8792'], ['364', '0', '3', '35', '7.05'], ['369', '1', '3', '', '7.75'], ['374', '0', '1', '22', '135.6333'], ['379', '0', '3', '20', '4.0125'], ['384', '1', '1', '35', '52'], ['389', '0', '3', '', '7.7292'], ['394', '1', '1', '23', '113.275'], ['399', '0', '2', '23', '10.5'], ['404', '0', '3', '28', '15.85'], ['409', '0', '3', '21', '7.775'], ['414', '0', '2', '', '0'], ['419', '0', '2', '30', '13'], ['424', '0', '3', '28', '14.4'], ['429', '0', '3', '', '7.75'], ['434', '0', '3', '17', '7.125'], ['439', '0', '1', '64', '263'], ['444', '1', '2', '28', '13'], ['449', '1', '3', '5', '19.2583'], ['454', '1', '1', '49', '89.1042'], ['459', '1', '2', '50', '10.5'], ['464', '0', '2', '48', '13'], ['469', '0', '3', '', '7.725'], ['474', '1', '2', '23', '13.7917'], ['479', '0', '3', '22', '7.5208'], ['484', '1', '3', '63', '9.5875'], ['489', '0', '3', '30', '8.05'], ['494', '0', '1', '71', '49.5042'], ['499', '0', '1', '25', '151.55'], ['504', '0', '3', '37', '9.5875'], ['509', '0', '3', '28', '22.525'], ['514', '1', '1', '54', '59.4'], ['519', '1', '2', '36', '26'], ['524', '1', '1', '44', '57.9792'], ['529', '0', '3', '39', '7.925'], ['534', '1', '3', '', '22.3583'], ['539', '0', '3', '', '14.5'], ['544', '1', '2', '32', '26'], ['549', '0', '3', '33', '20.525'], ['554', '1', '3', '22', '7.225'], ['559', '1', '1', '39', '79.65'], ['564', '0', '3', '', '8.05'], ['569', '0', '3', '', '7.2292'], ['574', '1', '3', '', '7.75'], ['579', '0', '3', '', '14.4583'], ['584', '0', '1', '36', '40.125'], ['589', '0', '3', '22', '8.05'], ['594', '0', '3', '', '7.75'], ['599', '0', '3', '', '7.225'], ['604', '0', '3', '44', '8.05'], ['609', '1', '2', '22', '41.5792'], ['614', '0', '3', '', '7.75'], ['619', '1', '2', '4', '39'], ['624', '0', '3', '21', '7.8542'], ['629', '0', '3', '26', '7.8958'], ['634', '0', '1', '', '0'], ['639', '0', '3', '41', '39.6875'], ['644', '1', '3', '', '56.4958'], ['649', '0', '3', '', '7.55'], ['654', '1', '3', '', '7.8292'], ['659', '0', '2', '23', '13'], ['664', '0', '3', '36', '7.4958'], ['669', '0', '3', '43', '8.05'], ['674', '1', '2', '31', '13'], ['679', '0', '3', '43', '46.9'], ['684', '0', '3', '14', '46.9'], ['689', '0', '3', '18', '7.7958'], ['694', '0', '3', '25', '7.225'], ['699', '0', '1', '49', '110.8833'], ['704', '0', '3', '25', '7.7417'], ['709', '1', '1', '22', '151.55'], ['714', '0', '3', '29', '9.4833'], ['719', '0', '3', '', '15.5'], ['724', '0', '2', '50', '13'], ['729', '0', '2', '25', '26'], ['734', '0', '2', '23', '13'], ['739', '0', '3', '', '7.8958'], ['744', '0', '3', '24', '16.1'], ['749', '0', '1', '19', '53.1'], ['754', '0', '3', '23', '7.8958'], ['759', '0', '3', '34', '8.05'], ['764', '1', '1', '36', '120'], ['769', '0', '3', '', '24.15'], ['774', '0', '3', '', '7.225'], ['779', '0', '3', '', '7.7375'], ['784', '0', '3', '', '23.45'], ['789', '1', '3', '1', '20.575'], ['794', '0', '1', '', '30.6958'], ['799', '0', '3', '30', '7.2292'], ['804', '1', '3', '0.42', '8.5167'], ['809', '0', '2', '39', '13'], ['814', '0', '3', '6', '31.275'], ['819', '0', '3', '43', '6.45'], ['824', '1', '3', '27', '12.475'], ['829', '1', '3', '', '7.75'], ['834', '0', '3', '23', '7.8542'], ['839', '1', '3', '32', '56.4958'], ['844', '0', '3', '34.5', '6.4375'], ['849', '0', '2', '28', '33'], ['854', '1', '1', '16', '39.4'], ['859', '1', '3', '24', '19.2583'], ['864', '0', '3', '', '69.55'], ['869', '0', '3', '', '9.5'], ['874', '0', '3', '47', '9'], ['879', '0', '3', '', '7.8958'], ['884', '0', '2', '28', '10.5'], ['889', '0', '3', '', '23.45']]\n",
            "[]\n",
            "[]\n",
            "[]\n",
            "[]\n",
            "[]\n"
          ]
        },
        {
          "output_type": "display_data",
          "data": {
            "text/plain": [
              "<Figure size 640x480 with 1 Axes>"
            ],
            "image/png": "[encoded data removed]"
          },
          "metadata": {}
        },
        {
          "output_type": "display_data",
          "data": {
            "text/plain": [
              "<Figure size 640x480 with 1 Axes>"
            ],
            "image/png": "[encoded data removed]"
          },
          "metadata": {}
        },
        {
          "output_type": "display_data",
          "data": {
            "text/plain": [
              "<Figure size 640x480 with 1 Axes>"
            ],
            "image/png": "[encoded data removed]"
          },
          "metadata": {}
        },
        {
          "output_type": "display_data",
          "data": {
            "text/plain": [
              "<Figure size 640x480 with 1 Axes>"
            ],
            "image/png": "[encoded data removed]"
          },
          "metadata": {}
        },
        {
          "output_type": "display_data",
          "data": {
            "text/plain": [
              "<Figure size 640x480 with 1 Axes>"
            ],
            "image/png": "[encoded data removed]"
          },
          "metadata": {}
        },
        {
          "output_type": "display_data",
          "data": {
            "text/plain": [
              "<Figure size 640x480 with 1 Axes>"
            ],
            "image/png": "[encoded data removed]"
          },
          "metadata": {}
        },
        {
          "output_type": "display_data",
          "data": {
            "text/plain": [
              "<Figure size 640x480 with 1 Axes>"
            ],
            "image/png": "[encoded data removed]"
          },
          "metadata": {}
        },
        {
          "output_type": "display_data",
          "data": {
            "text/plain": [
              "<Figure size 640x480 with 1 Axes>"
            ],
            "image/png": "[encoded data removed]"
          },
          "metadata": {}
        },
        {
          "output_type": "display_data",
          "data": {
            "text/plain": [
              "<Figure size 640x480 with 1 Axes>"
            ],
            "image/png": "[encoded data removed]"
          },
          "metadata": {}
        },
        {
          "output_type": "display_data",
          "data": {
            "text/plain": [
              "<Figure size 640x480 with 1 Axes>"
            ],
            "image/png": "[encoded data removed]"
          },
          "metadata": {}
        },
        {
          "output_type": "stream",
          "name": "stdout",
          "text": [
            "['PassengerId', 'Survived', 'Pclass', 'Age', 'Fare']\n",
            "['1', '0', '3', '22', '7.25']\n",
            "['2', '1', '1', '38', '71.2833']\n",
            "['3', '1', '3', '26', '7.925']\n",
            "['4', '1', '1', '35', '53.1']\n",
            "['5', '0', '3', '35', '8.05']\n",
            "['6', '0', '3', '', '8.4583']\n",
            "['7', '0', '1', '54', '51.8625']\n",
            "['8', '0', '3', '2', '21.075']\n",
            "['9', '1', '3', '27', '11.1333']\n",
            "['10', '1', '2', '14', '30.0708']\n",
            "['11', '1', '3', '4', '16.7']\n",
            "['12', '1', '1', '58', '26.55']\n",
            "['13', '0', '3', '20', '8.05']\n",
            "['14', '0', '3', '39', '31.275']\n",
            "['15', '0', '3', '14', '7.8542']\n",
            "['16', '1', '2', '55', '16']\n",
            "['17', '0', '3', '2', '29.125']\n",
            "['18', '1', '2', '', '13']\n",
            "['19', '0', '3', '31', '18']\n",
            "['20', '1', '3', '', '7.225']\n",
            "['21', '0', '2', '35', '26']\n",
            "['22', '1', '2', '34', '13']\n",
            "['23', '1', '3', '15', '8.0292']\n",
            "['24', '1', '1', '28', '35.5']\n",
            "['25', '0', '3', '8', '21.075']\n",
            "['26', '1', '3', '38', '31.3875']\n",
            "['27', '0', '3', '', '7.225']\n",
            "['28', '0', '1', '19', '263']\n",
            "['29', '1', '3', '', '7.8792']\n",
            "['30', '0', '3', '', '7.8958']\n",
            "['31', '0', '1', '40', '27.7208']\n",
            "['32', '1', '1', '', '146.5208']\n",
            "['33', '1', '3', '', '7.75']\n",
            "['34', '0', '2', '66', '10.5']\n",
            "['35', '0', '1', '28', '82.1708']\n",
            "['36', '0', '1', '42', '52']\n",
            "['37', '1', '3', '', '7.2292']\n",
            "['38', '0', '3', '21', '8.05']\n",
            "['39', '0', '3', '18', '18']\n",
            "['40', '1', '3', '14', '11.2417']\n",
            "['41', '0', '3', '40', '9.475']\n",
            "['42', '0', '2', '27', '21']\n",
            "['43', '0', '3', '', '7.8958']\n",
            "['44', '1', '2', '3', '41.5792']\n",
            "['45', '1', '3', '19', '7.8792']\n",
            "['46', '0', '3', '', '8.05']\n",
            "['47', '0', '3', '', '15.5']\n",
            "['48', '1', '3', '', '7.75']\n",
            "['49', '0', '3', '', '21.6792']\n",
            "['50', '0', '3', '18', '17.8']\n",
            "['51', '0', '3', '7', '39.6875']\n",
            "['52', '0', '3', '21', '7.8']\n",
            "['53', '1', '1', '49', '76.7292']\n",
            "['54', '1', '2', '29', '26']\n",
            "['55', '0', '1', '65', '61.9792']\n",
            "['56', '1', '1', '', '35.5']\n",
            "['57', '1', '2', '21', '10.5']\n",
            "['58', '0', '3', '28.5', '7.2292']\n",
            "['59', '1', '2', '5', '27.75']\n",
            "['60', '0', '3', '11', '46.9']\n",
            "['61', '0', '3', '22', '7.2292']\n",
            "['62', '1', '1', '38', '80']\n",
            "['63', '0', '1', '45', '83.475']\n",
            "['64', '0', '3', '4', '27.9']\n",
            "['65', '0', '1', '', '27.7208']\n",
            "['66', '1', '3', '', '15.2458']\n",
            "['67', '1', '2', '29', '10.5']\n",
            "['68', '0', '3', '19', '8.1583']\n",
            "['69', '1', '3', '17', '7.925']\n",
            "['70', '0', '3', '26', '8.6625']\n",
            "['71', '0', '2', '32', '10.5']\n",
            "['72', '0', '3', '16', '46.9']\n",
            "['73', '0', '2', '21', '73.5']\n",
            "['74', '0', '3', '26', '14.4542']\n",
            "['75', '1', '3', '32', '56.4958']\n",
            "['76', '0', '3', '25', '7.65']\n",
            "['77', '0', '3', '', '7.8958']\n",
            "['78', '0', '3', '', '8.05']\n",
            "['79', '1', '2', '0.83', '29']\n",
            "['80', '1', '3', '30', '12.475']\n",
            "['81', '0', '3', '22', '9']\n",
            "['82', '1', '3', '29', '9.5']\n",
            "['83', '1', '3', '', '7.7875']\n",
            "['84', '0', '1', '28', '47.1']\n",
            "['85', '1', '2', '17', '10.5']\n",
            "['86', '1', '3', '33', '15.85']\n",
            "['87', '0', '3', '16', '34.375']\n",
            "['88', '0', '3', '', '8.05']\n",
            "['89', '1', '1', '23', '263']\n",
            "['90', '0', '3', '24', '8.05']\n",
            "['91', '0', '3', '29', '8.05']\n",
            "['92', '0', '3', '20', '7.8542']\n",
            "['93', '0', '1', '46', '61.175']\n",
            "['94', '0', '3', '26', '20.575']\n",
            "['95', '0', '3', '59', '7.25']\n",
            "['96', '0', '3', '', '8.05']\n",
            "['97', '0', '1', '71', '34.6542']\n",
            "['98', '1', '1', '23', '63.3583']\n",
            "['99', '1', '2', '34', '23']\n",
            "['100', '0', '2', '34', '26']\n",
            "['101', '0', '3', '28', '7.8958']\n",
            "['102', '0', '3', '', '7.8958']\n",
            "['103', '0', '1', '21', '77.2875']\n",
            "['104', '0', '3', '33', '8.6542']\n",
            "['105', '0', '3', '37', '7.925']\n",
            "['106', '0', '3', '28', '7.8958']\n",
            "['107', '1', '3', '21', '7.65']\n",
            "['108', '1', '3', '', '7.775']\n",
            "['109', '0', '3', '38', '7.8958']\n",
            "['110', '1', '3', '', '24.15']\n",
            "['111', '0', '1', '47', '52']\n",
            "['112', '0', '3', '14.5', '14.4542']\n",
            "['113', '0', '3', '22', '8.05']\n",
            "['114', '0', '3', '20', '9.825']\n",
            "['115', '0', '3', '17', '14.4583']\n",
            "['116', '0', '3', '21', '7.925']\n",
            "['117', '0', '3', '70.5', '7.75']\n",
            "['118', '0', '2', '29', '21']\n",
            "['119', '0', '1', '24', '247.5208']\n",
            "['120', '0', '3', '2', '31.275']\n",
            "['121', '0', '2', '21', '73.5']\n",
            "['122', '0', '3', '', '8.05']\n",
            "['123', '0', '2', '32.5', '30.0708']\n",
            "['124', '1', '2', '32.5', '13']\n",
            "['125', '0', '1', '54', '77.2875']\n",
            "['126', '1', '3', '12', '11.2417']\n",
            "['127', '0', '3', '', '7.75']\n",
            "['128', '1', '3', '24', '7.1417']\n",
            "['129', '1', '3', '', '22.3583']\n",
            "['130', '0', '3', '45', '6.975']\n",
            "['131', '0', '3', '33', '7.8958']\n",
            "['132', '0', '3', '20', '7.05']\n",
            "['133', '0', '3', '47', '14.5']\n",
            "['134', '1', '2', '29', '26']\n",
            "['135', '0', '2', '25', '13']\n",
            "['136', '0', '2', '23', '15.0458']\n",
            "['137', '1', '1', '19', '26.2833']\n",
            "['138', '0', '1', '37', '53.1']\n",
            "['139', '0', '3', '16', '9.2167']\n",
            "['140', '0', '1', '24', '79.2']\n",
            "['141', '0', '3', '', '15.2458']\n",
            "['142', '1', '3', '22', '7.75']\n",
            "['143', '1', '3', '24', '15.85']\n",
            "['144', '0', '3', '19', '6.75']\n",
            "['145', '0', '2', '18', '11.5']\n",
            "['146', '0', '2', '19', '36.75']\n",
            "['147', '1', '3', '27', '7.7958']\n",
            "['148', '0', '3', '9', '34.375']\n",
            "['149', '0', '2', '36.5', '26']\n",
            "['150', '0', '2', '42', '13']\n",
            "['151', '0', '2', '51', '12.525']\n",
            "['152', '1', '1', '22', '66.6']\n",
            "['153', '0', '3', '55.5', '8.05']\n",
            "['154', '0', '3', '40.5', '14.5']\n",
            "['155', '0', '3', '', '7.3125']\n",
            "['156', '0', '1', '51', '61.3792']\n",
            "['157', '1', '3', '16', '7.7333']\n",
            "['158', '0', '3', '30', '8.05']\n",
            "['159', '0', '3', '', '8.6625']\n",
            "['160', '0', '3', '', '69.55']\n",
            "['161', '0', '3', '44', '16.1']\n",
            "['162', '1', '2', '40', '15.75']\n",
            "['163', '0', '3', '26', '7.775']\n",
            "['164', '0', '3', '17', '8.6625']\n",
            "['165', '0', '3', '1', '39.6875']\n",
            "['166', '1', '3', '9', '20.525']\n",
            "['167', '1', '1', '', '55']\n",
            "['168', '0', '3', '45', '27.9']\n",
            "['169', '0', '1', '', '25.925']\n",
            "['170', '0', '3', '28', '56.4958']\n",
            "['171', '0', '1', '61', '33.5']\n",
            "['172', '0', '3', '4', '29.125']\n",
            "['173', '1', '3', '1', '11.1333']\n",
            "['174', '0', '3', '21', '7.925']\n",
            "['175', '0', '1', '56', '30.6958']\n",
            "['176', '0', '3', '18', '7.8542']\n",
            "['177', '0', '3', '', '25.4667']\n",
            "['178', '0', '1', '50', '28.7125']\n",
            "['179', '0', '2', '30', '13']\n",
            "['180', '0', '3', '36', '0']\n",
            "['181', '0', '3', '', '69.55']\n",
            "['182', '0', '2', '', '15.05']\n",
            "['183', '0', '3', '9', '31.3875']\n",
            "['184', '1', '2', '1', '39']\n",
            "['185', '1', '3', '4', '22.025']\n",
            "['186', '0', '1', '', '50']\n",
            "['187', '1', '3', '', '15.5']\n",
            "['188', '1', '1', '45', '26.55']\n",
            "['189', '0', '3', '40', '15.5']\n",
            "['190', '0', '3', '36', '7.8958']\n",
            "['191', '1', '2', '32', '13']\n",
            "['192', '0', '2', '19', '13']\n",
            "['193', '1', '3', '19', '7.8542']\n",
            "['194', '1', '2', '3', '26']\n",
            "['195', '1', '1', '44', '27.7208']\n",
            "['196', '1', '1', '58', '146.5208']\n",
            "['197', '0', '3', '', '7.75']\n",
            "['198', '0', '3', '42', '8.4042']\n",
            "['199', '1', '3', '', '7.75']\n",
            "['200', '0', '2', '24', '13']\n",
            "['201', '0', '3', '28', '9.5']\n",
            "['202', '0', '3', '', '69.55']\n",
            "['203', '0', '3', '34', '6.4958']\n",
            "['204', '0', '3', '45.5', '7.225']\n",
            "['205', '1', '3', '18', '8.05']\n",
            "['206', '0', '3', '2', '10.4625']\n",
            "['207', '0', '3', '32', '15.85']\n",
            "['208', '1', '3', '26', '18.7875']\n",
            "['209', '1', '3', '16', '7.75']\n",
            "['210', '1', '1', '40', '31']\n",
            "['211', '0', '3', '24', '7.05']\n",
            "['212', '1', '2', '35', '21']\n",
            "['213', '0', '3', '22', '7.25']\n",
            "['214', '0', '2', '30', '13']\n",
            "['215', '0', '3', '', '7.75']\n",
            "['216', '1', '1', '31', '113.275']\n",
            "['217', '1', '3', '27', '7.925']\n",
            "['218', '0', '2', '42', '27']\n",
            "['219', '1', '1', '32', '76.2917']\n",
            "['220', '0', '2', '30', '10.5']\n",
            "['221', '1', '3', '16', '8.05']\n",
            "['222', '0', '2', '27', '13']\n",
            "['223', '0', '3', '51', '8.05']\n",
            "['224', '0', '3', '', '7.8958']\n",
            "['225', '1', '1', '38', '90']\n",
            "['226', '0', '3', '22', '9.35']\n",
            "['227', '1', '2', '19', '10.5']\n",
            "['228', '0', '3', '20.5', '7.25']\n",
            "['229', '0', '2', '18', '13']\n",
            "['230', '0', '3', '', '25.4667']\n",
            "['231', '1', '1', '35', '83.475']\n",
            "['232', '0', '3', '29', '7.775']\n",
            "['233', '0', '2', '59', '13.5']\n",
            "['234', '1', '3', '5', '31.3875']\n",
            "['235', '0', '2', '24', '10.5']\n",
            "['236', '0', '3', '', '7.55']\n",
            "['237', '0', '2', '44', '26']\n",
            "['238', '1', '2', '8', '26.25']\n",
            "['239', '0', '2', '19', '10.5']\n",
            "['240', '0', '2', '33', '12.275']\n",
            "['241', '0', '3', '', '14.4542']\n",
            "['242', '1', '3', '', '15.5']\n",
            "['243', '0', '2', '29', '10.5']\n",
            "['244', '0', '3', '22', '7.125']\n",
            "['245', '0', '3', '30', '7.225']\n",
            "['246', '0', '1', '44', '90']\n",
            "['247', '0', '3', '25', '7.775']\n",
            "['248', '1', '2', '24', '14.5']\n",
            "['249', '1', '1', '37', '52.5542']\n",
            "['250', '0', '2', '54', '26']\n",
            "['251', '0', '3', '', '7.25']\n",
            "['252', '0', '3', '29', '10.4625']\n",
            "['253', '0', '1', '62', '26.55']\n",
            "['254', '0', '3', '30', '16.1']\n",
            "['255', '0', '3', '41', '20.2125']\n",
            "['256', '1', '3', '29', '15.2458']\n",
            "['257', '1', '1', '', '79.2']\n",
            "['258', '1', '1', '30', '86.5']\n",
            "['259', '1', '1', '35', '512.3292']\n",
            "['260', '1', '2', '50', '26']\n",
            "['261', '0', '3', '', '7.75']\n",
            "['262', '1', '3', '3', '31.3875']\n",
            "['263', '0', '1', '52', '79.65']\n",
            "['264', '0', '1', '40', '0']\n",
            "['265', '0', '3', '', '7.75']\n",
            "['266', '0', '2', '36', '10.5']\n",
            "['267', '0', '3', '16', '39.6875']\n",
            "['268', '1', '3', '25', '7.775']\n",
            "['269', '1', '1', '58', '153.4625']\n",
            "['270', '1', '1', '35', '135.6333']\n",
            "['271', '0', '1', '', '31']\n",
            "['272', '1', '3', '25', '0']\n",
            "['273', '1', '2', '41', '19.5']\n",
            "['274', '0', '1', '37', '29.7']\n",
            "['275', '1', '3', '', '7.75']\n",
            "['276', '1', '1', '63', '77.9583']\n",
            "['277', '0', '3', '45', '7.75']\n",
            "['278', '0', '2', '', '0']\n",
            "['279', '0', '3', '7', '29.125']\n",
            "['280', '1', '3', '35', '20.25']\n",
            "['281', '0', '3', '65', '7.75']\n",
            "['282', '0', '3', '28', '7.8542']\n",
            "['283', '0', '3', '16', '9.5']\n",
            "['284', '1', '3', '19', '8.05']\n",
            "['285', '0', '1', '', '26']\n",
            "['286', '0', '3', '33', '8.6625']\n",
            "['287', '1', '3', '30', '9.5']\n",
            "['288', '0', '3', '22', '7.8958']\n",
            "['289', '1', '2', '42', '13']\n",
            "['290', '1', '3', '22', '7.75']\n",
            "['291', '1', '1', '26', '78.85']\n",
            "['292', '1', '1', '19', '91.0792']\n",
            "['293', '0', '2', '36', '12.875']\n",
            "['294', '0', '3', '24', '8.85']\n",
            "['295', '0', '3', '24', '7.8958']\n",
            "['296', '0', '1', '', '27.7208']\n",
            "['297', '0', '3', '23.5', '7.2292']\n",
            "['298', '0', '1', '2', '151.55']\n",
            "['299', '1', '1', '', '30.5']\n",
            "['300', '1', '1', '50', '247.5208']\n",
            "['301', '1', '3', '', '7.75']\n",
            "['302', '1', '3', '', '23.25']\n",
            "['303', '0', '3', '19', '0']\n",
            "['304', '1', '2', '', '12.35']\n",
            "['305', '0', '3', '', '8.05']\n",
            "['306', '1', '1', '0.92', '151.55']\n",
            "['307', '1', '1', '', '110.8833']\n",
            "['308', '1', '1', '17', '108.9']\n",
            "['309', '0', '2', '30', '24']\n",
            "['310', '1', '1', '30', '56.9292']\n",
            "['311', '1', '1', '24', '83.1583']\n",
            "['312', '1', '1', '18', '262.375']\n",
            "['313', '0', '2', '26', '26']\n",
            "['314', '0', '3', '28', '7.8958']\n",
            "['315', '0', '2', '43', '26.25']\n",
            "['316', '1', '3', '26', '7.8542']\n",
            "['317', '1', '2', '24', '26']\n",
            "['318', '0', '2', '54', '14']\n",
            "['319', '1', '1', '31', '164.8667']\n",
            "['320', '1', '1', '40', '134.5']\n",
            "['321', '0', '3', '22', '7.25']\n",
            "['322', '0', '3', '27', '7.8958']\n",
            "['323', '1', '2', '30', '12.35']\n",
            "['324', '1', '2', '22', '29']\n",
            "['325', '0', '3', '', '69.55']\n",
            "['326', '1', '1', '36', '135.6333']\n",
            "['327', '0', '3', '61', '6.2375']\n",
            "['328', '1', '2', '36', '13']\n",
            "['329', '1', '3', '31', '20.525']\n",
            "['330', '1', '1', '16', '57.9792']\n",
            "['331', '1', '3', '', '23.25']\n",
            "['332', '0', '1', '45.5', '28.5']\n",
            "['333', '0', '1', '38', '153.4625']\n",
            "['334', '0', '3', '16', '18']\n",
            "['335', '1', '1', '', '133.65']\n",
            "['336', '0', '3', '', '7.8958']\n",
            "['337', '0', '1', '29', '66.6']\n",
            "['338', '1', '1', '41', '134.5']\n",
            "['339', '1', '3', '45', '8.05']\n",
            "['340', '0', '1', '45', '35.5']\n",
            "['341', '1', '2', '2', '26']\n",
            "['342', '1', '1', '24', '263']\n",
            "['343', '0', '2', '28', '13']\n",
            "['344', '0', '2', '25', '13']\n",
            "['345', '0', '2', '36', '13']\n",
            "['346', '1', '2', '24', '13']\n",
            "['347', '1', '2', '40', '13']\n",
            "['348', '1', '3', '', '16.1']\n",
            "['349', '1', '3', '3', '15.9']\n",
            "['350', '0', '3', '42', '8.6625']\n",
            "['351', '0', '3', '23', '9.225']\n",
            "['352', '0', '1', '', '35']\n",
            "['353', '0', '3', '15', '7.2292']\n",
            "['354', '0', '3', '25', '17.8']\n",
            "['355', '0', '3', '', '7.225']\n",
            "['356', '0', '3', '28', '9.5']\n",
            "['357', '1', '1', '22', '55']\n",
            "['358', '0', '2', '38', '13']\n",
            "['359', '1', '3', '', '7.8792']\n",
            "['360', '1', '3', '', '7.8792']\n",
            "['361', '0', '3', '40', '27.9']\n",
            "['362', '0', '2', '29', '27.7208']\n",
            "['363', '0', '3', '45', '14.4542']\n",
            "['364', '0', '3', '35', '7.05']\n",
            "['365', '0', '3', '', '15.5']\n",
            "['366', '0', '3', '30', '7.25']\n",
            "['367', '1', '1', '60', '75.25']\n",
            "['368', '1', '3', '', '7.2292']\n",
            "['369', '1', '3', '', '7.75']\n",
            "['370', '1', '1', '24', '69.3']\n",
            "['371', '1', '1', '25', '55.4417']\n",
            "['372', '0', '3', '18', '6.4958']\n",
            "['373', '0', '3', '19', '8.05']\n",
            "['374', '0', '1', '22', '135.6333']\n",
            "['375', '0', '3', '3', '21.075']\n",
            "['376', '1', '1', '', '82.1708']\n",
            "['377', '1', '3', '22', '7.25']\n",
            "['378', '0', '1', '27', '211.5']\n",
            "['379', '0', '3', '20', '4.0125']\n",
            "['380', '0', '3', '19', '7.775']\n",
            "['381', '1', '1', '42', '227.525']\n",
            "['382', '1', '3', '1', '15.7417']\n",
            "['383', '0', '3', '32', '7.925']\n",
            "['384', '1', '1', '35', '52']\n",
            "['385', '0', '3', '', '7.8958']\n",
            "['386', '0', '2', '18', '73.5']\n",
            "['387', '0', '3', '1', '46.9']\n",
            "['388', '1', '2', '36', '13']\n",
            "['389', '0', '3', '', '7.7292']\n",
            "['390', '1', '2', '17', '12']\n",
            "['391', '1', '1', '36', '120']\n",
            "['392', '1', '3', '21', '7.7958']\n",
            "['393', '0', '3', '28', '7.925']\n",
            "['394', '1', '1', '23', '113.275']\n",
            "['395', '1', '3', '24', '16.7']\n",
            "['396', '0', '3', '22', '7.7958']\n",
            "['397', '0', '3', '31', '7.8542']\n",
            "['398', '0', '2', '46', '26']\n",
            "['399', '0', '2', '23', '10.5']\n",
            "['400', '1', '2', '28', '12.65']\n",
            "['401', '1', '3', '39', '7.925']\n",
            "['402', '0', '3', '26', '8.05']\n",
            "['403', '0', '3', '21', '9.825']\n",
            "['404', '0', '3', '28', '15.85']\n",
            "['405', '0', '3', '20', '8.6625']\n",
            "['406', '0', '2', '34', '21']\n",
            "['407', '0', '3', '51', '7.75']\n",
            "['408', '1', '2', '3', '18.75']\n",
            "['409', '0', '3', '21', '7.775']\n",
            "['410', '0', '3', '', '25.4667']\n",
            "['411', '0', '3', '', '7.8958']\n",
            "['412', '0', '3', '', '6.8583']\n",
            "['413', '1', '1', '33', '90']\n",
            "['414', '0', '2', '', '0']\n",
            "['415', '1', '3', '44', '7.925']\n",
            "['416', '0', '3', '', '8.05']\n",
            "['417', '1', '2', '34', '32.5']\n",
            "['418', '1', '2', '18', '13']\n",
            "['419', '0', '2', '30', '13']\n",
            "['420', '0', '3', '10', '24.15']\n",
            "['421', '0', '3', '', '7.8958']\n",
            "['422', '0', '3', '21', '7.7333']\n",
            "['423', '0', '3', '29', '7.875']\n",
            "['424', '0', '3', '28', '14.4']\n",
            "['425', '0', '3', '18', '20.2125']\n",
            "['426', '0', '3', '', '7.25']\n",
            "['427', '1', '2', '28', '26']\n",
            "['428', '1', '2', '19', '26']\n",
            "['429', '0', '3', '', '7.75']\n",
            "['430', '1', '3', '32', '8.05']\n",
            "['431', '1', '1', '28', '26.55']\n",
            "['432', '1', '3', '', '16.1']\n",
            "['433', '1', '2', '42', '26']\n",
            "['434', '0', '3', '17', '7.125']\n",
            "['435', '0', '1', '50', '55.9']\n",
            "['436', '1', '1', '14', '120']\n",
            "['437', '0', '3', '21', '34.375']\n",
            "['438', '1', '2', '24', '18.75']\n",
            "['439', '0', '1', '64', '263']\n",
            "['440', '0', '2', '31', '10.5']\n",
            "['441', '1', '2', '45', '26.25']\n",
            "['442', '0', '3', '20', '9.5']\n",
            "['443', '0', '3', '25', '7.775']\n",
            "['444', '1', '2', '28', '13']\n",
            "['445', '1', '3', '', '8.1125']\n",
            "['446', '1', '1', '4', '81.8583']\n",
            "['447', '1', '2', '13', '19.5']\n",
            "['448', '1', '1', '34', '26.55']\n",
            "['449', '1', '3', '5', '19.2583']\n",
            "['450', '1', '1', '52', '30.5']\n",
            "['451', '0', '2', '36', '27.75']\n",
            "['452', '0', '3', '', '19.9667']\n",
            "['453', '0', '1', '30', '27.75']\n",
            "['454', '1', '1', '49', '89.1042']\n",
            "['455', '0', '3', '', '8.05']\n",
            "['456', '1', '3', '29', '7.8958']\n",
            "['457', '0', '1', '65', '26.55']\n",
            "['458', '1', '1', '', '51.8625']\n",
            "['459', '1', '2', '50', '10.5']\n",
            "['460', '0', '3', '', '7.75']\n",
            "['461', '1', '1', '48', '26.55']\n",
            "['462', '0', '3', '34', '8.05']\n",
            "['463', '0', '1', '47', '38.5']\n",
            "['464', '0', '2', '48', '13']\n",
            "['465', '0', '3', '', '8.05']\n",
            "['466', '0', '3', '38', '7.05']\n",
            "['467', '0', '2', '', '0']\n",
            "['468', '0', '1', '56', '26.55']\n",
            "['469', '0', '3', '', '7.725']\n",
            "['470', '1', '3', '0.75', '19.2583']\n",
            "['471', '0', '3', '', '7.25']\n",
            "['472', '0', '3', '38', '8.6625']\n",
            "['473', '1', '2', '33', '27.75']\n",
            "['474', '1', '2', '23', '13.7917']\n",
            "['475', '0', '3', '22', '9.8375']\n",
            "['476', '0', '1', '', '52']\n",
            "['477', '0', '2', '34', '21']\n",
            "['478', '0', '3', '29', '7.0458']\n",
            "['479', '0', '3', '22', '7.5208']\n",
            "['480', '1', '3', '2', '12.2875']\n",
            "['481', '0', '3', '9', '46.9']\n",
            "['482', '0', '2', '', '0']\n",
            "['483', '0', '3', '50', '8.05']\n",
            "['484', '1', '3', '63', '9.5875']\n",
            "['485', '1', '1', '25', '91.0792']\n",
            "['486', '0', '3', '', '25.4667']\n",
            "['487', '1', '1', '35', '90']\n",
            "['488', '0', '1', '58', '29.7']\n",
            "['489', '0', '3', '30', '8.05']\n",
            "['490', '1', '3', '9', '15.9']\n",
            "['491', '0', '3', '', '19.9667']\n",
            "['492', '0', '3', '21', '7.25']\n",
            "['493', '0', '1', '55', '30.5']\n",
            "['494', '0', '1', '71', '49.5042']\n",
            "['495', '0', '3', '21', '8.05']\n",
            "['496', '0', '3', '', '14.4583']\n",
            "['497', '1', '1', '54', '78.2667']\n",
            "['498', '0', '3', '', '15.1']\n",
            "['499', '0', '1', '25', '151.55']\n",
            "['500', '0', '3', '24', '7.7958']\n",
            "['501', '0', '3', '17', '8.6625']\n",
            "['502', '0', '3', '21', '7.75']\n",
            "['503', '0', '3', '', '7.6292']\n",
            "['504', '0', '3', '37', '9.5875']\n",
            "['505', '1', '1', '16', '86.5']\n",
            "['506', '0', '1', '18', '108.9']\n",
            "['507', '1', '2', '33', '26']\n",
            "['508', '1', '1', '', '26.55']\n",
            "['509', '0', '3', '28', '22.525']\n",
            "['510', '1', '3', '26', '56.4958']\n",
            "['511', '1', '3', '29', '7.75']\n",
            "['512', '0', '3', '', '8.05']\n",
            "['513', '1', '1', '36', '26.2875']\n",
            "['514', '1', '1', '54', '59.4']\n",
            "['515', '0', '3', '24', '7.4958']\n",
            "['516', '0', '1', '47', '34.0208']\n",
            "['517', '1', '2', '34', '10.5']\n",
            "['518', '0', '3', '', '24.15']\n",
            "['519', '1', '2', '36', '26']\n",
            "['520', '0', '3', '32', '7.8958']\n",
            "['521', '1', '1', '30', '93.5']\n",
            "['522', '0', '3', '22', '7.8958']\n",
            "['523', '0', '3', '', '7.225']\n",
            "['524', '1', '1', '44', '57.9792']\n",
            "['525', '0', '3', '', '7.2292']\n",
            "['526', '0', '3', '40.5', '7.75']\n",
            "['527', '1', '2', '50', '10.5']\n",
            "['528', '0', '1', '', '221.7792']\n",
            "['529', '0', '3', '39', '7.925']\n",
            "['530', '0', '2', '23', '11.5']\n",
            "['531', '1', '2', '2', '26']\n",
            "['532', '0', '3', '', '7.2292']\n",
            "['533', '0', '3', '17', '7.2292']\n",
            "['534', '1', '3', '', '22.3583']\n",
            "['535', '0', '3', '30', '8.6625']\n",
            "['536', '1', '2', '7', '26.25']\n",
            "['537', '0', '1', '45', '26.55']\n",
            "['538', '1', '1', '30', '106.425']\n",
            "['539', '0', '3', '', '14.5']\n",
            "['540', '1', '1', '22', '49.5']\n",
            "['541', '1', '1', '36', '71']\n",
            "['542', '0', '3', '9', '31.275']\n",
            "['543', '0', '3', '11', '31.275']\n",
            "['544', '1', '2', '32', '26']\n",
            "['545', '0', '1', '50', '106.425']\n",
            "['546', '0', '1', '64', '26']\n",
            "['547', '1', '2', '19', '26']\n",
            "['548', '1', '2', '', '13.8625']\n",
            "['549', '0', '3', '33', '20.525']\n",
            "['550', '1', '2', '8', '36.75']\n",
            "['551', '1', '1', '17', '110.8833']\n",
            "['552', '0', '2', '27', '26']\n",
            "['553', '0', '3', '', '7.8292']\n",
            "['554', '1', '3', '22', '7.225']\n",
            "['555', '1', '3', '22', '7.775']\n",
            "['556', '0', '1', '62', '26.55']\n",
            "['557', '1', '1', '48', '39.6']\n",
            "['558', '0', '1', '', '227.525']\n",
            "['559', '1', '1', '39', '79.65']\n",
            "['560', '1', '3', '36', '17.4']\n",
            "['561', '0', '3', '', '7.75']\n",
            "['562', '0', '3', '40', '7.8958']\n",
            "['563', '0', '2', '28', '13.5']\n",
            "['564', '0', '3', '', '8.05']\n",
            "['565', '0', '3', '', '8.05']\n",
            "['566', '0', '3', '24', '24.15']\n",
            "['567', '0', '3', '19', '7.8958']\n",
            "['568', '0', '3', '29', '21.075']\n",
            "['569', '0', '3', '', '7.2292']\n",
            "['570', '1', '3', '32', '7.8542']\n",
            "['571', '1', '2', '62', '10.5']\n",
            "['572', '1', '1', '53', '51.4792']\n",
            "['573', '1', '1', '36', '26.3875']\n",
            "['574', '1', '3', '', '7.75']\n",
            "['575', '0', '3', '16', '8.05']\n",
            "['576', '0', '3', '19', '14.5']\n",
            "['577', '1', '2', '34', '13']\n",
            "['578', '1', '1', '39', '55.9']\n",
            "['579', '0', '3', '', '14.4583']\n",
            "['580', '1', '3', '32', '7.925']\n",
            "['581', '1', '2', '25', '30']\n",
            "['582', '1', '1', '39', '110.8833']\n",
            "['583', '0', '2', '54', '26']\n",
            "['584', '0', '1', '36', '40.125']\n",
            "['585', '0', '3', '', '8.7125']\n",
            "['586', '1', '1', '18', '79.65']\n",
            "['587', '0', '2', '47', '15']\n",
            "['588', '1', '1', '60', '79.2']\n",
            "['589', '0', '3', '22', '8.05']\n",
            "['590', '0', '3', '', '8.05']\n",
            "['591', '0', '3', '35', '7.125']\n",
            "['592', '1', '1', '52', '78.2667']\n",
            "['593', '0', '3', '47', '7.25']\n",
            "['594', '0', '3', '', '7.75']\n",
            "['595', '0', '2', '37', '26']\n",
            "['596', '0', '3', '36', '24.15']\n",
            "['597', '1', '2', '', '33']\n",
            "['598', '0', '3', '49', '0']\n",
            "['599', '0', '3', '', '7.225']\n",
            "['600', '1', '1', '49', '56.9292']\n",
            "['601', '1', '2', '24', '27']\n",
            "['602', '0', '3', '', '7.8958']\n",
            "['603', '0', '1', '', '42.4']\n",
            "['604', '0', '3', '44', '8.05']\n",
            "['605', '1', '1', '35', '26.55']\n",
            "['606', '0', '3', '36', '15.55']\n",
            "['607', '0', '3', '30', '7.8958']\n",
            "['608', '1', '1', '27', '30.5']\n",
            "['609', '1', '2', '22', '41.5792']\n",
            "['610', '1', '1', '40', '153.4625']\n",
            "['611', '0', '3', '39', '31.275']\n",
            "['612', '0', '3', '', '7.05']\n",
            "['613', '1', '3', '', '15.5']\n",
            "['614', '0', '3', '', '7.75']\n",
            "['615', '0', '3', '35', '8.05']\n",
            "['616', '1', '2', '24', '65']\n",
            "['617', '0', '3', '34', '14.4']\n",
            "['618', '0', '3', '26', '16.1']\n",
            "['619', '1', '2', '4', '39']\n",
            "['620', '0', '2', '26', '10.5']\n",
            "['621', '0', '3', '27', '14.4542']\n",
            "['622', '1', '1', '42', '52.5542']\n",
            "['623', '1', '3', '20', '15.7417']\n",
            "['624', '0', '3', '21', '7.8542']\n",
            "['625', '0', '3', '21', '16.1']\n",
            "['626', '0', '1', '61', '32.3208']\n",
            "['627', '0', '2', '57', '12.35']\n",
            "['628', '1', '1', '21', '77.9583']\n",
            "['629', '0', '3', '26', '7.8958']\n",
            "['630', '0', '3', '', '7.7333']\n",
            "['631', '1', '1', '80', '30']\n",
            "['632', '0', '3', '51', '7.0542']\n",
            "['633', '1', '1', '32', '30.5']\n",
            "['634', '0', '1', '', '0']\n",
            "['635', '0', '3', '9', '27.9']\n",
            "['636', '1', '2', '28', '13']\n",
            "['637', '0', '3', '32', '7.925']\n",
            "['638', '0', '2', '31', '26.25']\n",
            "['639', '0', '3', '41', '39.6875']\n",
            "['640', '0', '3', '', '16.1']\n",
            "['641', '0', '3', '20', '7.8542']\n",
            "['642', '1', '1', '24', '69.3']\n",
            "['643', '0', '3', '2', '27.9']\n",
            "['644', '1', '3', '', '56.4958']\n",
            "['645', '1', '3', '0.75', '19.2583']\n",
            "['646', '1', '1', '48', '76.7292']\n",
            "['647', '0', '3', '19', '7.8958']\n",
            "['648', '1', '1', '56', '35.5']\n",
            "['649', '0', '3', '', '7.55']\n",
            "['650', '1', '3', '23', '7.55']\n",
            "['651', '0', '3', '', '7.8958']\n",
            "['652', '1', '2', '18', '23']\n",
            "['653', '0', '3', '21', '8.4333']\n",
            "['654', '1', '3', '', '7.8292']\n",
            "['655', '0', '3', '18', '6.75']\n",
            "['656', '0', '2', '24', '73.5']\n",
            "['657', '0', '3', '', '7.8958']\n",
            "['658', '0', '3', '32', '15.5']\n",
            "['659', '0', '2', '23', '13']\n",
            "['660', '0', '1', '58', '113.275']\n",
            "['661', '1', '1', '50', '133.65']\n",
            "['662', '0', '3', '40', '7.225']\n",
            "['663', '0', '1', '47', '25.5875']\n",
            "['664', '0', '3', '36', '7.4958']\n",
            "['665', '1', '3', '20', '7.925']\n",
            "['666', '0', '2', '32', '73.5']\n",
            "['667', '0', '2', '25', '13']\n",
            "['668', '0', '3', '', '7.775']\n",
            "['669', '0', '3', '43', '8.05']\n",
            "['670', '1', '1', '', '52']\n",
            "['671', '1', '2', '40', '39']\n",
            "['672', '0', '1', '31', '52']\n",
            "['673', '0', '2', '70', '10.5']\n",
            "['674', '1', '2', '31', '13']\n",
            "['675', '0', '2', '', '0']\n",
            "['676', '0', '3', '18', '7.775']\n",
            "['677', '0', '3', '24.5', '8.05']\n",
            "['678', '1', '3', '18', '9.8417']\n",
            "['679', '0', '3', '43', '46.9']\n",
            "['680', '1', '1', '36', '512.3292']\n",
            "['681', '0', '3', '', '8.1375']\n",
            "['682', '1', '1', '27', '76.7292']\n",
            "['683', '0', '3', '20', '9.225']\n",
            "['684', '0', '3', '14', '46.9']\n",
            "['685', '0', '2', '60', '39']\n",
            "['686', '0', '2', '25', '41.5792']\n",
            "['687', '0', '3', '14', '39.6875']\n",
            "['688', '0', '3', '19', '10.1708']\n",
            "['689', '0', '3', '18', '7.7958']\n",
            "['690', '1', '1', '15', '211.3375']\n",
            "['691', '1', '1', '31', '57']\n",
            "['692', '1', '3', '4', '13.4167']\n",
            "['693', '1', '3', '', '56.4958']\n",
            "['694', '0', '3', '25', '7.225']\n",
            "['695', '0', '1', '60', '26.55']\n",
            "['696', '0', '2', '52', '13.5']\n",
            "['697', '0', '3', '44', '8.05']\n",
            "['698', '1', '3', '', '7.7333']\n",
            "['699', '0', '1', '49', '110.8833']\n",
            "['700', '0', '3', '42', '7.65']\n",
            "['701', '1', '1', '18', '227.525']\n",
            "['702', '1', '1', '35', '26.2875']\n",
            "['703', '0', '3', '18', '14.4542']\n",
            "['704', '0', '3', '25', '7.7417']\n",
            "['705', '0', '3', '26', '7.8542']\n",
            "['706', '0', '2', '39', '26']\n",
            "['707', '1', '2', '45', '13.5']\n",
            "['708', '1', '1', '42', '26.2875']\n",
            "['709', '1', '1', '22', '151.55']\n",
            "['710', '1', '3', '', '15.2458']\n",
            "['711', '1', '1', '24', '49.5042']\n",
            "['712', '0', '1', '', '26.55']\n",
            "['713', '1', '1', '48', '52']\n",
            "['714', '0', '3', '29', '9.4833']\n",
            "['715', '0', '2', '52', '13']\n",
            "['716', '0', '3', '19', '7.65']\n",
            "['717', '1', '1', '38', '227.525']\n",
            "['718', '1', '2', '27', '10.5']\n",
            "['719', '0', '3', '', '15.5']\n",
            "['720', '0', '3', '33', '7.775']\n",
            "['721', '1', '2', '6', '33']\n",
            "['722', '0', '3', '17', '7.0542']\n",
            "['723', '0', '2', '34', '13']\n",
            "['724', '0', '2', '50', '13']\n",
            "['725', '1', '1', '27', '53.1']\n",
            "['726', '0', '3', '20', '8.6625']\n",
            "['727', '1', '2', '30', '21']\n",
            "['728', '1', '3', '', '7.7375']\n",
            "['729', '0', '2', '25', '26']\n",
            "['730', '0', '3', '25', '7.925']\n",
            "['731', '1', '1', '29', '211.3375']\n",
            "['732', '0', '3', '11', '18.7875']\n",
            "['733', '0', '2', '', '0']\n",
            "['734', '0', '2', '23', '13']\n",
            "['735', '0', '2', '23', '13']\n",
            "['736', '0', '3', '28.5', '16.1']\n",
            "['737', '0', '3', '48', '34.375']\n",
            "['738', '1', '1', '35', '512.3292']\n",
            "['739', '0', '3', '', '7.8958']\n",
            "['740', '0', '3', '', '7.8958']\n",
            "['741', '1', '1', '', '30']\n",
            "['742', '0', '1', '36', '78.85']\n",
            "['743', '1', '1', '21', '262.375']\n",
            "['744', '0', '3', '24', '16.1']\n",
            "['745', '1', '3', '31', '7.925']\n",
            "['746', '0', '1', '70', '71']\n",
            "['747', '0', '3', '16', '20.25']\n",
            "['748', '1', '2', '30', '13']\n",
            "['749', '0', '1', '19', '53.1']\n",
            "['750', '0', '3', '31', '7.75']\n",
            "['751', '1', '2', '4', '23']\n",
            "['752', '1', '3', '6', '12.475']\n",
            "['753', '0', '3', '33', '9.5']\n",
            "['754', '0', '3', '23', '7.8958']\n",
            "['755', '1', '2', '48', '65']\n",
            "['756', '1', '2', '0.67', '14.5']\n",
            "['757', '0', '3', '28', '7.7958']\n",
            "['758', '0', '2', '18', '11.5']\n",
            "['759', '0', '3', '34', '8.05']\n",
            "['760', '1', '1', '33', '86.5']\n",
            "['761', '0', '3', '', '14.5']\n",
            "['762', '0', '3', '41', '7.125']\n",
            "['763', '1', '3', '20', '7.2292']\n",
            "['764', '1', '1', '36', '120']\n",
            "['765', '0', '3', '16', '7.775']\n",
            "['766', '1', '1', '51', '77.9583']\n",
            "['767', '0', '1', '', '39.6']\n",
            "['768', '0', '3', '30.5', '7.75']\n",
            "['769', '0', '3', '', '24.15']\n",
            "['770', '0', '3', '32', '8.3625']\n",
            "['771', '0', '3', '24', '9.5']\n",
            "['772', '0', '3', '48', '7.8542']\n",
            "['773', '0', '2', '57', '10.5']\n",
            "['774', '0', '3', '', '7.225']\n",
            "['775', '1', '2', '54', '23']\n",
            "['776', '0', '3', '18', '7.75']\n",
            "['777', '0', '3', '', '7.75']\n",
            "['778', '1', '3', '5', '12.475']\n",
            "['779', '0', '3', '', '7.7375']\n",
            "['780', '1', '1', '43', '211.3375']\n",
            "['781', '1', '3', '13', '7.2292']\n",
            "['782', '1', '1', '17', '57']\n",
            "['783', '0', '1', '29', '30']\n",
            "['784', '0', '3', '', '23.45']\n",
            "['785', '0', '3', '25', '7.05']\n",
            "['786', '0', '3', '25', '7.25']\n",
            "['787', '1', '3', '18', '7.4958']\n",
            "['788', '0', '3', '8', '29.125']\n",
            "['789', '1', '3', '1', '20.575']\n",
            "['790', '0', '1', '46', '79.2']\n",
            "['791', '0', '3', '', '7.75']\n",
            "['792', '0', '2', '16', '26']\n",
            "['793', '0', '3', '', '69.55']\n",
            "['794', '0', '1', '', '30.6958']\n",
            "['795', '0', '3', '25', '7.8958']\n",
            "['796', '0', '2', '39', '13']\n",
            "['797', '1', '1', '49', '25.9292']\n",
            "['798', '1', '3', '31', '8.6833']\n",
            "['799', '0', '3', '30', '7.2292']\n",
            "['800', '0', '3', '30', '24.15']\n",
            "['801', '0', '2', '34', '13']\n",
            "['802', '1', '2', '31', '26.25']\n",
            "['803', '1', '1', '11', '120']\n",
            "['804', '1', '3', '0.42', '8.5167']\n",
            "['805', '1', '3', '27', '6.975']\n",
            "['806', '0', '3', '31', '7.775']\n",
            "['807', '0', '1', '39', '0']\n",
            "['808', '0', '3', '18', '7.775']\n",
            "['809', '0', '2', '39', '13']\n",
            "['810', '1', '1', '33', '53.1']\n",
            "['811', '0', '3', '26', '7.8875']\n",
            "['812', '0', '3', '39', '24.15']\n",
            "['813', '0', '2', '35', '10.5']\n",
            "['814', '0', '3', '6', '31.275']\n",
            "['815', '0', '3', '30.5', '8.05']\n",
            "['816', '0', '1', '', '0']\n",
            "['817', '0', '3', '23', '7.925']\n",
            "['818', '0', '2', '31', '37.0042']\n",
            "['819', '0', '3', '43', '6.45']\n",
            "['820', '0', '3', '10', '27.9']\n",
            "['821', '1', '1', '52', '93.5']\n",
            "['822', '1', '3', '27', '8.6625']\n",
            "['823', '0', '1', '38', '0']\n",
            "['824', '1', '3', '27', '12.475']\n",
            "['825', '0', '3', '2', '39.6875']\n",
            "['826', '0', '3', '', '6.95']\n",
            "['827', '0', '3', '', '56.4958']\n",
            "['828', '1', '2', '1', '37.0042']\n",
            "['829', '1', '3', '', '7.75']\n",
            "['830', '1', '1', '62', '80']\n",
            "['831', '1', '3', '15', '14.4542']\n",
            "['832', '1', '2', '0.83', '18.75']\n",
            "['833', '0', '3', '', '7.2292']\n",
            "['834', '0', '3', '23', '7.8542']\n",
            "['835', '0', '3', '18', '8.3']\n",
            "['836', '1', '1', '39', '83.1583']\n",
            "['837', '0', '3', '21', '8.6625']\n",
            "['838', '0', '3', '', '8.05']\n",
            "['839', '1', '3', '32', '56.4958']\n",
            "['840', '1', '1', '', '29.7']\n",
            "['841', '0', '3', '20', '7.925']\n",
            "['842', '0', '2', '16', '10.5']\n",
            "['843', '1', '1', '30', '31']\n",
            "['844', '0', '3', '34.5', '6.4375']\n",
            "['845', '0', '3', '17', '8.6625']\n",
            "['846', '0', '3', '42', '7.55']\n",
            "['847', '0', '3', '', '69.55']\n",
            "['848', '0', '3', '35', '7.8958']\n",
            "['849', '0', '2', '28', '33']\n",
            "['850', '1', '1', '', '89.1042']\n",
            "['851', '0', '3', '4', '31.275']\n",
            "['852', '0', '3', '74', '7.775']\n",
            "['853', '0', '3', '9', '15.2458']\n",
            "['854', '1', '1', '16', '39.4']\n",
            "['855', '0', '2', '44', '26']\n",
            "['856', '1', '3', '18', '9.35']\n",
            "['857', '1', '1', '45', '164.8667']\n",
            "['858', '1', '1', '51', '26.55']\n",
            "['859', '1', '3', '24', '19.2583']\n",
            "['860', '0', '3', '', '7.2292']\n",
            "['861', '0', '3', '41', '14.1083']\n",
            "['862', '0', '2', '21', '11.5']\n",
            "['863', '1', '1', '48', '25.9292']\n",
            "['864', '0', '3', '', '69.55']\n",
            "['865', '0', '2', '24', '13']\n",
            "['866', '1', '2', '42', '13']\n",
            "['867', '1', '2', '27', '13.8583']\n",
            "['868', '0', '1', '31', '50.4958']\n",
            "['869', '0', '3', '', '9.5']\n",
            "['870', '1', '3', '4', '11.1333']\n",
            "['871', '0', '3', '26', '7.8958']\n",
            "['872', '1', '1', '47', '52.5542']\n",
            "['873', '0', '1', '33', '5']\n",
            "['874', '0', '3', '47', '9']\n",
            "['875', '1', '2', '28', '24']\n",
            "['876', '1', '3', '15', '7.225']\n",
            "['877', '0', '3', '20', '9.8458']\n",
            "['878', '0', '3', '19', '7.8958']\n",
            "['879', '0', '3', '', '7.8958']\n",
            "['880', '1', '1', '56', '83.1583']\n",
            "['881', '1', '2', '25', '26']\n",
            "['882', '0', '3', '33', '7.8958']\n",
            "['883', '0', '3', '22', '10.5167']\n",
            "['884', '0', '2', '28', '10.5']\n",
            "['885', '0', '3', '25', '7.05']\n",
            "['886', '0', '3', '39', '29.125']\n",
            "['887', '0', '2', '27', '13']\n",
            "['888', '1', '1', '19', '30']\n",
            "['889', '0', '3', '', '23.45']\n",
            "['890', '1', '1', '26', '30']\n",
            "['891', '0', '3', '32', '7.75']\n"
          ]
        }
      ]
    },
    {
      "cell_type": "code",
      "source": [
        "import numpy as np\n",
        "import pandas as pd\n",
        "import matplotlib.pyplot as plt\n",
        "df1=pd.read_csv('/content/titanic1.csv')\n",
        "a=df1.head\n",
        "x=df1.iloc[:,:-1]\n",
        "y=df1.iloc[:,1]\n",
        "from sklearn.model_selection import train_test_split\n",
        "x_train, x_test, y_train, y_test = train_test_split(x,y,test_size = 1/3,random_state=0)\n",
        "from sklearn.linear_model import LinearRegression\n",
        "regressor = LinearRegression()\n",
        "regressor.fit(x_train,y_train)\n",
        "y_pred = regressor.predict(x_test)\n",
        "y_pred\n",
        "y_test\n",
        "plt.scatter(x_train, y_train, color='red')\n",
        "plt.plot(x_train, regressor.predict(x_train),color='blue')\n",
        "plt.title(\"Titanic\")\n",
        "plt.xlabel(\"Age\")\n",
        "plt.ylabel(\"Fare\")\n",
        "plt.show"
      ],
      "metadata": {
        "colab": {
          "base_uri": "https://localhost:8080/",
          "height": 515
        },
        "id": "OwDEM_-TjIzk",
        "outputId": "b82a0a1a-1888-4d49-a5ad-7388a1419e64"
      },
      "execution_count": null,
      "outputs": [
        {
          "output_type": "error",
          "ename": "ValueError",
          "evalue": "ignored",
          "traceback": [
            "\u001b[0;31m---------------------------------------------------------------------------\u001b[0m",
            "\u001b[0;31mValueError\u001b[0m                                Traceback (most recent call last)",
            "\u001b[0;32m<ipython-input-3-3ef9acd29b03>\u001b[0m in \u001b[0;36m<cell line: 12>\u001b[0;34m()\u001b[0m\n\u001b[1;32m     10\u001b[0m \u001b[0;32mfrom\u001b[0m \u001b[0msklearn\u001b[0m\u001b[0;34m.\u001b[0m\u001b[0mlinear_model\u001b[0m \u001b[0;32mimport\u001b[0m \u001b[0mLinearRegression\u001b[0m\u001b[0;34m\u001b[0m\u001b[0;34m\u001b[0m\u001b[0m\n\u001b[1;32m     11\u001b[0m \u001b[0mregressor\u001b[0m \u001b[0;34m=\u001b[0m \u001b[0mLinearRegression\u001b[0m\u001b[0;34m(\u001b[0m\u001b[0;34m)\u001b[0m\u001b[0;34m\u001b[0m\u001b[0;34m\u001b[0m\u001b[0m\n\u001b[0;32m---> 12\u001b[0;31m \u001b[0mregressor\u001b[0m\u001b[0;34m.\u001b[0m\u001b[0mfit\u001b[0m\u001b[0;34m(\u001b[0m\u001b[0mx_train\u001b[0m\u001b[0;34m,\u001b[0m\u001b[0my_train\u001b[0m\u001b[0;34m)\u001b[0m\u001b[0;34m\u001b[0m\u001b[0;34m\u001b[0m\u001b[0m\n\u001b[0m\u001b[1;32m     13\u001b[0m \u001b[0my_pred\u001b[0m \u001b[0;34m=\u001b[0m \u001b[0mregressor\u001b[0m\u001b[0;34m.\u001b[0m\u001b[0mpredict\u001b[0m\u001b[0;34m(\u001b[0m\u001b[0mx_test\u001b[0m\u001b[0;34m)\u001b[0m\u001b[0;34m\u001b[0m\u001b[0;34m\u001b[0m\u001b[0m\n\u001b[1;32m     14\u001b[0m \u001b[0my_pred\u001b[0m\u001b[0;34m\u001b[0m\u001b[0;34m\u001b[0m\u001b[0m\n",
            "\u001b[0;32m/usr/local/lib/python3.10/dist-packages/sklearn/linear_model/_base.py\u001b[0m in \u001b[0;36mfit\u001b[0;34m(self, X, y, sample_weight)\u001b[0m\n\u001b[1;32m    646\u001b[0m         \u001b[0maccept_sparse\u001b[0m \u001b[0;34m=\u001b[0m \u001b[0;32mFalse\u001b[0m \u001b[0;32mif\u001b[0m \u001b[0mself\u001b[0m\u001b[0;34m.\u001b[0m\u001b[0mpositive\u001b[0m \u001b[0;32melse\u001b[0m \u001b[0;34m[\u001b[0m\u001b[0;34m\"csr\"\u001b[0m\u001b[0;34m,\u001b[0m \u001b[0;34m\"csc\"\u001b[0m\u001b[0;34m,\u001b[0m \u001b[0;34m\"coo\"\u001b[0m\u001b[0;34m]\u001b[0m\u001b[0;34m\u001b[0m\u001b[0;34m\u001b[0m\u001b[0m\n\u001b[1;32m    647\u001b[0m \u001b[0;34m\u001b[0m\u001b[0m\n\u001b[0;32m--> 648\u001b[0;31m         X, y = self._validate_data(\n\u001b[0m\u001b[1;32m    649\u001b[0m             \u001b[0mX\u001b[0m\u001b[0;34m,\u001b[0m \u001b[0my\u001b[0m\u001b[0;34m,\u001b[0m \u001b[0maccept_sparse\u001b[0m\u001b[0;34m=\u001b[0m\u001b[0maccept_sparse\u001b[0m\u001b[0;34m,\u001b[0m \u001b[0my_numeric\u001b[0m\u001b[0;34m=\u001b[0m\u001b[0;32mTrue\u001b[0m\u001b[0;34m,\u001b[0m \u001b[0mmulti_output\u001b[0m\u001b[0;34m=\u001b[0m\u001b[0;32mTrue\u001b[0m\u001b[0;34m\u001b[0m\u001b[0;34m\u001b[0m\u001b[0m\n\u001b[1;32m    650\u001b[0m         )\n",
            "\u001b[0;32m/usr/local/lib/python3.10/dist-packages/sklearn/base.py\u001b[0m in \u001b[0;36m_validate_data\u001b[0;34m(self, X, y, reset, validate_separately, **check_params)\u001b[0m\n\u001b[1;32m    582\u001b[0m                 \u001b[0my\u001b[0m \u001b[0;34m=\u001b[0m \u001b[0mcheck_array\u001b[0m\u001b[0;34m(\u001b[0m\u001b[0my\u001b[0m\u001b[0;34m,\u001b[0m \u001b[0minput_name\u001b[0m\u001b[0;34m=\u001b[0m\u001b[0;34m\"y\"\u001b[0m\u001b[0;34m,\u001b[0m \u001b[0;34m**\u001b[0m\u001b[0mcheck_y_params\u001b[0m\u001b[0;34m)\u001b[0m\u001b[0;34m\u001b[0m\u001b[0;34m\u001b[0m\u001b[0m\n\u001b[1;32m    583\u001b[0m             \u001b[0;32melse\u001b[0m\u001b[0;34m:\u001b[0m\u001b[0;34m\u001b[0m\u001b[0;34m\u001b[0m\u001b[0m\n\u001b[0;32m--> 584\u001b[0;31m                 \u001b[0mX\u001b[0m\u001b[0;34m,\u001b[0m \u001b[0my\u001b[0m \u001b[0;34m=\u001b[0m \u001b[0mcheck_X_y\u001b[0m\u001b[0;34m(\u001b[0m\u001b[0mX\u001b[0m\u001b[0;34m,\u001b[0m \u001b[0my\u001b[0m\u001b[0;34m,\u001b[0m \u001b[0;34m**\u001b[0m\u001b[0mcheck_params\u001b[0m\u001b[0;34m)\u001b[0m\u001b[0;34m\u001b[0m\u001b[0;34m\u001b[0m\u001b[0m\n\u001b[0m\u001b[1;32m    585\u001b[0m             \u001b[0mout\u001b[0m \u001b[0;34m=\u001b[0m \u001b[0mX\u001b[0m\u001b[0;34m,\u001b[0m \u001b[0my\u001b[0m\u001b[0;34m\u001b[0m\u001b[0;34m\u001b[0m\u001b[0m\n\u001b[1;32m    586\u001b[0m \u001b[0;34m\u001b[0m\u001b[0m\n",
            "\u001b[0;32m/usr/local/lib/python3.10/dist-packages/sklearn/utils/validation.py\u001b[0m in \u001b[0;36mcheck_X_y\u001b[0;34m(X, y, accept_sparse, accept_large_sparse, dtype, order, copy, force_all_finite, ensure_2d, allow_nd, multi_output, ensure_min_samples, ensure_min_features, y_numeric, estimator)\u001b[0m\n\u001b[1;32m   1104\u001b[0m         )\n\u001b[1;32m   1105\u001b[0m \u001b[0;34m\u001b[0m\u001b[0m\n\u001b[0;32m-> 1106\u001b[0;31m     X = check_array(\n\u001b[0m\u001b[1;32m   1107\u001b[0m         \u001b[0mX\u001b[0m\u001b[0;34m,\u001b[0m\u001b[0;34m\u001b[0m\u001b[0;34m\u001b[0m\u001b[0m\n\u001b[1;32m   1108\u001b[0m         \u001b[0maccept_sparse\u001b[0m\u001b[0;34m=\u001b[0m\u001b[0maccept_sparse\u001b[0m\u001b[0;34m,\u001b[0m\u001b[0;34m\u001b[0m\u001b[0;34m\u001b[0m\u001b[0m\n",
            "\u001b[0;32m/usr/local/lib/python3.10/dist-packages/sklearn/utils/validation.py\u001b[0m in \u001b[0;36mcheck_array\u001b[0;34m(array, accept_sparse, accept_large_sparse, dtype, order, copy, force_all_finite, ensure_2d, allow_nd, ensure_min_samples, ensure_min_features, estimator, input_name)\u001b[0m\n\u001b[1;32m    919\u001b[0m \u001b[0;34m\u001b[0m\u001b[0m\n\u001b[1;32m    920\u001b[0m         \u001b[0;32mif\u001b[0m \u001b[0mforce_all_finite\u001b[0m\u001b[0;34m:\u001b[0m\u001b[0;34m\u001b[0m\u001b[0;34m\u001b[0m\u001b[0m\n\u001b[0;32m--> 921\u001b[0;31m             _assert_all_finite(\n\u001b[0m\u001b[1;32m    922\u001b[0m                 \u001b[0marray\u001b[0m\u001b[0;34m,\u001b[0m\u001b[0;34m\u001b[0m\u001b[0;34m\u001b[0m\u001b[0m\n\u001b[1;32m    923\u001b[0m                 \u001b[0minput_name\u001b[0m\u001b[0;34m=\u001b[0m\u001b[0minput_name\u001b[0m\u001b[0;34m,\u001b[0m\u001b[0;34m\u001b[0m\u001b[0;34m\u001b[0m\u001b[0m\n",
            "\u001b[0;32m/usr/local/lib/python3.10/dist-packages/sklearn/utils/validation.py\u001b[0m in \u001b[0;36m_assert_all_finite\u001b[0;34m(X, allow_nan, msg_dtype, estimator_name, input_name)\u001b[0m\n\u001b[1;32m    159\u001b[0m                 \u001b[0;34m\"#estimators-that-handle-nan-values\"\u001b[0m\u001b[0;34m\u001b[0m\u001b[0;34m\u001b[0m\u001b[0m\n\u001b[1;32m    160\u001b[0m             )\n\u001b[0;32m--> 161\u001b[0;31m         \u001b[0;32mraise\u001b[0m \u001b[0mValueError\u001b[0m\u001b[0;34m(\u001b[0m\u001b[0mmsg_err\u001b[0m\u001b[0;34m)\u001b[0m\u001b[0;34m\u001b[0m\u001b[0;34m\u001b[0m\u001b[0m\n\u001b[0m\u001b[1;32m    162\u001b[0m \u001b[0;34m\u001b[0m\u001b[0m\n\u001b[1;32m    163\u001b[0m \u001b[0;34m\u001b[0m\u001b[0m\n",
            "\u001b[0;31mValueError\u001b[0m: Input X contains NaN.\nLinearRegression does not accept missing values encoded as NaN natively. For supervised learning, you might want to consider sklearn.ensemble.HistGradientBoostingClassifier and Regressor which accept missing values encoded as NaNs natively. Alternatively, it is possible to preprocess the data, for instance by using an imputer transformer in a pipeline or drop samples with missing values. See https://scikit-learn.org/stable/modules/impute.html You can find a list of all estimators that handle NaN values at the following page: https://scikit-learn.org/stable/modules/impute.html#estimators-that-handle-nan-values"
          ]
        }
      ]
    },
    {
      "cell_type": "code",
      "source": [
        "import matplotlib.pyplot as plt\n",
        "from sklearn.neighbors import KNeighborsClassifier\n",
        "x = [4,5,10,4,3,11,14,8,10,12]\n",
        "y = [21,19,24,17,16,25,24,22,21,21]\n",
        "classes = [0,0,1,0,0,1,1,0,1,1]\n",
        "plt.scatter(x,y,c=classes)\n",
        "plt.show()\n",
        "data = list(zip(x,y))\n",
        "knn = KNeighborsClassifier(n_neighbors=1)\n",
        "knn.fit(data,classes)\n",
        "new_x = 8\n",
        "new_y = 21\n",
        "new_point = [(new_x,new_y)]\n",
        "prediction = knn.predict(new_point)\n",
        "plt.scatter(x+[new_x],y+[new_y],c=classes+[prediction[0]])\n",
        "plt.text(x=new_x-1.7,y=new_y-0.7,s=f\"new point,class:(prediction[0])\")\n",
        "plt.show()"
      ],
      "metadata": {
        "colab": {
          "base_uri": "https://localhost:8080/",
          "height": 843
        },
        "id": "PXYf9VtY-dyi",
        "outputId": "3ada4dba-92af-4be6-c00a-783618984b32"
      },
      "execution_count": null,
      "outputs": [
        {
          "output_type": "display_data",
          "data": {
            "text/plain": [
              "<Figure size 640x480 with 1 Axes>"
            ],
            "image/png": "[encoded data removed]"
          },
          "metadata": {}
        },
        {
          "output_type": "display_data",
          "data": {
            "text/plain": [
              "<Figure size 640x480 with 1 Axes>"
            ],
            "image/png": "[encoded data removed]"
          },
          "metadata": {}
        }
      ]
    },
    {
      "cell_type": "code",
      "source": [
        "import matplotlib.pyplot as plt\n",
        "from sklearn.cluster import KMeans\n",
        "x = [4,5,10,4,3,11,14,8,10,12]\n",
        "y = [21,19,24,17,16,25,24,22,21,21]\n",
        "plt.scatter(x,y)\n",
        "plt.show()\n",
        "data = list(zip(x,y))\n",
        "inertia = []\n",
        "for i in range(1,11):\n",
        "  kmeans = KMeans(n_clusters=i)\n",
        "  kmeans.fit(data)\n",
        "  inertia.append(kmeans.inertia_)\n",
        "plt.plot(range(1,11),inertia,marker='o')\n",
        "plt.xlabel('Number of clusters')\n",
        "plt.ylabel('Inertia')\n",
        "plt.show()\n",
        "kmeans= KMeans(n_clusters=5)\n",
        "kmeans.fit(data)\n",
        "plt.scatter(x,y,c=kmeans.labels_)\n",
        "plt.show()"
      ],
      "metadata": {
        "colab": {
          "base_uri": "https://localhost:8080/",
          "height": 1000
        },
        "id": "fN6UmmXhCesy",
        "outputId": "0787f815-9e38-4ee9-e95e-89b27b86f0c9"
      },
      "execution_count": null,
      "outputs": [
        {
          "output_type": "display_data",
          "data": {
            "text/plain": [
              "<Figure size 640x480 with 1 Axes>"
            ],
            "image/png": "[encoded data removed]"
          },
          "metadata": {}
        },
        {
          "output_type": "stream",
          "name": "stderr",
          "text": [
            "/usr/local/lib/python3.10/dist-packages/sklearn/cluster/_kmeans.py:870: FutureWarning: The default value of `n_init` will change from 10 to 'auto' in 1.4. Set the value of `n_init` explicitly to suppress the warning\n",
            "  warnings.warn(\n",
            "/usr/local/lib/python3.10/dist-packages/sklearn/cluster/_kmeans.py:870: FutureWarning: The default value of `n_init` will change from 10 to 'auto' in 1.4. Set the value of `n_init` explicitly to suppress the warning\n",
            "  warnings.warn(\n",
            "/usr/local/lib/python3.10/dist-packages/sklearn/cluster/_kmeans.py:870: FutureWarning: The default value of `n_init` will change from 10 to 'auto' in 1.4. Set the value of `n_init` explicitly to suppress the warning\n",
            "  warnings.warn(\n",
            "/usr/local/lib/python3.10/dist-packages/sklearn/cluster/_kmeans.py:870: FutureWarning: The default value of `n_init` will change from 10 to 'auto' in 1.4. Set the value of `n_init` explicitly to suppress the warning\n",
            "  warnings.warn(\n",
            "/usr/local/lib/python3.10/dist-packages/sklearn/cluster/_kmeans.py:870: FutureWarning: The default value of `n_init` will change from 10 to 'auto' in 1.4. Set the value of `n_init` explicitly to suppress the warning\n",
            "  warnings.warn(\n",
            "/usr/local/lib/python3.10/dist-packages/sklearn/cluster/_kmeans.py:870: FutureWarning: The default value of `n_init` will change from 10 to 'auto' in 1.4. Set the value of `n_init` explicitly to suppress the warning\n",
            "  warnings.warn(\n",
            "/usr/local/lib/python3.10/dist-packages/sklearn/cluster/_kmeans.py:870: FutureWarning: The default value of `n_init` will change from 10 to 'auto' in 1.4. Set the value of `n_init` explicitly to suppress the warning\n",
            "  warnings.warn(\n",
            "/usr/local/lib/python3.10/dist-packages/sklearn/cluster/_kmeans.py:870: FutureWarning: The default value of `n_init` will change from 10 to 'auto' in 1.4. Set the value of `n_init` explicitly to suppress the warning\n",
            "  warnings.warn(\n",
            "/usr/local/lib/python3.10/dist-packages/sklearn/cluster/_kmeans.py:870: FutureWarning: The default value of `n_init` will change from 10 to 'auto' in 1.4. Set the value of `n_init` explicitly to suppress the warning\n",
            "  warnings.warn(\n",
            "/usr/local/lib/python3.10/dist-packages/sklearn/cluster/_kmeans.py:870: FutureWarning: The default value of `n_init` will change from 10 to 'auto' in 1.4. Set the value of `n_init` explicitly to suppress the warning\n",
            "  warnings.warn(\n"
          ]
        },
        {
          "output_type": "display_data",
          "data": {
            "text/plain": [
              "<Figure size 640x480 with 1 Axes>"
            ],
            "image/png": "[encoded data removed]"
          },
          "metadata": {}
        },
        {
          "output_type": "stream",
          "name": "stderr",
          "text": [
            "/usr/local/lib/python3.10/dist-packages/sklearn/cluster/_kmeans.py:870: FutureWarning: The default value of `n_init` will change from 10 to 'auto' in 1.4. Set the value of `n_init` explicitly to suppress the warning\n",
            "  warnings.warn(\n"
          ]
        },
        {
          "output_type": "display_data",
          "data": {
            "text/plain": [
              "<Figure size 640x480 with 1 Axes>"
            ],
            "image/png": "[encoded data removed]"
          },
          "metadata": {}
        }
      ]
    },
    {
      "cell_type": "code",
      "source": [
        "import matplotlib.pyplot as plt\n",
        "from sklearn.neighbors import KNeighborsClassifier\n",
        "import pandas as pd\n",
        "df=pd.read_csv('/content/titanic1.csv')\n",
        "df1 = df.values.tolist()\n",
        "df2=pd.read_csv('/content/EMP 1.csv')\n",
        "df3 = df2.values.tolist()\n",
        "classes = [0,0,1,0,0,1,1,0,1,1]\n",
        "plt.scatter(df1,df3,c=classes)\n",
        "plt.show()\n",
        "data = list(zip(df1,df3))\n",
        "knn = KNeighborsClassifier(n_neighbors=1)\n",
        "knn.fit(data,classes)\n",
        "new_x = Pclass\n",
        "new_y = Age\n",
        "new_point = [(new_x,new_y)]\n",
        "prediction = knn.predict(new_point)\n",
        "plt.scatter(x+[new_x],y+[new_y],c=classes+[prediction[0]])\n",
        "plt.text(x=new_x-1.7,y=new_y-0.7,s=f\"new point,class:(prediction[0])\")\n",
        "plt.show()"
      ],
      "metadata": {
        "colab": {
          "base_uri": "https://localhost:8080/",
          "height": 816
        },
        "id": "L9PutQvWIkNo",
        "outputId": "04b357aa-871d-4220-c9f8-22e5df7119bc"
      },
      "execution_count": null,
      "outputs": [
        {
          "output_type": "error",
          "ename": "ValueError",
          "evalue": "ignored",
          "traceback": [
            "\u001b[0;31m---------------------------------------------------------------------------\u001b[0m",
            "\u001b[0;31mValueError\u001b[0m                                Traceback (most recent call last)",
            "\u001b[0;32m<ipython-input-9-b8f28755206d>\u001b[0m in \u001b[0;36m<cell line: 9>\u001b[0;34m()\u001b[0m\n\u001b[1;32m      7\u001b[0m \u001b[0mdf3\u001b[0m \u001b[0;34m=\u001b[0m \u001b[0mdf2\u001b[0m\u001b[0;34m.\u001b[0m\u001b[0mvalues\u001b[0m\u001b[0;34m.\u001b[0m\u001b[0mtolist\u001b[0m\u001b[0;34m(\u001b[0m\u001b[0;34m)\u001b[0m\u001b[0;34m\u001b[0m\u001b[0;34m\u001b[0m\u001b[0m\n\u001b[1;32m      8\u001b[0m \u001b[0mclasses\u001b[0m \u001b[0;34m=\u001b[0m \u001b[0;34m[\u001b[0m\u001b[0;36m0\u001b[0m\u001b[0;34m,\u001b[0m\u001b[0;36m0\u001b[0m\u001b[0;34m,\u001b[0m\u001b[0;36m1\u001b[0m\u001b[0;34m,\u001b[0m\u001b[0;36m0\u001b[0m\u001b[0;34m,\u001b[0m\u001b[0;36m0\u001b[0m\u001b[0;34m,\u001b[0m\u001b[0;36m1\u001b[0m\u001b[0;34m,\u001b[0m\u001b[0;36m1\u001b[0m\u001b[0;34m,\u001b[0m\u001b[0;36m0\u001b[0m\u001b[0;34m,\u001b[0m\u001b[0;36m1\u001b[0m\u001b[0;34m,\u001b[0m\u001b[0;36m1\u001b[0m\u001b[0;34m]\u001b[0m\u001b[0;34m\u001b[0m\u001b[0;34m\u001b[0m\u001b[0m\n\u001b[0;32m----> 9\u001b[0;31m \u001b[0mplt\u001b[0m\u001b[0;34m.\u001b[0m\u001b[0mscatter\u001b[0m\u001b[0;34m(\u001b[0m\u001b[0mdf1\u001b[0m\u001b[0;34m,\u001b[0m\u001b[0mdf3\u001b[0m\u001b[0;34m,\u001b[0m\u001b[0mc\u001b[0m\u001b[0;34m=\u001b[0m\u001b[0mclasses\u001b[0m\u001b[0;34m)\u001b[0m\u001b[0;34m\u001b[0m\u001b[0;34m\u001b[0m\u001b[0m\n\u001b[0m\u001b[1;32m     10\u001b[0m \u001b[0mplt\u001b[0m\u001b[0;34m.\u001b[0m\u001b[0mshow\u001b[0m\u001b[0;34m(\u001b[0m\u001b[0;34m)\u001b[0m\u001b[0;34m\u001b[0m\u001b[0;34m\u001b[0m\u001b[0m\n\u001b[1;32m     11\u001b[0m \u001b[0mdata\u001b[0m \u001b[0;34m=\u001b[0m \u001b[0mlist\u001b[0m\u001b[0;34m(\u001b[0m\u001b[0mzip\u001b[0m\u001b[0;34m(\u001b[0m\u001b[0mdf1\u001b[0m\u001b[0;34m,\u001b[0m\u001b[0mdf3\u001b[0m\u001b[0;34m)\u001b[0m\u001b[0;34m)\u001b[0m\u001b[0;34m\u001b[0m\u001b[0;34m\u001b[0m\u001b[0m\n",
            "\u001b[0;32m/usr/local/lib/python3.10/dist-packages/matplotlib/pyplot.py\u001b[0m in \u001b[0;36mscatter\u001b[0;34m(x, y, s, c, marker, cmap, norm, vmin, vmax, alpha, linewidths, edgecolors, plotnonfinite, data, **kwargs)\u001b[0m\n\u001b[1;32m   2860\u001b[0m         \u001b[0mvmin\u001b[0m\u001b[0;34m=\u001b[0m\u001b[0;32mNone\u001b[0m\u001b[0;34m,\u001b[0m \u001b[0mvmax\u001b[0m\u001b[0;34m=\u001b[0m\u001b[0;32mNone\u001b[0m\u001b[0;34m,\u001b[0m \u001b[0malpha\u001b[0m\u001b[0;34m=\u001b[0m\u001b[0;32mNone\u001b[0m\u001b[0;34m,\u001b[0m \u001b[0mlinewidths\u001b[0m\u001b[0;34m=\u001b[0m\u001b[0;32mNone\u001b[0m\u001b[0;34m,\u001b[0m \u001b[0;34m*\u001b[0m\u001b[0;34m,\u001b[0m\u001b[0;34m\u001b[0m\u001b[0;34m\u001b[0m\u001b[0m\n\u001b[1;32m   2861\u001b[0m         edgecolors=None, plotnonfinite=False, data=None, **kwargs):\n\u001b[0;32m-> 2862\u001b[0;31m     __ret = gca().scatter(\n\u001b[0m\u001b[1;32m   2863\u001b[0m         \u001b[0mx\u001b[0m\u001b[0;34m,\u001b[0m \u001b[0my\u001b[0m\u001b[0;34m,\u001b[0m \u001b[0ms\u001b[0m\u001b[0;34m=\u001b[0m\u001b[0ms\u001b[0m\u001b[0;34m,\u001b[0m \u001b[0mc\u001b[0m\u001b[0;34m=\u001b[0m\u001b[0mc\u001b[0m\u001b[0;34m,\u001b[0m \u001b[0mmarker\u001b[0m\u001b[0;34m=\u001b[0m\u001b[0mmarker\u001b[0m\u001b[0;34m,\u001b[0m \u001b[0mcmap\u001b[0m\u001b[0;34m=\u001b[0m\u001b[0mcmap\u001b[0m\u001b[0;34m,\u001b[0m \u001b[0mnorm\u001b[0m\u001b[0;34m=\u001b[0m\u001b[0mnorm\u001b[0m\u001b[0;34m,\u001b[0m\u001b[0;34m\u001b[0m\u001b[0;34m\u001b[0m\u001b[0m\n\u001b[1;32m   2864\u001b[0m         \u001b[0mvmin\u001b[0m\u001b[0;34m=\u001b[0m\u001b[0mvmin\u001b[0m\u001b[0;34m,\u001b[0m \u001b[0mvmax\u001b[0m\u001b[0;34m=\u001b[0m\u001b[0mvmax\u001b[0m\u001b[0;34m,\u001b[0m \u001b[0malpha\u001b[0m\u001b[0;34m=\u001b[0m\u001b[0malpha\u001b[0m\u001b[0;34m,\u001b[0m \u001b[0mlinewidths\u001b[0m\u001b[0;34m=\u001b[0m\u001b[0mlinewidths\u001b[0m\u001b[0;34m,\u001b[0m\u001b[0;34m\u001b[0m\u001b[0;34m\u001b[0m\u001b[0m\n",
            "\u001b[0;32m/usr/local/lib/python3.10/dist-packages/matplotlib/__init__.py\u001b[0m in \u001b[0;36minner\u001b[0;34m(ax, data, *args, **kwargs)\u001b[0m\n\u001b[1;32m   1440\u001b[0m     \u001b[0;32mdef\u001b[0m \u001b[0minner\u001b[0m\u001b[0;34m(\u001b[0m\u001b[0max\u001b[0m\u001b[0;34m,\u001b[0m \u001b[0;34m*\u001b[0m\u001b[0margs\u001b[0m\u001b[0;34m,\u001b[0m \u001b[0mdata\u001b[0m\u001b[0;34m=\u001b[0m\u001b[0;32mNone\u001b[0m\u001b[0;34m,\u001b[0m \u001b[0;34m**\u001b[0m\u001b[0mkwargs\u001b[0m\u001b[0;34m)\u001b[0m\u001b[0;34m:\u001b[0m\u001b[0;34m\u001b[0m\u001b[0;34m\u001b[0m\u001b[0m\n\u001b[1;32m   1441\u001b[0m         \u001b[0;32mif\u001b[0m \u001b[0mdata\u001b[0m \u001b[0;32mis\u001b[0m \u001b[0;32mNone\u001b[0m\u001b[0;34m:\u001b[0m\u001b[0;34m\u001b[0m\u001b[0;34m\u001b[0m\u001b[0m\n\u001b[0;32m-> 1442\u001b[0;31m             \u001b[0;32mreturn\u001b[0m \u001b[0mfunc\u001b[0m\u001b[0;34m(\u001b[0m\u001b[0max\u001b[0m\u001b[0;34m,\u001b[0m \u001b[0;34m*\u001b[0m\u001b[0mmap\u001b[0m\u001b[0;34m(\u001b[0m\u001b[0msanitize_sequence\u001b[0m\u001b[0;34m,\u001b[0m \u001b[0margs\u001b[0m\u001b[0;34m)\u001b[0m\u001b[0;34m,\u001b[0m \u001b[0;34m**\u001b[0m\u001b[0mkwargs\u001b[0m\u001b[0;34m)\u001b[0m\u001b[0;34m\u001b[0m\u001b[0;34m\u001b[0m\u001b[0m\n\u001b[0m\u001b[1;32m   1443\u001b[0m \u001b[0;34m\u001b[0m\u001b[0m\n\u001b[1;32m   1444\u001b[0m         \u001b[0mbound\u001b[0m \u001b[0;34m=\u001b[0m \u001b[0mnew_sig\u001b[0m\u001b[0;34m.\u001b[0m\u001b[0mbind\u001b[0m\u001b[0;34m(\u001b[0m\u001b[0max\u001b[0m\u001b[0;34m,\u001b[0m \u001b[0;34m*\u001b[0m\u001b[0margs\u001b[0m\u001b[0;34m,\u001b[0m \u001b[0;34m**\u001b[0m\u001b[0mkwargs\u001b[0m\u001b[0;34m)\u001b[0m\u001b[0;34m\u001b[0m\u001b[0;34m\u001b[0m\u001b[0m\n",
            "\u001b[0;32m/usr/local/lib/python3.10/dist-packages/matplotlib/axes/_axes.py\u001b[0m in \u001b[0;36mscatter\u001b[0;34m(self, x, y, s, c, marker, cmap, norm, vmin, vmax, alpha, linewidths, edgecolors, plotnonfinite, **kwargs)\u001b[0m\n\u001b[1;32m   4582\u001b[0m         \u001b[0my\u001b[0m \u001b[0;34m=\u001b[0m \u001b[0mnp\u001b[0m\u001b[0;34m.\u001b[0m\u001b[0mma\u001b[0m\u001b[0;34m.\u001b[0m\u001b[0mravel\u001b[0m\u001b[0;34m(\u001b[0m\u001b[0my\u001b[0m\u001b[0;34m)\u001b[0m\u001b[0;34m\u001b[0m\u001b[0;34m\u001b[0m\u001b[0m\n\u001b[1;32m   4583\u001b[0m         \u001b[0;32mif\u001b[0m \u001b[0mx\u001b[0m\u001b[0;34m.\u001b[0m\u001b[0msize\u001b[0m \u001b[0;34m!=\u001b[0m \u001b[0my\u001b[0m\u001b[0;34m.\u001b[0m\u001b[0msize\u001b[0m\u001b[0;34m:\u001b[0m\u001b[0;34m\u001b[0m\u001b[0;34m\u001b[0m\u001b[0m\n\u001b[0;32m-> 4584\u001b[0;31m             \u001b[0;32mraise\u001b[0m \u001b[0mValueError\u001b[0m\u001b[0;34m(\u001b[0m\u001b[0;34m\"x and y must be the same size\"\u001b[0m\u001b[0;34m)\u001b[0m\u001b[0;34m\u001b[0m\u001b[0;34m\u001b[0m\u001b[0m\n\u001b[0m\u001b[1;32m   4585\u001b[0m \u001b[0;34m\u001b[0m\u001b[0m\n\u001b[1;32m   4586\u001b[0m         \u001b[0;32mif\u001b[0m \u001b[0ms\u001b[0m \u001b[0;32mis\u001b[0m \u001b[0;32mNone\u001b[0m\u001b[0;34m:\u001b[0m\u001b[0;34m\u001b[0m\u001b[0;34m\u001b[0m\u001b[0m\n",
            "\u001b[0;31mValueError\u001b[0m: x and y must be the same size"
          ]
        },
        {
          "output_type": "display_data",
          "data": {
            "text/plain": [
              "<Figure size 640x480 with 1 Axes>"
            ],
            "image/png": "[encoded data removed]"
          },
          "metadata": {}
        }
      ]
    },
    {
      "cell_type": "code",
      "source": [],
      "metadata": {
        "id": "8eyGHIzrpAHN"
      },
      "execution_count": null,
      "outputs": []
    }
  ]
}